{
  "cells": [
    {
      "cell_type": "markdown",
      "metadata": {
        "id": "jhvsHBn0klp-"
      },
      "source": [
        "##Training Data Cleaning\n",
        "Section Details:\n",
        "1. Reading and exploring the data\n",
        "2. Removing missing values, if any, and ensuring all sequences are in uppercase\n",
        "3. Filtering based on sequence length\n",
        "4. Filtering based on whether amino acids are valid\n",
        "5. Dropping duplicates\n",
        "6. Checking distribution of class labels, and balancing using smote\n",
        "7. Filtering out Low Complexity Regions"
      ]
    },
    {
      "cell_type": "code",
      "execution_count": null,
      "metadata": {
        "colab": {
          "base_uri": "https://localhost:8080/"
        },
        "id": "ECOKiAFig5IU",
        "outputId": "14e84f35-c3c4-489c-dc34-5e68d140af1f"
      },
      "outputs": [
        {
          "output_type": "stream",
          "name": "stdout",
          "text": [
            "Collecting biopython\n",
            "  Downloading biopython-1.84-cp310-cp310-manylinux_2_17_x86_64.manylinux2014_x86_64.whl.metadata (12 kB)\n",
            "Requirement already satisfied: numpy in /usr/local/lib/python3.10/dist-packages (from biopython) (1.26.4)\n",
            "Downloading biopython-1.84-cp310-cp310-manylinux_2_17_x86_64.manylinux2014_x86_64.whl (3.2 MB)\n",
            "\u001b[?25l   \u001b[90m━━━━━━━━━━━━━━━━━━━━━━━━━━━━━━━━━━━━━━━━\u001b[0m \u001b[32m0.0/3.2 MB\u001b[0m \u001b[31m?\u001b[0m eta \u001b[36m-:--:--\u001b[0m\r\u001b[2K   \u001b[91m━━━━━━━━━━━━━━━━━━━━━━━━━━━━━━━━━━━━━━━\u001b[0m\u001b[91m╸\u001b[0m \u001b[32m3.2/3.2 MB\u001b[0m \u001b[31m97.7 MB/s\u001b[0m eta \u001b[36m0:00:01\u001b[0m\r\u001b[2K   \u001b[90m━━━━━━━━━━━━━━━━━━━━━━━━━━━━━━━━━━━━━━━━\u001b[0m \u001b[32m3.2/3.2 MB\u001b[0m \u001b[31m46.7 MB/s\u001b[0m eta \u001b[36m0:00:00\u001b[0m\n",
            "\u001b[?25hInstalling collected packages: biopython\n",
            "Successfully installed biopython-1.84\n",
            "Requirement already satisfied: imbalanced-learn in /usr/local/lib/python3.10/dist-packages (0.12.4)\n",
            "Requirement already satisfied: numpy>=1.17.3 in /usr/local/lib/python3.10/dist-packages (from imbalanced-learn) (1.26.4)\n",
            "Requirement already satisfied: scipy>=1.5.0 in /usr/local/lib/python3.10/dist-packages (from imbalanced-learn) (1.13.1)\n",
            "Requirement already satisfied: scikit-learn>=1.0.2 in /usr/local/lib/python3.10/dist-packages (from imbalanced-learn) (1.5.2)\n",
            "Requirement already satisfied: joblib>=1.1.1 in /usr/local/lib/python3.10/dist-packages (from imbalanced-learn) (1.4.2)\n",
            "Requirement already satisfied: threadpoolctl>=2.0.0 in /usr/local/lib/python3.10/dist-packages (from imbalanced-learn) (3.5.0)\n",
            "Requirement already satisfied: tensorflow in /usr/local/lib/python3.10/dist-packages (2.17.0)\n",
            "Requirement already satisfied: absl-py>=1.0.0 in /usr/local/lib/python3.10/dist-packages (from tensorflow) (1.4.0)\n",
            "Requirement already satisfied: astunparse>=1.6.0 in /usr/local/lib/python3.10/dist-packages (from tensorflow) (1.6.3)\n",
            "Requirement already satisfied: flatbuffers>=24.3.25 in /usr/local/lib/python3.10/dist-packages (from tensorflow) (24.3.25)\n",
            "Requirement already satisfied: gast!=0.5.0,!=0.5.1,!=0.5.2,>=0.2.1 in /usr/local/lib/python3.10/dist-packages (from tensorflow) (0.6.0)\n",
            "Requirement already satisfied: google-pasta>=0.1.1 in /usr/local/lib/python3.10/dist-packages (from tensorflow) (0.2.0)\n",
            "Requirement already satisfied: h5py>=3.10.0 in /usr/local/lib/python3.10/dist-packages (from tensorflow) (3.12.1)\n",
            "Requirement already satisfied: libclang>=13.0.0 in /usr/local/lib/python3.10/dist-packages (from tensorflow) (18.1.1)\n",
            "Requirement already satisfied: ml-dtypes<0.5.0,>=0.3.1 in /usr/local/lib/python3.10/dist-packages (from tensorflow) (0.4.1)\n",
            "Requirement already satisfied: opt-einsum>=2.3.2 in /usr/local/lib/python3.10/dist-packages (from tensorflow) (3.4.0)\n",
            "Requirement already satisfied: packaging in /usr/local/lib/python3.10/dist-packages (from tensorflow) (24.1)\n",
            "Requirement already satisfied: protobuf!=4.21.0,!=4.21.1,!=4.21.2,!=4.21.3,!=4.21.4,!=4.21.5,<5.0.0dev,>=3.20.3 in /usr/local/lib/python3.10/dist-packages (from tensorflow) (3.20.3)\n",
            "Requirement already satisfied: requests<3,>=2.21.0 in /usr/local/lib/python3.10/dist-packages (from tensorflow) (2.32.3)\n",
            "Requirement already satisfied: setuptools in /usr/local/lib/python3.10/dist-packages (from tensorflow) (75.1.0)\n",
            "Requirement already satisfied: six>=1.12.0 in /usr/local/lib/python3.10/dist-packages (from tensorflow) (1.16.0)\n",
            "Requirement already satisfied: termcolor>=1.1.0 in /usr/local/lib/python3.10/dist-packages (from tensorflow) (2.5.0)\n",
            "Requirement already satisfied: typing-extensions>=3.6.6 in /usr/local/lib/python3.10/dist-packages (from tensorflow) (4.12.2)\n",
            "Requirement already satisfied: wrapt>=1.11.0 in /usr/local/lib/python3.10/dist-packages (from tensorflow) (1.16.0)\n",
            "Requirement already satisfied: grpcio<2.0,>=1.24.3 in /usr/local/lib/python3.10/dist-packages (from tensorflow) (1.64.1)\n",
            "Requirement already satisfied: tensorboard<2.18,>=2.17 in /usr/local/lib/python3.10/dist-packages (from tensorflow) (2.17.0)\n",
            "Requirement already satisfied: keras>=3.2.0 in /usr/local/lib/python3.10/dist-packages (from tensorflow) (3.4.1)\n",
            "Requirement already satisfied: tensorflow-io-gcs-filesystem>=0.23.1 in /usr/local/lib/python3.10/dist-packages (from tensorflow) (0.37.1)\n",
            "Requirement already satisfied: numpy<2.0.0,>=1.23.5 in /usr/local/lib/python3.10/dist-packages (from tensorflow) (1.26.4)\n",
            "Requirement already satisfied: wheel<1.0,>=0.23.0 in /usr/local/lib/python3.10/dist-packages (from astunparse>=1.6.0->tensorflow) (0.44.0)\n",
            "Requirement already satisfied: rich in /usr/local/lib/python3.10/dist-packages (from keras>=3.2.0->tensorflow) (13.9.3)\n",
            "Requirement already satisfied: namex in /usr/local/lib/python3.10/dist-packages (from keras>=3.2.0->tensorflow) (0.0.8)\n",
            "Requirement already satisfied: optree in /usr/local/lib/python3.10/dist-packages (from keras>=3.2.0->tensorflow) (0.13.0)\n",
            "Requirement already satisfied: charset-normalizer<4,>=2 in /usr/local/lib/python3.10/dist-packages (from requests<3,>=2.21.0->tensorflow) (3.4.0)\n",
            "Requirement already satisfied: idna<4,>=2.5 in /usr/local/lib/python3.10/dist-packages (from requests<3,>=2.21.0->tensorflow) (3.10)\n",
            "Requirement already satisfied: urllib3<3,>=1.21.1 in /usr/local/lib/python3.10/dist-packages (from requests<3,>=2.21.0->tensorflow) (2.2.3)\n",
            "Requirement already satisfied: certifi>=2017.4.17 in /usr/local/lib/python3.10/dist-packages (from requests<3,>=2.21.0->tensorflow) (2024.8.30)\n",
            "Requirement already satisfied: markdown>=2.6.8 in /usr/local/lib/python3.10/dist-packages (from tensorboard<2.18,>=2.17->tensorflow) (3.7)\n",
            "Requirement already satisfied: tensorboard-data-server<0.8.0,>=0.7.0 in /usr/local/lib/python3.10/dist-packages (from tensorboard<2.18,>=2.17->tensorflow) (0.7.2)\n",
            "Requirement already satisfied: werkzeug>=1.0.1 in /usr/local/lib/python3.10/dist-packages (from tensorboard<2.18,>=2.17->tensorflow) (3.0.6)\n",
            "Requirement already satisfied: MarkupSafe>=2.1.1 in /usr/local/lib/python3.10/dist-packages (from werkzeug>=1.0.1->tensorboard<2.18,>=2.17->tensorflow) (3.0.2)\n",
            "Requirement already satisfied: markdown-it-py>=2.2.0 in /usr/local/lib/python3.10/dist-packages (from rich->keras>=3.2.0->tensorflow) (3.0.0)\n",
            "Requirement already satisfied: pygments<3.0.0,>=2.13.0 in /usr/local/lib/python3.10/dist-packages (from rich->keras>=3.2.0->tensorflow) (2.18.0)\n",
            "Requirement already satisfied: mdurl~=0.1 in /usr/local/lib/python3.10/dist-packages (from markdown-it-py>=2.2.0->rich->keras>=3.2.0->tensorflow) (0.1.2)\n"
          ]
        }
      ],
      "source": [
        "# packages to be installed\n",
        "!pip install biopython\n",
        "!pip install imbalanced-learn\n",
        "!pip install tensorflow"
      ]
    },
    {
      "cell_type": "code",
      "execution_count": null,
      "metadata": {
        "colab": {
          "base_uri": "https://localhost:8080/"
        },
        "id": "a61Ke5vxl_UO",
        "outputId": "1efc3cd1-7d4b-416c-e417-cdcd556acfd8"
      },
      "outputs": [
        {
          "output_type": "stream",
          "name": "stdout",
          "text": [
            "53285\n",
            "53285\n"
          ]
        }
      ],
      "source": [
        "# importing required libraries\n",
        "from Bio import SeqIO\n",
        "import pandas as pd\n",
        "import numpy as np\n",
        "\n",
        "def load_fasta_data(fasta_file):\n",
        "    sequences = []\n",
        "    labels = []\n",
        "\n",
        "    # Parsing the FASTA file\n",
        "    for record in SeqIO.parse(fasta_file, \"fasta\"):\n",
        "        header = record.description\n",
        "        sequence = str(record.seq)\n",
        "\n",
        "        # Extracting labels from the header(1 for positive, 0 for negative)\n",
        "        if 'label_1' in header:\n",
        "            label = 1\n",
        "        elif 'label_0' in header:\n",
        "            label = 0\n",
        "        else:\n",
        "            continue\n",
        "\n",
        "        # Append the sequence and label to the list\n",
        "        sequences.append(sequence)\n",
        "        labels.append(label)\n",
        "\n",
        "    return sequences, labels\n",
        "\n",
        "sequences,labels=load_fasta_data(\"Train.fasta\")\n",
        "print(len(sequences))\n",
        "print(len(labels))"
      ]
    },
    {
      "cell_type": "code",
      "execution_count": null,
      "metadata": {
        "colab": {
          "base_uri": "https://localhost:8080/"
        },
        "id": "kcNCr9jQLvIw",
        "outputId": "99322bdb-7569-489d-fb58-42ba43bce7bf"
      },
      "outputs": [
        {
          "output_type": "stream",
          "name": "stdout",
          "text": [
            "53285\n",
            "53285\n"
          ]
        }
      ],
      "source": [
        "#Method to drop entries with missing values\n",
        "\n",
        "def drop_missing_values(sequences, labels):\n",
        "    df = pd.DataFrame({'Sequence': sequences, 'Label': labels})\n",
        "\n",
        "    # Drop rows where 'Sequence' or 'Label' is missing\n",
        "    df = df.dropna(subset=['Sequence', 'Label']).reset_index(drop=True)\n",
        "\n",
        "    # Convert back to lists\n",
        "    filtered_sequences = df['Sequence'].tolist()\n",
        "    filtered_labels = df['Label'].tolist()\n",
        "\n",
        "    return filtered_sequences, filtered_labels\n",
        "\n",
        "sequences, labels = drop_missing_values(sequences, labels)\n",
        "\n",
        "#To ensure all the sequences are in upper case\n",
        "def standardize_case(sequences, labels):\n",
        "    standardized_sequences = [seq.upper() for seq in sequences]\n",
        "    return standardized_sequences, labels\n",
        "\n",
        "\n",
        "sequences, labels = standardize_case(sequences, labels)\n",
        "\n",
        "print(len(sequences))\n",
        "print(len(labels))"
      ]
    },
    {
      "cell_type": "code",
      "execution_count": null,
      "metadata": {
        "colab": {
          "base_uri": "https://localhost:8080/"
        },
        "id": "yRlWDjXhVD-t",
        "outputId": "cf878b47-29c4-47ab-81dc-78ce870a3389"
      },
      "outputs": [
        {
          "output_type": "stream",
          "name": "stdout",
          "text": [
            "53262\n",
            "53262\n"
          ]
        }
      ],
      "source": [
        "#According to the README document, amino acid sequences should be of length 50-3000. However, there are outliers in the dataset. Hence filtering them out\n",
        "\n",
        "def filter_sequences(sequences, labels):\n",
        "  filtered_sequences = []\n",
        "  filtered_labels = []\n",
        "  for i in range(len(sequences)):\n",
        "    if(len(sequences[i])>=50 and len(sequences[i])<=3000):\n",
        "      filtered_sequences.append(sequences[i])\n",
        "      filtered_labels.append(labels[i])\n",
        "  return filtered_sequences, filtered_labels\n",
        "\n",
        "sequences,labels=filter_sequences(sequences,labels)\n",
        "print(len(sequences))\n",
        "print(len(labels))"
      ]
    },
    {
      "cell_type": "code",
      "execution_count": null,
      "metadata": {
        "colab": {
          "base_uri": "https://localhost:8080/",
          "height": 87
        },
        "collapsed": true,
        "id": "BRx1OD4TpVF-",
        "outputId": "68b3f307-d948-44fe-b73b-3fb3888dfd5f"
      },
      "outputs": [
        {
          "output_type": "execute_result",
          "data": {
            "text/plain": [
              "\"\\n#NO NEED TO RUN THIS CODE CHUNK\\ndef letters_used(seq,letter):\\n\\n  for item in seq:\\n    for i in range (len(item)):\\n      if item[i]==letter:\\n        return True #returns True if the letter is used in any of the sequences throughout\\n  return False #returns False if the letter is not used at all\\n\\nletter_test=['A', 'B', 'C', 'D', 'E', 'F', 'G', 'H', 'I', 'J', 'K', 'L', 'M', 'N', 'O', 'P', 'Q', 'R', 'S', 'T', 'U', 'V', 'W', 'X', 'Y', 'Z']\\nresult=[]\\nfor let in letter_test:\\n  result.append(letters_used(sequences,let))\\nprint(result)\\n#The following letters are not used: B,J,O,Z. However, there should only be 20 letters used. U and X have been used in the train.fasta file even though they should not be.\\n#One more filter must be made. To generalize the filter, we will remove all instances of the 6 letters that should not be there. This will save us from running the letters_used() method again\\n\""
            ],
            "application/vnd.google.colaboratory.intrinsic+json": {
              "type": "string"
            }
          },
          "metadata": {},
          "execution_count": 35
        }
      ],
      "source": [
        "\"\"\"\n",
        "#NO NEED TO RUN THIS CODE CHUNK\n",
        "def letters_used(seq,letter):\n",
        "\n",
        "  for item in seq:\n",
        "    for i in range (len(item)):\n",
        "      if item[i]==letter:\n",
        "        return True #returns True if the letter is used in any of the sequences throughout\n",
        "  return False #returns False if the letter is not used at all\n",
        "\n",
        "letter_test=['A', 'B', 'C', 'D', 'E', 'F', 'G', 'H', 'I', 'J', 'K', 'L', 'M', 'N', 'O', 'P', 'Q', 'R', 'S', 'T', 'U', 'V', 'W', 'X', 'Y', 'Z']\n",
        "result=[]\n",
        "for let in letter_test:\n",
        "  result.append(letters_used(sequences,let))\n",
        "print(result)\n",
        "#The following letters are not used: B,J,O,Z. However, there should only be 20 letters used. U and X have been used in the train.fasta file even though they should not be.\n",
        "#One more filter must be made. To generalize the filter, we will remove all instances of the 6 letters that should not be there. This will save us from running the letters_used() method again\n",
        "\"\"\""
      ]
    },
    {
      "cell_type": "code",
      "source": [
        "#Instead of just removing the invalid letters, we will also check for all non-standard characters\n",
        "\n",
        "def remove_non_standard(seq):\n",
        "  uppercase_letters = ['A', 'C', 'D', 'E', 'F', 'G', 'H', 'I', 'K', 'L', 'M', 'N', 'P', 'Q', 'R', 'S', 'T', 'V', 'W','Y']\n",
        "  for i in seq:\n",
        "    if i not in uppercase_letters:\n",
        "      return False\n",
        "  return True\n",
        "\n",
        "def remove_non(seq,lab):\n",
        "  res_seq=[]\n",
        "  res_lab=[]\n",
        "  for i in range(len(seq)):\n",
        "    if remove_non_standard(seq[i])==True:\n",
        "      res_seq.append(seq[i])\n",
        "      res_lab.append(lab[i])\n",
        "  return res_seq,res_lab\n",
        "\n",
        "sequences,labels=remove_non(sequences,labels)\n",
        "print(len(sequences))\n",
        "print(len(labels))"
      ],
      "metadata": {
        "colab": {
          "base_uri": "https://localhost:8080/"
        },
        "id": "3hOUUMcWX85N",
        "outputId": "d1964563-7346-402a-8e33-c1a6eff06865"
      },
      "execution_count": null,
      "outputs": [
        {
          "output_type": "stream",
          "name": "stdout",
          "text": [
            "53238\n",
            "53238\n"
          ]
        }
      ]
    },
    {
      "cell_type": "code",
      "execution_count": null,
      "metadata": {
        "colab": {
          "base_uri": "https://localhost:8080/"
        },
        "id": "vd3X0zmwG0XV",
        "outputId": "360c060d-d4c6-4fd1-d029-63c57d696c3f"
      },
      "outputs": [
        {
          "output_type": "stream",
          "name": "stdout",
          "text": [
            "53238\n",
            "53238\n"
          ]
        }
      ],
      "source": [
        "import pandas as pd\n",
        "\n",
        "def remove_duplicates(sequences, labels):\n",
        "    # Convert sequences and labels into a DataFrame\n",
        "    df = pd.DataFrame({'Sequence': sequences, 'Label': labels})\n",
        "\n",
        "    # Drop duplicate rows\n",
        "    df = df.drop_duplicates()\n",
        "\n",
        "    # Convert back to lists\n",
        "    return df['Sequence'].tolist(), df['Label'].tolist()\n",
        "\n",
        "sequences, labels = remove_duplicates(sequences, labels)\n",
        "print(len(sequences))\n",
        "print(len(labels))"
      ]
    },
    {
      "cell_type": "code",
      "source": [
        "#Checking distribution of labels\n",
        "import pandas as pd\n",
        "\n",
        "def check_label_distribution(sequences, labels):\n",
        "    df = pd.DataFrame({'Sequence': sequences, 'Label': labels})\n",
        "\n",
        "    # Count occurrences of each label\n",
        "    class_counts = df['Label'].value_counts()\n",
        "\n",
        "    # Extract counts for each class\n",
        "    negatives = class_counts.get(0, 0)  # Count of label_0 (non-DNA binding proteins)\n",
        "    positives = class_counts.get(1, 0)  # Count of label_1 (DNA binding proteins)\n",
        "\n",
        "    # Calculate the ratio between positive and negative classes\n",
        "    if negatives != 0:\n",
        "        ratio = positives / negatives\n",
        "        print(f\"Number of Negative Class (label_0): {negatives}\")\n",
        "        print(f\"Number of Positive Class (label_1): {positives}\")\n",
        "        print(f\"Ratio (Positive:Negative) = {round(ratio, 2)}\")\n",
        "    else:\n",
        "        print(f\"Number of Negative Class (label_0): {negatives}\")\n",
        "        print(f\"Number of Positive Class (label_1): {positives}\")\n",
        "        print(f\"Ratio (Positive:Negative) = Undefined (no negatives)\")\n",
        "\n",
        "    # Define class weights for handling class imbalance\n",
        "    class_weights = {0: 1.0, 1: 1.98}  # Adjust the weight based on imbalance\n",
        "\n",
        "    # Calculate class priors\n",
        "    total = negatives + positives\n",
        "    if total > 0:\n",
        "        class_priors = [negatives / total, positives / total]\n",
        "    else:\n",
        "        class_priors = [0, 0]  # Default if no data is provided\n",
        "\n",
        "    print(f\"Class Priors: {class_priors}\")\n",
        "\n",
        "    # Return values for further use\n",
        "    return {\"class_counts\": class_counts, \"class_weights\": class_weights, \"class_priors\": class_priors}\n",
        "\n",
        "distribution_info = check_label_distribution(sequences, labels)\n"
      ],
      "metadata": {
        "colab": {
          "base_uri": "https://localhost:8080/"
        },
        "id": "sLymNthG0wS4",
        "outputId": "b6a4f138-d89e-4e60-f357-a6a98629b4fb"
      },
      "execution_count": null,
      "outputs": [
        {
          "output_type": "stream",
          "name": "stdout",
          "text": [
            "Number of Negative Class (label_0): 35409\n",
            "Number of Positive Class (label_1): 17829\n",
            "Ratio (Positive:Negative) = 0.5\n",
            "Class Priors: [0.6651076298884255, 0.33489237011157447]\n"
          ]
        }
      ]
    },
    {
      "cell_type": "code",
      "source": [
        "#Filtering out low complexity sequences\n",
        "\n",
        "#Using Shannon entropy to find low complexity sequences since they can lead to false positives or overfitting\n",
        "import numpy as np\n",
        "from math import log2\n",
        "import matplotlib.pyplot as plt\n",
        "\n",
        "def analyze_low_complexity_sequences(sequences):\n",
        "    # Function to calculate Shannon entropy of a sequence\n",
        "    def calculate_entropy(sequence):\n",
        "        freqs = {char: sequence.count(char) / len(sequence) for char in set(sequence)}\n",
        "        return -sum(p * log2(p) for p in freqs.values())\n",
        "\n",
        "    # Calculate entropy for each sequence\n",
        "    entropy_values = [calculate_entropy(seq) for seq in sequences]\n",
        "\n",
        "    # Plot histogram of entropy values\n",
        "    plt.figure(figsize=(10, 6))\n",
        "    plt.hist(entropy_values, bins=50, color='skyblue', edgecolor='black')\n",
        "    plt.title(\"Entropy Distribution of Sequences\")\n",
        "    plt.xlabel(\"Entropy\")\n",
        "    plt.ylabel(\"Frequency\")\n",
        "    plt.show()\n",
        "\n",
        "    # Find and return the minimum entropy value\n",
        "    min_entropy = round(min(entropy_values), 3)\n",
        "    print(f\"Minimum Entropy Value: {min_entropy}\")\n",
        "\n",
        "    return min_entropy\n",
        "\n",
        "# Example usage\n",
        "min_entropy = analyze_low_complexity_sequences(sequences)\n",
        "\"\"\"\n",
        "Based on the graph, the entropy of all the sequences is relatively high.\n",
        "The standard threshold is usually taken as 1.5. The lowest entropy in our dataset is 2.069.\n",
        "Based on that threshold, none of the sequences have low complexity regions.\n",
        "Therefore, filtering based on low complexity regions is not required.\n",
        "\"\"\""
      ],
      "metadata": {
        "colab": {
          "base_uri": "https://localhost:8080/",
          "height": 617
        },
        "id": "oh0JdI421xEo",
        "outputId": "caf07b46-37f1-4b14-b3f7-7588dd6a4d80"
      },
      "execution_count": null,
      "outputs": [
        {
          "output_type": "display_data",
          "data": {
            "text/plain": [
              "<Figure size 1000x600 with 1 Axes>"
            ],
            "image/png": "[encoded data removed]"
          },
          "metadata": {}
        },
        {
          "output_type": "stream",
          "name": "stdout",
          "text": [
            "Minimum Entropy Value: 2.069\n"
          ]
        },
        {
          "output_type": "execute_result",
          "data": {
            "text/plain": [
              "'\\nBased on the graph, the entropy of all the sequences is relatively high.\\nThe standard threshold is usually taken as 1.5. The lowest entropy in our dataset is 2.069.\\nBased on that threshold, none of the sequences have low complexity regions.\\nTherefore, filtering based on low complexity regions is not required.\\n'"
            ],
            "application/vnd.google.colaboratory.intrinsic+json": {
              "type": "string"
            }
          },
          "metadata": {},
          "execution_count": 8
        }
      ]
    },
    {
      "cell_type": "markdown",
      "metadata": {
        "id": "aw49zbY4T4UJ"
      },
      "source": [
        "##Training Data Feature Extraction:\n",
        "Approach 1: Spectrum Vector Kernel [Not being used but code included]\n",
        "1. Generate all 3-mers for the amino acids\n",
        "2. Compute spectrum kernel vectors for all sequences\n",
        "3. Scaling of the vectors\n",
        "4. Balancing the classes using SMOTE\n",
        "\n",
        "Approach 2:\n",
        "1. Use Fasttext to generate embeddings for all sequences\n",
        "2. Scale the sequences\n",
        "3. Balancing the classes using SMOTE"
      ]
    },
    {
      "cell_type": "code",
      "source": [
        "\"\"\"\n",
        "Not to be run since fasttext is better\n",
        "\n",
        "#SPECTRUM KERNEL VECTOR FEATURES\n",
        "import itertools\n",
        "from collections import Counter\n",
        "import numpy as np\n",
        "\n",
        "\n",
        "def generate_kmer_index_map(k, amino_acids='ACDEFGHIKLMNPQRSTVWY'):\n",
        "    all_kmers = []\n",
        "    for p in itertools.product(amino_acids, repeat=k):\n",
        "      kmer = ''.join(p)\n",
        "      all_kmers.append(kmer)\n",
        "\n",
        "    # Map each k-mer to a unique index for use in the feature vector\n",
        "    # This dictionary will have k-mers as keys and indices as values\n",
        "    kmer_to_index = {}\n",
        "    for idx, kmer in enumerate(all_kmers):\n",
        "      kmer_to_index[kmer] = idx\n",
        "\n",
        "    return kmer_to_index\n",
        "\n",
        "k = 3\n",
        "kmer_to_index = generate_kmer_index_map(k)\n",
        "\n",
        "def compute_spectrum_vector(sequence, k=k, kmer_to_index=kmer_to_index):\n",
        "    # Initialize feature vector with zeros\n",
        "    feature_vector = np.zeros(len(kmer_to_index))\n",
        "\n",
        "    # Count k-mers in the sequence\n",
        "    kmer_counts = Counter([sequence[i:i+k] for i in range(len(sequence) - k + 1)])\n",
        "\n",
        "    # Populate the feature vector with counts\n",
        "    for kmer, count in kmer_counts.items():\n",
        "        if kmer in kmer_to_index:\n",
        "            feature_vector[kmer_to_index[kmer]] = count\n",
        "\n",
        "    return feature_vector\n",
        "\n",
        "\n",
        "# Compute the spectrum kernel feature vectors for all sequences\n",
        "spectrum_vectors = np.array([compute_spectrum_vector(seq) for seq in sequences])\n",
        "\n",
        "# 'spectrum_vectors' now contains the k-mer based embeddings for each sequence\n",
        "# Each row corresponds to the feature vector of a sequence\n",
        "\"\"\""
      ],
      "metadata": {
        "id": "1U6Z59Pj3Jip"
      },
      "execution_count": null,
      "outputs": []
    },
    {
      "cell_type": "code",
      "execution_count": null,
      "metadata": {
        "id": "TiS_pjtNUVBB",
        "colab": {
          "base_uri": "https://localhost:8080/"
        },
        "outputId": "081403ed-0a5f-4b32-b06d-9bb15d27de12"
      },
      "outputs": [
        {
          "output_type": "stream",
          "name": "stdout",
          "text": [
            "Original shape: (53238, 8000)\n",
            "Reduced shape: (53238, 500)\n"
          ]
        }
      ],
      "source": [
        "\"\"\"\n",
        "Not to be run\n",
        "\n",
        "#PCA to reduce dimensions\n",
        "\n",
        "from sklearn.decomposition import PCA\n",
        "import numpy as np\n",
        "\n",
        "n_components = 500  # Try 100 as an initial reduction\n",
        "\n",
        "# Initialize PCA model\n",
        "pca = PCA(n_components=n_components)\n",
        "\n",
        "# Fit PCA on the data and transform it\n",
        "spectrum_vectors_pca = pca.fit_transform(spectrum_vectors)\n",
        "\n",
        "# spectrum_vectors_pca will now be of shape (53000, n_components)\n",
        "print(\"Original shape:\", spectrum_vectors.shape)\n",
        "print(\"Reduced shape:\", spectrum_vectors_pca.shape)\n"
      ]
    },
    {
      "cell_type": "code",
      "execution_count": null,
      "metadata": {
        "id": "-S270qIlAaqY"
      },
      "outputs": [],
      "source": [
        "\"\"\"\n",
        "Not to be run\n",
        "\n",
        "#Scaling the features\n",
        "from sklearn.preprocessing import StandardScaler\n",
        "def scaler_transform(features):\n",
        "  scalar=StandardScaler()\n",
        "  sequences_scaled=scalar.fit_transform(features)\n",
        "  return sequences_scaled\n",
        "\n",
        "spectrum_sequences_scaled=scaler_transform(spectrum_vectors_pca)\n",
        "\"\"\""
      ]
    },
    {
      "cell_type": "code",
      "execution_count": null,
      "metadata": {
        "colab": {
          "base_uri": "https://localhost:8080/"
        },
        "id": "PPT6v06sCkZy",
        "outputId": "57dd1fba-ee2b-45f9-95d0-115f6fb840eb",
        "collapsed": true
      },
      "outputs": [
        {
          "output_type": "error",
          "ename": "SyntaxError",
          "evalue": "incomplete input (<ipython-input-24-49150f504be4>, line 1)",
          "traceback": [
            "\u001b[0;36m  File \u001b[0;32m\"<ipython-input-24-49150f504be4>\"\u001b[0;36m, line \u001b[0;32m1\u001b[0m\n\u001b[0;31m    \"\"\"\u001b[0m\n\u001b[0m    ^\u001b[0m\n\u001b[0;31mSyntaxError\u001b[0m\u001b[0;31m:\u001b[0m incomplete input\n"
          ]
        }
      ],
      "source": [
        "\"\"\"\n",
        "Not to be run\n",
        "\n",
        "from imblearn.over_sampling import SMOTE\n",
        "\n",
        "smote=SMOTE()\n",
        "spectrum_sequences_scaled_balanced, specutrum_labels_balanced = smote.fit_resample(spectrum_sequences_scaled, labels)\n",
        "\n",
        "print(f\"Original dataset shape: {len(labels)}\")\n",
        "print(f\"Balanced dataset shape: {len(spectrum_labels_balanced)}\")\n",
        "\n",
        "#Features using Approach 1 are saved as spectrum_sequences_scaled_balanced and spectum_labels_balanced\n",
        "\"\"\""
      ]
    },
    {
      "cell_type": "code",
      "source": [
        "#FASTTEXT FEATURES\n",
        "\n",
        "from gensim.models import FastText\n",
        "\n",
        "# Tokenized sequences (as used above for Word2Vec)\n",
        "sequences_tokenized = [list(seq) for seq in sequences]\n",
        "\n",
        "# Train a FastText model on amino acid sequences\n",
        "# FastText considers character n-grams, which helps with rare amino acids\n",
        "fasttext_model = FastText(sentences=sequences_tokenized, vector_size=100, window=5, min_count=1, sg=1)#What are these arguments doing\n",
        "\n",
        "# Generate feature vectors similarly by averaging the embeddings for each amino acid\n",
        "def get_fasttext_embedding(sequence, model):\n",
        "    embedding = np.array([model.wv[aa] for aa in sequence if aa in model.wv])\n",
        "    return np.mean(embedding, axis=0) if len(embedding) > 0 else np.zeros(model.vector_size)\n",
        "\n",
        "# Apply to all sequences to generate FastText embeddings\n",
        "fasttext_features = np.array([get_fasttext_embedding(seq, fasttext_model) for seq in sequences_tokenized])\n",
        "\n",
        "# fasttext_features is now a matrix with one feature vector per sequence\n",
        "print(fasttext_features.shape)\n"
      ],
      "metadata": {
        "colab": {
          "base_uri": "https://localhost:8080/"
        },
        "id": "AHhDT2jMUrIy",
        "outputId": "db6b595e-cc0b-4f1b-dfa2-0a45b3c244f0"
      },
      "execution_count": null,
      "outputs": [
        {
          "output_type": "stream",
          "name": "stdout",
          "text": [
            "(53238, 100)\n"
          ]
        }
      ]
    },
    {
      "cell_type": "code",
      "source": [
        "#Scaling and SMOTEing the features\n",
        "#Code is re-written so you dont have to run the spectrum kernel vector implementation\n",
        "\n",
        "#Scaling the features\n",
        "from sklearn.preprocessing import StandardScaler\n",
        "def scaler_transform(features):\n",
        "  scalar=StandardScaler()\n",
        "  sequences_scaled=scalar.fit_transform(features)\n",
        "  return sequences_scaled\n",
        "fasttext_sequences_scaled=scaler_transform(fasttext_features)\n",
        "\n",
        "#SMOTEing the features for class balance\n",
        "from imblearn.over_sampling import SMOTE\n",
        "\n",
        "smote=SMOTE()\n",
        "fasttext_sequences_scaled_balanced, fasttext_labels_balanced = smote.fit_resample(fasttext_sequences_scaled, labels)\n",
        "\n",
        "print(f\"Original dataset shape: {len(labels)}\")\n",
        "print(f\"Balanced dataset shape: {len(fasttext_labels_balanced)}\")\n",
        "\n",
        "#Features using Approach 2 are saved as fasttext_sequences_scaled_balanced and fasttext_labels_balanced"
      ],
      "metadata": {
        "id": "pDoDsNyQWB8p",
        "colab": {
          "base_uri": "https://localhost:8080/"
        },
        "outputId": "20651962-ac52-49ee-f139-45efd53bc21d"
      },
      "execution_count": null,
      "outputs": [
        {
          "output_type": "stream",
          "name": "stdout",
          "text": [
            "Original dataset shape: 53238\n",
            "Balanced dataset shape: 70818\n"
          ]
        }
      ]
    },
    {
      "cell_type": "markdown",
      "metadata": {
        "id": "APrgGsz2hIwQ"
      },
      "source": [
        "##Test Data Cleaning and Feature Extraction"
      ]
    },
    {
      "cell_type": "code",
      "execution_count": null,
      "metadata": {
        "collapsed": true,
        "id": "4v_vOkriNQeH",
        "colab": {
          "base_uri": "https://localhost:8080/",
          "height": 651
        },
        "outputId": "d26d90bf-bc05-435f-ad5d-4be4bcb05faf"
      },
      "outputs": [
        {
          "output_type": "stream",
          "name": "stdout",
          "text": [
            "Number of Negative Class (label_0): 8975\n",
            "Number of Positive Class (label_1): 4468\n",
            "Ratio (Positive:Negative) = 0.5\n",
            "Class Priors: [0.6676337127129361, 0.3323662872870639]\n"
          ]
        },
        {
          "output_type": "display_data",
          "data": {
            "text/plain": [
              "<Figure size 1000x600 with 1 Axes>"
            ],
            "image/png": "[encoded data removed]"
          },
          "metadata": {}
        },
        {
          "output_type": "stream",
          "name": "stdout",
          "text": [
            "Minimum Entropy Value: 2.442\n"
          ]
        }
      ],
      "source": [
        "#Please run all relevant code chunks that precede this one first\n",
        "\n",
        "#Reading in the data\n",
        "test_sequences, test_labels = load_fasta_data(\"Test.fasta\")\n",
        "\n",
        "#Dropping missing values and standardizing case\n",
        "test_sequences,test_labels=drop_missing_values(test_sequences,test_labels)\n",
        "test_sequences,test_labels=standardize_case(test_sequences,test_labels)\n",
        "\n",
        "#Filtering based on length of sequence, character validity and dropping duplicates\n",
        "test_sequences,test_labels=filter_sequences(test_sequences,test_labels)\n",
        "test_sequences,test_labels=remove_non(test_sequences,test_labels)\n",
        "test_sequences, test_labels = remove_duplicates(test_sequences,test_labels)\n",
        "\n",
        "#Printing distribution information to check ratio\n",
        "test_distribution_info = check_label_distribution(test_sequences, test_labels)\n",
        "\n",
        "\n",
        "#Checking for Low complexity regions\n",
        "test_min_entropy = analyze_low_complexity_sequences(test_sequences)\n",
        "\"\"\"\n",
        "Once again, there is no need for filtering out low complexity regions since they aren't present [Min. entropy=2.442]\n",
        "\"\"\"\n",
        "#Fasttext embeddings for the test data\n",
        "test_sequences_tokenized = [list(seq) for seq in test_sequences]\n",
        "test_fasttext_features = np.array([get_fasttext_embedding(seq, fasttext_model) for seq in test_sequences_tokenized])\n",
        "#Scaling the test data\n",
        "test_sequences_scaled=scaler_transform(test_fasttext_features)\n",
        "#Now the test data is cleaned and stored in test_sequences_scaled and test_labels\n",
        "#SMOTE has not been applied to the test data"
      ]
    },
    {
      "cell_type": "markdown",
      "metadata": {
        "id": "BCVjX3phFm73"
      },
      "source": [
        "# Model 1:\n",
        "\n",
        "First, we fit and observe the performance metrics of multiple models to decide which would generate the best metrics of specificity, sensitivity and MCC score.\n",
        "\n",
        "Upon observing the individual models, it is noted that not any one can be used on its own, hence bringing in the motivation for using stack ensemble approach.\n",
        "\n",
        "All models explored: Naive Bayes, KNN, Random Forest, Gradient Boosting, Linear SVC, Logistic Regression\n",
        "\n",
        "Base models: Random Forest, Gradient Boost and K-Nearest Neighbours\n",
        "\n",
        "Meta model: Logistic Regression"
      ]
    },
    {
      "cell_type": "code",
      "source": [
        "# importing required libraries\n",
        "from sklearn.model_selection import train_test_split\n",
        "from sklearn.metrics import confusion_matrix, accuracy_score, f1_score, matthews_corrcoef, recall_score, precision_score, classification_report\n",
        "from sklearn.naive_bayes import GaussianNB\n",
        "from sklearn.ensemble import RandomForestClassifier\n",
        "from sklearn.neighbors import KNeighborsClassifier\n",
        "from sklearn.linear_model import LogisticRegression\n",
        "from sklearn.ensemble import GradientBoostingClassifier\n",
        "from sklearn.svm import LinearSVC\n",
        "from sklearn.ensemble import StackingClassifier"
      ],
      "metadata": {
        "id": "dEuoatvA6N8R"
      },
      "execution_count": null,
      "outputs": []
    },
    {
      "cell_type": "code",
      "execution_count": null,
      "metadata": {
        "id": "7ucrjME4WgcL"
      },
      "outputs": [],
      "source": [
        "# Function to calculate metrics\n",
        "def calculate_metrics(y_test, y_pred):\n",
        "    # Confusion matrix for sensitivity and specificity\n",
        "    tn, fp, fn, tp = confusion_matrix(y_test, y_pred).ravel()\n",
        "\n",
        "    sensitivity = recall_score(y_test, y_pred)\n",
        "    specificity = tn / (tn + fp)\n",
        "    mcc = matthews_corrcoef(y_test, y_pred)\n",
        "    f1 = f1_score(y_test, y_pred)\n",
        "    accuracy = accuracy_score(y_test, y_pred)\n",
        "\n",
        "    return {\n",
        "        \"Sensitivity (Recall)\": sensitivity,\n",
        "        \"Specificity\": specificity,\n",
        "        \"MCC\": mcc,\n",
        "        \"F1 Score\": f1,\n",
        "        \"Accuracy\": accuracy\n",
        "    }"
      ]
    },
    {
      "cell_type": "code",
      "source": [
        "\"\"\"\n",
        "##Base for features using spectrum kernel vector\n",
        "\n",
        "from sklearn.model_selection import train_test_split\n",
        "from sklearn.metrics import confusion_matrix, accuracy_score, f1_score, matthews_corrcoef, recall_score, precision_score, classification_report\n",
        "\n",
        "# Splitting data into training and testing sets\n",
        "X_train, X_test, y_train, y_test = train_test_split(spectrum_sequences_scaled_balanced, spectrum_labels_balanced, test_size=0.2, random_state=42)\n",
        "\"\"\""
      ],
      "metadata": {
        "id": "uBNITWnFWx2w"
      },
      "execution_count": null,
      "outputs": []
    },
    {
      "cell_type": "code",
      "source": [
        "##Base for features using fasttext\n",
        "#If you wish to see performance using spectrum kernel vector approach, do not run this chunk\n",
        "\n",
        "\n",
        "# Splitting data into training and testing sets\n",
        "X_train, X_test, y_train, y_test = train_test_split(fasttext_sequences_scaled_balanced, fasttext_labels_balanced, test_size=0.2, random_state=42)"
      ],
      "metadata": {
        "id": "DgQk6UooWzh2"
      },
      "execution_count": null,
      "outputs": []
    },
    {
      "cell_type": "code",
      "execution_count": null,
      "metadata": {
        "colab": {
          "base_uri": "https://localhost:8080/"
        },
        "id": "J3MvW4lFXXGo",
        "outputId": "6ae784a2-71a8-4c40-959c-8c1c0f06e3b3"
      },
      "outputs": [
        {
          "output_type": "stream",
          "name": "stdout",
          "text": [
            "Naive Bayes Metrics: {'Sensitivity (Recall)': 0.789907604832978, 'Specificity': 0.5246177584513957, 'MCC': 0.3260134717013921, 'F1 Score': 0.6954508478818597, 'Accuracy': 0.6563823778593617}\n"
          ]
        }
      ],
      "source": [
        "# Naive Bayes\n",
        "\n",
        "nb_model = GaussianNB()\n",
        "nb_model.fit(X_train, y_train)\n",
        "nb_pred = nb_model.predict(X_test)\n",
        "nb_metrics = calculate_metrics(y_test, nb_pred)\n",
        "print(\"Naive Bayes Metrics:\", nb_metrics)"
      ]
    },
    {
      "cell_type": "code",
      "execution_count": null,
      "metadata": {
        "colab": {
          "base_uri": "https://localhost:8080/"
        },
        "id": "0GfcobaeYxaR",
        "outputId": "d3c66ef7-359b-49d6-d4cf-f25c4679e04b"
      },
      "outputs": [
        {
          "output_type": "stream",
          "name": "stdout",
          "text": [
            "Random Forest Metrics: {'Sensitivity (Recall)': 0.8129353233830846, 'Specificity': 0.7890307195960162, 'MCC': 0.6020721269518394, 'F1 Score': 0.8022162996212653, 'Accuracy': 0.8009036995199096}\n"
          ]
        }
      ],
      "source": [
        "# Random Forest\n",
        "\n",
        "random_forest_model = RandomForestClassifier(n_estimators=100, random_state=42)\n",
        "random_forest_model.fit(X_train, y_train)\n",
        "random_forest_pred = random_forest_model.predict(X_test)\n",
        "random_forest_metrics = calculate_metrics(y_test, random_forest_pred)\n",
        "print(\"Random Forest Metrics:\", random_forest_metrics)"
      ]
    },
    {
      "cell_type": "code",
      "execution_count": null,
      "metadata": {
        "colab": {
          "base_uri": "https://localhost:8080/"
        },
        "id": "ef_R2X8Xa326",
        "outputId": "09962046-add1-4776-9bb8-87cb359c9cf2"
      },
      "outputs": [
        {
          "output_type": "stream",
          "name": "stdout",
          "text": [
            "KNN Metrics: {'Sensitivity (Recall)': 0.8932480454868514, 'Specificity': 0.5480432038154018, 'MCC': 0.4696485942455549, 'F1 Score': 0.759808959555045, 'Accuracy': 0.71950014120305}\n"
          ]
        }
      ],
      "source": [
        "# KNN Classifier\n",
        "\n",
        "knn_model = KNeighborsClassifier(n_neighbors=5)\n",
        "knn_model.fit(X_train, y_train)\n",
        "knn_pred = knn_model.predict(X_test)\n",
        "knn_metrics = calculate_metrics(y_test, knn_pred)\n",
        "print(\"KNN Metrics:\", knn_metrics)"
      ]
    },
    {
      "cell_type": "code",
      "execution_count": null,
      "metadata": {
        "colab": {
          "base_uri": "https://localhost:8080/"
        },
        "id": "GooH2f3qbrhg",
        "outputId": "2a131e5c-12ce-4fb3-e8ec-4685511fc3db"
      },
      "outputs": [
        {
          "output_type": "stream",
          "name": "stdout",
          "text": [
            "Logistic Regression Metrics: {'Sensitivity (Recall)': 0.6442075337597726, 'Specificity': 0.6322064805723103, 'MCC': 0.2764222130064604, 'F1 Score': 0.6388047078722955, 'Accuracy': 0.6381671844111833}\n"
          ]
        }
      ],
      "source": [
        "# Logistic Regression\n",
        "\n",
        "logreg_model = LogisticRegression(max_iter=1000)\n",
        "logreg_model.fit(X_train, y_train)\n",
        "logreg_pred = logreg_model.predict(X_test)\n",
        "logreg_metrics = calculate_metrics(y_test, logreg_pred)\n",
        "print(\"Logistic Regression Metrics:\", logreg_metrics)"
      ]
    },
    {
      "cell_type": "code",
      "execution_count": null,
      "metadata": {
        "colab": {
          "base_uri": "https://localhost:8080/"
        },
        "id": "N3f2eNOpdYRt",
        "outputId": "65d23c3c-393d-4d0b-c09e-6c52a8245bc4"
      },
      "outputs": [
        {
          "output_type": "stream",
          "name": "stdout",
          "text": [
            "Gradient Boosting Metrics: {'Sensitivity (Recall)': 0.7383084577114428, 'Specificity': 0.6564735587038856, 'MCC': 0.3960177840291193, 'F1 Score': 0.7077258482082027, 'Accuracy': 0.697119457780288}\n"
          ]
        }
      ],
      "source": [
        "# Gradient Boosting Classifier\n",
        "\n",
        "gb_model = GradientBoostingClassifier(\n",
        "    n_estimators=50,\n",
        "    learning_rate=0.2,\n",
        "    max_depth=3,\n",
        "    max_features=\"sqrt\",\n",
        "    subsample=0.8,\n",
        "    validation_fraction=0.1,\n",
        "    n_iter_no_change=10,\n",
        "    random_state=42\n",
        ")\n",
        "\n",
        "gb_model.fit(X_train, y_train)\n",
        "gb_pred = gb_model.predict(X_test)\n",
        "gb_metrics = calculate_metrics(y_test, gb_pred)\n",
        "print(\"Gradient Boosting Metrics:\", gb_metrics)"
      ]
    },
    {
      "cell_type": "code",
      "execution_count": null,
      "metadata": {
        "colab": {
          "base_uri": "https://localhost:8080/"
        },
        "id": "dM7wF23jlXan",
        "outputId": "d8355524-800e-407d-a0bb-39ffbe7180e6"
      },
      "outputs": [
        {
          "output_type": "stream",
          "name": "stdout",
          "text": [
            "SVM Metrics: {'Sensitivity (Recall)': 0.6515991471215352, 'Specificity': 0.6295413101416748, 'MCC': 0.2811915952880853, 'F1 Score': 0.6429172510518935, 'Accuracy': 0.6404970347359503}\n"
          ]
        }
      ],
      "source": [
        "#Support Vector Machine\n",
        "\n",
        "svm_model = LinearSVC(random_state=42,max_iter=10000)\n",
        "svm_model.fit(X_train, y_train)\n",
        "svm_pred = svm_model.predict(X_test)\n",
        "svm_metrics =calculate_metrics(y_test,svm_pred)\n",
        "print(\"SVM Metrics:\", svm_metrics)"
      ]
    },
    {
      "cell_type": "markdown",
      "source": [
        "\n",
        "####Mean MCC while using Spectrum Kernel Vectors: 0.3016\n",
        "\n",
        "####Mean MCC while uing Fasttext features: 0.3982\n",
        "Based on the comparison between spectrum vector features and fasttext features, the models used produce better performance with the fasttext features. Therefore, they will be used going forward for the models."
      ],
      "metadata": {
        "id": "lJYAH7kvd3xl"
      }
    },
    {
      "cell_type": "code",
      "source": [
        "# Visualization of performance of individual models\n",
        "\n",
        "import pandas as pd\n",
        "import matplotlib.pyplot as plt\n",
        "import numpy as np\n",
        "\n",
        "# Data\n",
        "model_names = ['Naive Bayes', 'Random Forest', 'KNN', 'Logistic Regression', 'Gradient Boosting', 'Linear SVM']\n",
        "fasttext_sensitivity=[79.55, 81.56, 89.51, 64.49, 74.61, 64.79]\n",
        "fasttext_specificity=[54.64, 79.03, 53.99, 63.29, 66.07,63.15]\n",
        "fasttext_mcc=[35.27, 60.61, 46.48, 27.78, 40.82, 27.94]\n",
        "\n",
        "spectrum_sensitivity=[37.87, 74.36, 86.91, 61.75, 69.41, 60.87]\n",
        "spectrum_specificity=[70.42, 77.99, 27.72, 70.73, 67.32,71.30]\n",
        "spectrum_mcc=[8.76, 52.39, 18.13, 32.61, 36.73, 32.35]\n",
        "\n",
        "def generate(sensitivity, specificity, mcc):\n",
        "  data =pd.DataFrame({'Model Names': model_names,'Sensitivity': sensitivity,'Specificity': specificity,'MCC': mcc})\n",
        "  # Plot setup\n",
        "  fig, ax = plt.subplots(figsize=(10, 6))\n",
        "  bar_width = 0.25\n",
        "  x = np.arange(len(model_names))\n",
        "\n",
        "  # Plotting bars\n",
        "  bars1 = ax.bar(x - bar_width, sensitivity, bar_width, label='Sensitivity', color=\"lightseagreen\")\n",
        "  bars2 = ax.bar(x, specificity, bar_width, label='Specificity', color=\"royalblue\")\n",
        "  bars3 = ax.bar(x + bar_width, mcc, bar_width, label='MCC', color=\"purple\")\n",
        "\n",
        "  # Adding value labels on top of each bar\n",
        "  for bars in [bars1, bars2, bars3]:\n",
        "      for bar in bars:\n",
        "          height = bar.get_height()\n",
        "          ax.annotate(f'{height:.2f}',  # format to 2 decimal places\n",
        "                      xy=(bar.get_x() + bar.get_width() / 2, height),\n",
        "                      xytext=(0, 3),  # offset text position\n",
        "                      textcoords=\"offset points\",\n",
        "                      ha='center', va='bottom')\n",
        "\n",
        "  # Labels and title\n",
        "  ax.set_xlabel('Model Names')\n",
        "  ax.set_ylabel('Metrics (as percentage)')\n",
        "  ax.set_title('Model Comparison')\n",
        "  ax.set_xticks(x)\n",
        "  ax.set_xticklabels(model_names)\n",
        "  ax.legend(title=\"Metrics\")\n",
        "  plt.tight_layout()\n",
        "  plt.show()\n",
        "  return(np.mean(mcc))\n",
        "\n",
        "mean_mcc1=generate(fasttext_sensitivity,fasttext_specificity, fasttext_mcc)\n",
        "mean_mcc2=generate(spectrum_sensitivity,spectrum_sensitivity,spectrum_mcc)\n",
        "print(mean_mcc1)\n",
        "print(mean_mcc2)\n"
      ],
      "metadata": {
        "colab": {
          "base_uri": "https://localhost:8080/",
          "height": 1000
        },
        "id": "29Li0XVNbqXc",
        "outputId": "7cff8f84-4f59-422d-feaf-9b86d26e7442"
      },
      "execution_count": null,
      "outputs": [
        {
          "output_type": "display_data",
          "data": {
            "text/plain": [
              "<Figure size 1000x600 with 1 Axes>"
            ],
            "image/png": "[encoded data removed]"
          },
          "metadata": {}
        },
        {
          "output_type": "display_data",
          "data": {
            "text/plain": [
              "<Figure size 1000x600 with 1 Axes>"
            ],
            "image/png": "[encoded data removed]"
          },
          "metadata": {}
        },
        {
          "output_type": "stream",
          "name": "stdout",
          "text": [
            "39.81666666666666\n",
            "30.161666666666665\n"
          ]
        }
      ]
    },
    {
      "cell_type": "code",
      "execution_count": null,
      "metadata": {
        "colab": {
          "base_uri": "https://localhost:8080/"
        },
        "id": "IXgYlbHL3O2R",
        "outputId": "61d4952f-755a-4ffb-be9f-1454f93250c1"
      },
      "outputs": [
        {
          "output_type": "stream",
          "name": "stdout",
          "text": [
            "Stacked Model Metrics: {'Sensitivity (Recall)': 0.8063965884861407, 'Specificity': 0.826062561369056, 'MCC': 0.6326253741643789, 'F1 Score': 0.81344995698308, 'Accuracy': 0.8162948319683705}\n"
          ]
        }
      ],
      "source": [
        "#stacking based on output metrics for individual models\n",
        "#base models: knn(to improve recall), randomforest(balanced performance across all metrics) and gradient boosting(adds diversity and has high recall)\n",
        "#meta model: logistic regression(simple but effective as a combiner)\n",
        "\n",
        "\n",
        "base_models = [\n",
        "    ('gb', gb_model), #diversity\n",
        "    ('rf', random_forest_model), #balanced performance\n",
        "    ('knn',knn_model) #recall focussed\n",
        "]\n",
        "\n",
        "# Meta model (Logistic Regression)\n",
        "meta_model = logreg_model\n",
        "\n",
        "# Stacking classifier\n",
        "stacked_model = StackingClassifier(estimators=base_models, final_estimator=meta_model, cv=3)#3 instead of 5 to make the run more efficient\n",
        "\n",
        "# Fit the stacked model\n",
        "stacked_model.fit(X_train, y_train)\n",
        "\n",
        "# Predict on test set\n",
        "y_pred = stacked_model.predict(X_test)\n",
        "\n",
        "stacked_metrics= calculate_metrics(y_test, y_pred)\n",
        "print(\"Stacked Model Metrics:\", stacked_metrics)"
      ]
    },
    {
      "cell_type": "markdown",
      "source": [
        "The stacked model shows better performance than the individual base models. However, it has only been trained on 80% of the training data. Therefore, we will also train it on the entire training data, but first, we will perform hyperparameter tuning using random search to find the best hyperparameters."
      ],
      "metadata": {
        "id": "OOz-zJtK2ikz"
      }
    },
    {
      "cell_type": "code",
      "source": [
        "#Hyperparameter tuning using Randomized Search\n",
        "\n",
        "from sklearn.model_selection import RandomizedSearchCV\n",
        "from sklearn.metrics import classification_report\n",
        "from scipy.stats import uniform, randint\n",
        "\n",
        "# Define parameter distributions\n",
        "param_dist = {\n",
        "    'rf__n_estimators': randint(50, 100),\n",
        "    'rf__max_depth': [None, 5],\n",
        "    'knn__n_neighbors': randint(3,5),\n",
        "    'gb__n_estimators': randint(30, 60),\n",
        "    'gb__learning_rate': uniform(0.1, 0.25),\n",
        "    'final_estimator__C': uniform(0.1, 10)\n",
        "}\n",
        "\n",
        "# RandomizedSearchCV on the stacked model\n",
        "random_search = RandomizedSearchCV(\n",
        "    stacked_model,\n",
        "    param_distributions=param_dist,\n",
        "    n_iter=10,                # Run 20 different parameter combinations\n",
        "    cv=2,                     # 3-fold cross-validation for efficiency\n",
        "    scoring='accuracy',       # Adjust scoring as needed\n",
        "    random_state=42,\n",
        "    n_jobs=-1                 # Use all available cores\n",
        ")\n",
        "\n",
        "# Fit the random search\n",
        "random_search.fit(X_train, y_train)\n",
        "\n",
        "# Retrieve the best model and parameters\n",
        "best_model = random_search.best_estimator_\n",
        "best_params = random_search.best_params_\n",
        "\n",
        "# Predictions and performance evaluation\n",
        "y_pred = best_model.predict(X_test)\n",
        "print(f\"Best Hyperparameters: {best_params}\")\n",
        "print(\"Classification Report:\\n\", classification_report(y_test, y_pred))\n"
      ],
      "metadata": {
        "colab": {
          "base_uri": "https://localhost:8080/"
        },
        "id": "Kx4e8nX2_HJT",
        "outputId": "f4f6af96-aafc-4915-90e6-8ec7af38e88d"
      },
      "execution_count": null,
      "outputs": [
        {
          "output_type": "stream",
          "name": "stdout",
          "text": [
            "Best Hyperparameters: {'final_estimator__C': 6.2165316048828085, 'gb__learning_rate': 0.10176657630492936, 'gb__n_estimators': 54, 'knn__n_neighbors': 3, 'rf__max_depth': None, 'rf__n_estimators': 91}\n",
            "Classification Report:\n",
            "               precision    recall  f1-score   support\n",
            "\n",
            "           0       0.81      0.82      0.81      7129\n",
            "           1       0.81      0.80      0.81      7035\n",
            "\n",
            "    accuracy                           0.81     14164\n",
            "   macro avg       0.81      0.81      0.81     14164\n",
            "weighted avg       0.81      0.81      0.81     14164\n",
            "\n"
          ]
        }
      ]
    },
    {
      "cell_type": "code",
      "source": [
        "# Stacked model using best hyperparameters and 100% of the train.fasta data\n",
        "\n",
        "entire_random_forest_model = RandomForestClassifier(n_estimators=91, random_state=42)\n",
        "entire_random_forest_model.fit(fasttext_sequences_scaled_balanced, fasttext_labels_balanced)\n",
        "\n",
        "entire_knn_model = KNeighborsClassifier(n_neighbors=3)\n",
        "entire_knn_model.fit(fasttext_sequences_scaled_balanced, fasttext_labels_balanced)\n",
        "\n",
        "entire_gb_model = GradientBoostingClassifier(\n",
        "    n_estimators=54,        # Fewer trees\n",
        "    learning_rate=0.10176657630492936,      # Higher learning rate\n",
        "    max_depth=3,            # Limit tree depth\n",
        "    max_features=\"sqrt\",    # Limit features per split\n",
        "    subsample=0.8,          # Use subsampling\n",
        "    validation_fraction=0.1,\n",
        "    n_iter_no_change=10,    # Early stopping\n",
        "    random_state=42\n",
        ")\n",
        "entire_gb_model.fit(fasttext_sequences_scaled_balanced, fasttext_labels_balanced)\n",
        "\n",
        "entire_logreg_model = LogisticRegression(max_iter=1000)\n",
        "entire_logreg_model.fit(fasttext_sequences_scaled_balanced, fasttext_labels_balanced)\n",
        "\n",
        "entire_base_models = [\n",
        "    ('gb', entire_gb_model), #diversity\n",
        "    ('rf', entire_random_forest_model), #balanced performance\n",
        "    ('knn',entire_knn_model) #recall focussed\n",
        "]\n",
        "\n",
        "entire_meta_model = entire_logreg_model\n",
        "\n",
        "# Stacking classifier\n",
        "entire_stacked_model = StackingClassifier(estimators=entire_base_models, final_estimator=entire_meta_model, cv=3)#3 instead of 5 to make the run more efficient\n",
        "\n",
        "# Fit the stacked model\n",
        "entire_stacked_model.fit(fasttext_sequences_scaled_balanced,fasttext_labels_balanced)"
      ],
      "metadata": {
        "colab": {
          "base_uri": "https://localhost:8080/",
          "height": 181
        },
        "id": "ZGB1_340236G",
        "outputId": "bee79923-242c-40fe-9735-37b3df8bbf28"
      },
      "execution_count": null,
      "outputs": [
        {
          "output_type": "execute_result",
          "data": {
            "text/plain": [
              "StackingClassifier(cv=3,\n",
              "                   estimators=[('gb',\n",
              "                                GradientBoostingClassifier(learning_rate=0.10176657630492936,\n",
              "                                                           max_features='sqrt',\n",
              "                                                           n_estimators=54,\n",
              "                                                           n_iter_no_change=10,\n",
              "                                                           random_state=42,\n",
              "                                                           subsample=0.8)),\n",
              "                               ('rf',\n",
              "                                RandomForestClassifier(n_estimators=91,\n",
              "                                                       random_state=42)),\n",
              "                               ('knn', KNeighborsClassifier(n_neighbors=3))],\n",
              "                   final_estimator=LogisticRegression(max_iter=1000))"
            ],
            "text/html": [
              "<style>#sk-container-id-1 {\n",
              "  /* Definition of color scheme common for light and dark mode */\n",
              "  --sklearn-color-text: black;\n",
              "  --sklearn-color-line: gray;\n",
              "  /* Definition of color scheme for unfitted estimators */\n",
              "  --sklearn-color-unfitted-level-0: #fff5e6;\n",
              "  --sklearn-color-unfitted-level-1: #f6e4d2;\n",
              "  --sklearn-color-unfitted-level-2: #ffe0b3;\n",
              "  --sklearn-color-unfitted-level-3: chocolate;\n",
              "  /* Definition of color scheme for fitted estimators */\n",
              "  --sklearn-color-fitted-level-0: #f0f8ff;\n",
              "  --sklearn-color-fitted-level-1: #d4ebff;\n",
              "  --sklearn-color-fitted-level-2: #b3dbfd;\n",
              "  --sklearn-color-fitted-level-3: cornflowerblue;\n",
              "\n",
              "  /* Specific color for light theme */\n",
              "  --sklearn-color-text-on-default-background: var(--sg-text-color, var(--theme-code-foreground, var(--jp-content-font-color1, black)));\n",
              "  --sklearn-color-background: var(--sg-background-color, var(--theme-background, var(--jp-layout-color0, white)));\n",
              "  --sklearn-color-border-box: var(--sg-text-color, var(--theme-code-foreground, var(--jp-content-font-color1, black)));\n",
              "  --sklearn-color-icon: #696969;\n",
              "\n",
              "  @media (prefers-color-scheme: dark) {\n",
              "    /* Redefinition of color scheme for dark theme */\n",
              "    --sklearn-color-text-on-default-background: var(--sg-text-color, var(--theme-code-foreground, var(--jp-content-font-color1, white)));\n",
              "    --sklearn-color-background: var(--sg-background-color, var(--theme-background, var(--jp-layout-color0, #111)));\n",
              "    --sklearn-color-border-box: var(--sg-text-color, var(--theme-code-foreground, var(--jp-content-font-color1, white)));\n",
              "    --sklearn-color-icon: #878787;\n",
              "  }\n",
              "}\n",
              "\n",
              "#sk-container-id-1 {\n",
              "  color: var(--sklearn-color-text);\n",
              "}\n",
              "\n",
              "#sk-container-id-1 pre {\n",
              "  padding: 0;\n",
              "}\n",
              "\n",
              "#sk-container-id-1 input.sk-hidden--visually {\n",
              "  border: 0;\n",
              "  clip: rect(1px 1px 1px 1px);\n",
              "  clip: rect(1px, 1px, 1px, 1px);\n",
              "  height: 1px;\n",
              "  margin: -1px;\n",
              "  overflow: hidden;\n",
              "  padding: 0;\n",
              "  position: absolute;\n",
              "  width: 1px;\n",
              "}\n",
              "\n",
              "#sk-container-id-1 div.sk-dashed-wrapped {\n",
              "  border: 1px dashed var(--sklearn-color-line);\n",
              "  margin: 0 0.4em 0.5em 0.4em;\n",
              "  box-sizing: border-box;\n",
              "  padding-bottom: 0.4em;\n",
              "  background-color: var(--sklearn-color-background);\n",
              "}\n",
              "\n",
              "#sk-container-id-1 div.sk-container {\n",
              "  /* jupyter's `normalize.less` sets `[hidden] { display: none; }`\n",
              "     but bootstrap.min.css set `[hidden] { display: none !important; }`\n",
              "     so we also need the `!important` here to be able to override the\n",
              "     default hidden behavior on the sphinx rendered scikit-learn.org.\n",
              "     See: https://github.com/scikit-learn/scikit-learn/issues/21755 */\n",
              "  display: inline-block !important;\n",
              "  position: relative;\n",
              "}\n",
              "\n",
              "#sk-container-id-1 div.sk-text-repr-fallback {\n",
              "  display: none;\n",
              "}\n",
              "\n",
              "div.sk-parallel-item,\n",
              "div.sk-serial,\n",
              "div.sk-item {\n",
              "  /* draw centered vertical line to link estimators */\n",
              "  background-image: linear-gradient(var(--sklearn-color-text-on-default-background), var(--sklearn-color-text-on-default-background));\n",
              "  background-size: 2px 100%;\n",
              "  background-repeat: no-repeat;\n",
              "  background-position: center center;\n",
              "}\n",
              "\n",
              "/* Parallel-specific style estimator block */\n",
              "\n",
              "#sk-container-id-1 div.sk-parallel-item::after {\n",
              "  content: \"\";\n",
              "  width: 100%;\n",
              "  border-bottom: 2px solid var(--sklearn-color-text-on-default-background);\n",
              "  flex-grow: 1;\n",
              "}\n",
              "\n",
              "#sk-container-id-1 div.sk-parallel {\n",
              "  display: flex;\n",
              "  align-items: stretch;\n",
              "  justify-content: center;\n",
              "  background-color: var(--sklearn-color-background);\n",
              "  position: relative;\n",
              "}\n",
              "\n",
              "#sk-container-id-1 div.sk-parallel-item {\n",
              "  display: flex;\n",
              "  flex-direction: column;\n",
              "}\n",
              "\n",
              "#sk-container-id-1 div.sk-parallel-item:first-child::after {\n",
              "  align-self: flex-end;\n",
              "  width: 50%;\n",
              "}\n",
              "\n",
              "#sk-container-id-1 div.sk-parallel-item:last-child::after {\n",
              "  align-self: flex-start;\n",
              "  width: 50%;\n",
              "}\n",
              "\n",
              "#sk-container-id-1 div.sk-parallel-item:only-child::after {\n",
              "  width: 0;\n",
              "}\n",
              "\n",
              "/* Serial-specific style estimator block */\n",
              "\n",
              "#sk-container-id-1 div.sk-serial {\n",
              "  display: flex;\n",
              "  flex-direction: column;\n",
              "  align-items: center;\n",
              "  background-color: var(--sklearn-color-background);\n",
              "  padding-right: 1em;\n",
              "  padding-left: 1em;\n",
              "}\n",
              "\n",
              "\n",
              "/* Toggleable style: style used for estimator/Pipeline/ColumnTransformer box that is\n",
              "clickable and can be expanded/collapsed.\n",
              "- Pipeline and ColumnTransformer use this feature and define the default style\n",
              "- Estimators will overwrite some part of the style using the `sk-estimator` class\n",
              "*/\n",
              "\n",
              "/* Pipeline and ColumnTransformer style (default) */\n",
              "\n",
              "#sk-container-id-1 div.sk-toggleable {\n",
              "  /* Default theme specific background. It is overwritten whether we have a\n",
              "  specific estimator or a Pipeline/ColumnTransformer */\n",
              "  background-color: var(--sklearn-color-background);\n",
              "}\n",
              "\n",
              "/* Toggleable label */\n",
              "#sk-container-id-1 label.sk-toggleable__label {\n",
              "  cursor: pointer;\n",
              "  display: block;\n",
              "  width: 100%;\n",
              "  margin-bottom: 0;\n",
              "  padding: 0.5em;\n",
              "  box-sizing: border-box;\n",
              "  text-align: center;\n",
              "}\n",
              "\n",
              "#sk-container-id-1 label.sk-toggleable__label-arrow:before {\n",
              "  /* Arrow on the left of the label */\n",
              "  content: \"▸\";\n",
              "  float: left;\n",
              "  margin-right: 0.25em;\n",
              "  color: var(--sklearn-color-icon);\n",
              "}\n",
              "\n",
              "#sk-container-id-1 label.sk-toggleable__label-arrow:hover:before {\n",
              "  color: var(--sklearn-color-text);\n",
              "}\n",
              "\n",
              "/* Toggleable content - dropdown */\n",
              "\n",
              "#sk-container-id-1 div.sk-toggleable__content {\n",
              "  max-height: 0;\n",
              "  max-width: 0;\n",
              "  overflow: hidden;\n",
              "  text-align: left;\n",
              "  /* unfitted */\n",
              "  background-color: var(--sklearn-color-unfitted-level-0);\n",
              "}\n",
              "\n",
              "#sk-container-id-1 div.sk-toggleable__content.fitted {\n",
              "  /* fitted */\n",
              "  background-color: var(--sklearn-color-fitted-level-0);\n",
              "}\n",
              "\n",
              "#sk-container-id-1 div.sk-toggleable__content pre {\n",
              "  margin: 0.2em;\n",
              "  border-radius: 0.25em;\n",
              "  color: var(--sklearn-color-text);\n",
              "  /* unfitted */\n",
              "  background-color: var(--sklearn-color-unfitted-level-0);\n",
              "}\n",
              "\n",
              "#sk-container-id-1 div.sk-toggleable__content.fitted pre {\n",
              "  /* unfitted */\n",
              "  background-color: var(--sklearn-color-fitted-level-0);\n",
              "}\n",
              "\n",
              "#sk-container-id-1 input.sk-toggleable__control:checked~div.sk-toggleable__content {\n",
              "  /* Expand drop-down */\n",
              "  max-height: 200px;\n",
              "  max-width: 100%;\n",
              "  overflow: auto;\n",
              "}\n",
              "\n",
              "#sk-container-id-1 input.sk-toggleable__control:checked~label.sk-toggleable__label-arrow:before {\n",
              "  content: \"▾\";\n",
              "}\n",
              "\n",
              "/* Pipeline/ColumnTransformer-specific style */\n",
              "\n",
              "#sk-container-id-1 div.sk-label input.sk-toggleable__control:checked~label.sk-toggleable__label {\n",
              "  color: var(--sklearn-color-text);\n",
              "  background-color: var(--sklearn-color-unfitted-level-2);\n",
              "}\n",
              "\n",
              "#sk-container-id-1 div.sk-label.fitted input.sk-toggleable__control:checked~label.sk-toggleable__label {\n",
              "  background-color: var(--sklearn-color-fitted-level-2);\n",
              "}\n",
              "\n",
              "/* Estimator-specific style */\n",
              "\n",
              "/* Colorize estimator box */\n",
              "#sk-container-id-1 div.sk-estimator input.sk-toggleable__control:checked~label.sk-toggleable__label {\n",
              "  /* unfitted */\n",
              "  background-color: var(--sklearn-color-unfitted-level-2);\n",
              "}\n",
              "\n",
              "#sk-container-id-1 div.sk-estimator.fitted input.sk-toggleable__control:checked~label.sk-toggleable__label {\n",
              "  /* fitted */\n",
              "  background-color: var(--sklearn-color-fitted-level-2);\n",
              "}\n",
              "\n",
              "#sk-container-id-1 div.sk-label label.sk-toggleable__label,\n",
              "#sk-container-id-1 div.sk-label label {\n",
              "  /* The background is the default theme color */\n",
              "  color: var(--sklearn-color-text-on-default-background);\n",
              "}\n",
              "\n",
              "/* On hover, darken the color of the background */\n",
              "#sk-container-id-1 div.sk-label:hover label.sk-toggleable__label {\n",
              "  color: var(--sklearn-color-text);\n",
              "  background-color: var(--sklearn-color-unfitted-level-2);\n",
              "}\n",
              "\n",
              "/* Label box, darken color on hover, fitted */\n",
              "#sk-container-id-1 div.sk-label.fitted:hover label.sk-toggleable__label.fitted {\n",
              "  color: var(--sklearn-color-text);\n",
              "  background-color: var(--sklearn-color-fitted-level-2);\n",
              "}\n",
              "\n",
              "/* Estimator label */\n",
              "\n",
              "#sk-container-id-1 div.sk-label label {\n",
              "  font-family: monospace;\n",
              "  font-weight: bold;\n",
              "  display: inline-block;\n",
              "  line-height: 1.2em;\n",
              "}\n",
              "\n",
              "#sk-container-id-1 div.sk-label-container {\n",
              "  text-align: center;\n",
              "}\n",
              "\n",
              "/* Estimator-specific */\n",
              "#sk-container-id-1 div.sk-estimator {\n",
              "  font-family: monospace;\n",
              "  border: 1px dotted var(--sklearn-color-border-box);\n",
              "  border-radius: 0.25em;\n",
              "  box-sizing: border-box;\n",
              "  margin-bottom: 0.5em;\n",
              "  /* unfitted */\n",
              "  background-color: var(--sklearn-color-unfitted-level-0);\n",
              "}\n",
              "\n",
              "#sk-container-id-1 div.sk-estimator.fitted {\n",
              "  /* fitted */\n",
              "  background-color: var(--sklearn-color-fitted-level-0);\n",
              "}\n",
              "\n",
              "/* on hover */\n",
              "#sk-container-id-1 div.sk-estimator:hover {\n",
              "  /* unfitted */\n",
              "  background-color: var(--sklearn-color-unfitted-level-2);\n",
              "}\n",
              "\n",
              "#sk-container-id-1 div.sk-estimator.fitted:hover {\n",
              "  /* fitted */\n",
              "  background-color: var(--sklearn-color-fitted-level-2);\n",
              "}\n",
              "\n",
              "/* Specification for estimator info (e.g. \"i\" and \"?\") */\n",
              "\n",
              "/* Common style for \"i\" and \"?\" */\n",
              "\n",
              ".sk-estimator-doc-link,\n",
              "a:link.sk-estimator-doc-link,\n",
              "a:visited.sk-estimator-doc-link {\n",
              "  float: right;\n",
              "  font-size: smaller;\n",
              "  line-height: 1em;\n",
              "  font-family: monospace;\n",
              "  background-color: var(--sklearn-color-background);\n",
              "  border-radius: 1em;\n",
              "  height: 1em;\n",
              "  width: 1em;\n",
              "  text-decoration: none !important;\n",
              "  margin-left: 1ex;\n",
              "  /* unfitted */\n",
              "  border: var(--sklearn-color-unfitted-level-1) 1pt solid;\n",
              "  color: var(--sklearn-color-unfitted-level-1);\n",
              "}\n",
              "\n",
              ".sk-estimator-doc-link.fitted,\n",
              "a:link.sk-estimator-doc-link.fitted,\n",
              "a:visited.sk-estimator-doc-link.fitted {\n",
              "  /* fitted */\n",
              "  border: var(--sklearn-color-fitted-level-1) 1pt solid;\n",
              "  color: var(--sklearn-color-fitted-level-1);\n",
              "}\n",
              "\n",
              "/* On hover */\n",
              "div.sk-estimator:hover .sk-estimator-doc-link:hover,\n",
              ".sk-estimator-doc-link:hover,\n",
              "div.sk-label-container:hover .sk-estimator-doc-link:hover,\n",
              ".sk-estimator-doc-link:hover {\n",
              "  /* unfitted */\n",
              "  background-color: var(--sklearn-color-unfitted-level-3);\n",
              "  color: var(--sklearn-color-background);\n",
              "  text-decoration: none;\n",
              "}\n",
              "\n",
              "div.sk-estimator.fitted:hover .sk-estimator-doc-link.fitted:hover,\n",
              ".sk-estimator-doc-link.fitted:hover,\n",
              "div.sk-label-container:hover .sk-estimator-doc-link.fitted:hover,\n",
              ".sk-estimator-doc-link.fitted:hover {\n",
              "  /* fitted */\n",
              "  background-color: var(--sklearn-color-fitted-level-3);\n",
              "  color: var(--sklearn-color-background);\n",
              "  text-decoration: none;\n",
              "}\n",
              "\n",
              "/* Span, style for the box shown on hovering the info icon */\n",
              ".sk-estimator-doc-link span {\n",
              "  display: none;\n",
              "  z-index: 9999;\n",
              "  position: relative;\n",
              "  font-weight: normal;\n",
              "  right: .2ex;\n",
              "  padding: .5ex;\n",
              "  margin: .5ex;\n",
              "  width: min-content;\n",
              "  min-width: 20ex;\n",
              "  max-width: 50ex;\n",
              "  color: var(--sklearn-color-text);\n",
              "  box-shadow: 2pt 2pt 4pt #999;\n",
              "  /* unfitted */\n",
              "  background: var(--sklearn-color-unfitted-level-0);\n",
              "  border: .5pt solid var(--sklearn-color-unfitted-level-3);\n",
              "}\n",
              "\n",
              ".sk-estimator-doc-link.fitted span {\n",
              "  /* fitted */\n",
              "  background: var(--sklearn-color-fitted-level-0);\n",
              "  border: var(--sklearn-color-fitted-level-3);\n",
              "}\n",
              "\n",
              ".sk-estimator-doc-link:hover span {\n",
              "  display: block;\n",
              "}\n",
              "\n",
              "/* \"?\"-specific style due to the `<a>` HTML tag */\n",
              "\n",
              "#sk-container-id-1 a.estimator_doc_link {\n",
              "  float: right;\n",
              "  font-size: 1rem;\n",
              "  line-height: 1em;\n",
              "  font-family: monospace;\n",
              "  background-color: var(--sklearn-color-background);\n",
              "  border-radius: 1rem;\n",
              "  height: 1rem;\n",
              "  width: 1rem;\n",
              "  text-decoration: none;\n",
              "  /* unfitted */\n",
              "  color: var(--sklearn-color-unfitted-level-1);\n",
              "  border: var(--sklearn-color-unfitted-level-1) 1pt solid;\n",
              "}\n",
              "\n",
              "#sk-container-id-1 a.estimator_doc_link.fitted {\n",
              "  /* fitted */\n",
              "  border: var(--sklearn-color-fitted-level-1) 1pt solid;\n",
              "  color: var(--sklearn-color-fitted-level-1);\n",
              "}\n",
              "\n",
              "/* On hover */\n",
              "#sk-container-id-1 a.estimator_doc_link:hover {\n",
              "  /* unfitted */\n",
              "  background-color: var(--sklearn-color-unfitted-level-3);\n",
              "  color: var(--sklearn-color-background);\n",
              "  text-decoration: none;\n",
              "}\n",
              "\n",
              "#sk-container-id-1 a.estimator_doc_link.fitted:hover {\n",
              "  /* fitted */\n",
              "  background-color: var(--sklearn-color-fitted-level-3);\n",
              "}\n",
              "</style><div id=\"sk-container-id-1\" class=\"sk-top-container\"><div class=\"sk-text-repr-fallback\"><pre>StackingClassifier(cv=3,\n",
              "                   estimators=[(&#x27;gb&#x27;,\n",
              "                                GradientBoostingClassifier(learning_rate=0.10176657630492936,\n",
              "                                                           max_features=&#x27;sqrt&#x27;,\n",
              "                                                           n_estimators=54,\n",
              "                                                           n_iter_no_change=10,\n",
              "                                                           random_state=42,\n",
              "                                                           subsample=0.8)),\n",
              "                               (&#x27;rf&#x27;,\n",
              "                                RandomForestClassifier(n_estimators=91,\n",
              "                                                       random_state=42)),\n",
              "                               (&#x27;knn&#x27;, KNeighborsClassifier(n_neighbors=3))],\n",
              "                   final_estimator=LogisticRegression(max_iter=1000))</pre><b>In a Jupyter environment, please rerun this cell to show the HTML representation or trust the notebook. <br />On GitHub, the HTML representation is unable to render, please try loading this page with nbviewer.org.</b></div><div class=\"sk-container\" hidden><div class=\"sk-item sk-dashed-wrapped\"><div class=\"sk-label-container\"><div class=\"sk-label fitted sk-toggleable\"><input class=\"sk-toggleable__control sk-hidden--visually\" id=\"sk-estimator-id-1\" type=\"checkbox\" ><label for=\"sk-estimator-id-1\" class=\"sk-toggleable__label fitted sk-toggleable__label-arrow fitted\">&nbsp;&nbsp;StackingClassifier<a class=\"sk-estimator-doc-link fitted\" rel=\"noreferrer\" target=\"_blank\" href=\"https://scikit-learn.org/1.5/modules/generated/sklearn.ensemble.StackingClassifier.html\">?<span>Documentation for StackingClassifier</span></a><span class=\"sk-estimator-doc-link fitted\">i<span>Fitted</span></span></label><div class=\"sk-toggleable__content fitted\"><pre>StackingClassifier(cv=3,\n",
              "                   estimators=[(&#x27;gb&#x27;,\n",
              "                                GradientBoostingClassifier(learning_rate=0.10176657630492936,\n",
              "                                                           max_features=&#x27;sqrt&#x27;,\n",
              "                                                           n_estimators=54,\n",
              "                                                           n_iter_no_change=10,\n",
              "                                                           random_state=42,\n",
              "                                                           subsample=0.8)),\n",
              "                               (&#x27;rf&#x27;,\n",
              "                                RandomForestClassifier(n_estimators=91,\n",
              "                                                       random_state=42)),\n",
              "                               (&#x27;knn&#x27;, KNeighborsClassifier(n_neighbors=3))],\n",
              "                   final_estimator=LogisticRegression(max_iter=1000))</pre></div> </div></div><div class=\"sk-serial\"><div class=\"sk-item\"><div class=\"sk-parallel\"><div class=\"sk-parallel-item\"><div class=\"sk-item\"><div class=\"sk-label-container\"><div class=\"sk-label fitted sk-toggleable\"><label>gb</label></div></div><div class=\"sk-serial\"><div class=\"sk-item\"><div class=\"sk-estimator fitted sk-toggleable\"><input class=\"sk-toggleable__control sk-hidden--visually\" id=\"sk-estimator-id-2\" type=\"checkbox\" ><label for=\"sk-estimator-id-2\" class=\"sk-toggleable__label fitted sk-toggleable__label-arrow fitted\">&nbsp;GradientBoostingClassifier<a class=\"sk-estimator-doc-link fitted\" rel=\"noreferrer\" target=\"_blank\" href=\"https://scikit-learn.org/1.5/modules/generated/sklearn.ensemble.GradientBoostingClassifier.html\">?<span>Documentation for GradientBoostingClassifier</span></a></label><div class=\"sk-toggleable__content fitted\"><pre>GradientBoostingClassifier(learning_rate=0.10176657630492936,\n",
              "                           max_features=&#x27;sqrt&#x27;, n_estimators=54,\n",
              "                           n_iter_no_change=10, random_state=42, subsample=0.8)</pre></div> </div></div></div></div></div><div class=\"sk-parallel-item\"><div class=\"sk-item\"><div class=\"sk-label-container\"><div class=\"sk-label fitted sk-toggleable\"><label>rf</label></div></div><div class=\"sk-serial\"><div class=\"sk-item\"><div class=\"sk-estimator fitted sk-toggleable\"><input class=\"sk-toggleable__control sk-hidden--visually\" id=\"sk-estimator-id-3\" type=\"checkbox\" ><label for=\"sk-estimator-id-3\" class=\"sk-toggleable__label fitted sk-toggleable__label-arrow fitted\">&nbsp;RandomForestClassifier<a class=\"sk-estimator-doc-link fitted\" rel=\"noreferrer\" target=\"_blank\" href=\"https://scikit-learn.org/1.5/modules/generated/sklearn.ensemble.RandomForestClassifier.html\">?<span>Documentation for RandomForestClassifier</span></a></label><div class=\"sk-toggleable__content fitted\"><pre>RandomForestClassifier(n_estimators=91, random_state=42)</pre></div> </div></div></div></div></div><div class=\"sk-parallel-item\"><div class=\"sk-item\"><div class=\"sk-label-container\"><div class=\"sk-label fitted sk-toggleable\"><label>knn</label></div></div><div class=\"sk-serial\"><div class=\"sk-item\"><div class=\"sk-estimator fitted sk-toggleable\"><input class=\"sk-toggleable__control sk-hidden--visually\" id=\"sk-estimator-id-4\" type=\"checkbox\" ><label for=\"sk-estimator-id-4\" class=\"sk-toggleable__label fitted sk-toggleable__label-arrow fitted\">&nbsp;KNeighborsClassifier<a class=\"sk-estimator-doc-link fitted\" rel=\"noreferrer\" target=\"_blank\" href=\"https://scikit-learn.org/1.5/modules/generated/sklearn.neighbors.KNeighborsClassifier.html\">?<span>Documentation for KNeighborsClassifier</span></a></label><div class=\"sk-toggleable__content fitted\"><pre>KNeighborsClassifier(n_neighbors=3)</pre></div> </div></div></div></div></div></div></div><div class=\"sk-item\"><div class=\"sk-parallel\"><div class=\"sk-parallel-item\"><div class=\"sk-item\"><div class=\"sk-label-container\"><div class=\"sk-label fitted sk-toggleable\"><label>final_estimator</label></div></div><div class=\"sk-serial\"><div class=\"sk-item\"><div class=\"sk-estimator fitted sk-toggleable\"><input class=\"sk-toggleable__control sk-hidden--visually\" id=\"sk-estimator-id-5\" type=\"checkbox\" ><label for=\"sk-estimator-id-5\" class=\"sk-toggleable__label fitted sk-toggleable__label-arrow fitted\">&nbsp;LogisticRegression<a class=\"sk-estimator-doc-link fitted\" rel=\"noreferrer\" target=\"_blank\" href=\"https://scikit-learn.org/1.5/modules/generated/sklearn.linear_model.LogisticRegression.html\">?<span>Documentation for LogisticRegression</span></a></label><div class=\"sk-toggleable__content fitted\"><pre>LogisticRegression(max_iter=1000)</pre></div> </div></div></div></div></div></div></div></div></div></div></div>"
            ]
          },
          "metadata": {},
          "execution_count": 28
        }
      ]
    },
    {
      "cell_type": "code",
      "execution_count": null,
      "metadata": {
        "colab": {
          "base_uri": "https://localhost:8080/"
        },
        "id": "JYPnxbrKsXwN",
        "outputId": "4acfa09f-0fe0-4eea-9667-02edf71ff294"
      },
      "outputs": [
        {
          "output_type": "stream",
          "name": "stdout",
          "text": [
            "Stacked Model Metrics on Test Data: {'Sensitivity (Recall)': 0.45523724261414505, 'Specificity': 0.8484679665738162, 'MCC': 0.32931287449430763, 'F1 Score': 0.5174255914525566, 'Accuracy': 0.717771330804136}\n"
          ]
        }
      ],
      "source": [
        "# predictions for test.fasta based on stacked model\n",
        "\n",
        "y_test_pred = entire_stacked_model.predict(test_sequences_scaled)\n",
        "entire_stacked_metrics = calculate_metrics(test_labels, y_test_pred)\n",
        "print(\"Stacked Model Metrics on Test Data:\", entire_stacked_metrics)"
      ]
    },
    {
      "cell_type": "markdown",
      "source": [
        "Stacked Model Metrics on Test Data: {'Sensitivity (Recall)': 0.4601611459265891, 'Specificity': 0.8472423398328691, 'MCC': 0.33226025076939825, 'F1 Score': 0.5208359721342621, 'Accuracy': 0.7185896005355947}"
      ],
      "metadata": {
        "id": "91gRSN2J-VHj"
      }
    },
    {
      "cell_type": "markdown",
      "metadata": {
        "id": "FYFy6Kk1sTKO"
      },
      "source": [
        "#Model 2:\n",
        "Recurrent Neural Network"
      ]
    },
    {
      "cell_type": "code",
      "execution_count": null,
      "metadata": {
        "id": "EXcAA0h_nFT_"
      },
      "outputs": [],
      "source": [
        "# importing required libraries\n",
        "\n",
        "import numpy as np\n",
        "import tensorflow as tf\n",
        "from tensorflow.keras.models import Sequential\n",
        "from tensorflow.keras.layers import LSTM, Dense, Dropout, Bidirectional\n",
        "from sklearn.model_selection import train_test_split\n",
        "from tensorflow.keras.callbacks import EarlyStopping\n",
        "from tensorflow.keras.optimizers import Nadam\n",
        "from tensorflow.keras.regularizers import l2\n",
        "from sklearn.metrics import confusion_matrix, accuracy_score, f1_score, matthews_corrcoef, recall_score, precision_score, classification_report\n",
        "import matplotlib.pyplot as plt"
      ]
    },
    {
      "cell_type": "code",
      "execution_count": null,
      "metadata": {
        "id": "V024B0rZnXXM"
      },
      "outputs": [],
      "source": [
        "# function to create the RNN model\n",
        "\n",
        "def create_model(units, activation, dropout_rate, input_shape):\n",
        "    model = Sequential()\n",
        "\n",
        "    model.add(Bidirectional(LSTM(units, activation=activation, return_sequences=True, input_shape=input_shape, kernel_regularizer=tf.keras.regularizers.l2(0.0001))))\n",
        "    model.add(Dropout(dropout_rate))\n",
        "\n",
        "    model.add(Bidirectional(LSTM(units, activation=activation, return_sequences=True, kernel_regularizer=tf.keras.regularizers.l2(0.0001))))\n",
        "    model.add(Dropout(dropout_rate))\n",
        "\n",
        "    model.add(Bidirectional(LSTM(units, activation=activation, kernel_regularizer=tf.keras.regularizers.l2(0.0001))))\n",
        "    model.add(Dropout(dropout_rate))\n",
        "\n",
        "    model.add(Dense(1, activation='sigmoid'))  # Output layer\n",
        "\n",
        "    optimizer = Nadam(learning_rate=0.0005)\n",
        "    model.compile(optimizer=optimizer, loss='binary_crossentropy', metrics=['accuracy'])\n",
        "\n",
        "    return model"
      ]
    },
    {
      "cell_type": "code",
      "execution_count": null,
      "metadata": {
        "id": "wvJuZTIynhCQ"
      },
      "outputs": [],
      "source": [
        "\n",
        "X = np.array(fasttext_sequences_scaled_balanced)\n",
        "y = np.array(fasttext_labels_balanced)\n",
        "\n",
        "# Reshape the input to be 3D for LSTM\n",
        "X = X.reshape((X.shape[0], 1, X.shape[1]))\n",
        "\n",
        "# Split data into training and testing sets\n",
        "X_train, X_test, y_train, y_test = train_test_split(X, y, test_size=0.2, random_state=42)\n",
        "\n",
        "# Hyperparameter ranges\n",
        "lstm_units = [50, 100, 150]\n",
        "activation_functions = ['tanh', 'relu']\n",
        "dropout_rates = [0.2, 0.25, 0.3]\n",
        "\n",
        "# Placeholder to store metrics in the form (units, activation, dropout_rate, sensitivity, specificity, mcc)\n",
        "metrics_list = []\n",
        "\n",
        "# Initialize variables to store the best model and best metrics\n",
        "best_MCC_score = -1  # worst possible score\n",
        "best_sensitivity=0\n",
        "best_specificity=0"
      ]
    },
    {
      "cell_type": "code",
      "execution_count": null,
      "metadata": {
        "id": "LRnyuEY7pGKg"
      },
      "outputs": [],
      "source": [
        "# Function to calculate metrics\n",
        "def calculate_metrics(y_test, y_pred):\n",
        "    # Confusion matrix for sensitivity and specificity\n",
        "    tn, fp, fn, tp = confusion_matrix(y_test, y_pred).ravel()\n",
        "\n",
        "    sensitivity = recall_score(y_test, y_pred)\n",
        "    specificity = tn / (tn + fp)  # True Negative Rate\n",
        "    mcc = matthews_corrcoef(y_test, y_pred)\n",
        "    f1 = f1_score(y_test, y_pred)\n",
        "    accuracy = accuracy_score(y_test, y_pred)\n",
        "\n",
        "    return {\n",
        "        \"Sensitivity (Recall)\": sensitivity,\n",
        "        \"Specificity\": specificity,\n",
        "        \"MCC\": mcc,\n",
        "        \"F1 Score\": f1,\n",
        "        \"Accuracy\": accuracy\n",
        "    }"
      ]
    },
    {
      "cell_type": "code",
      "execution_count": null,
      "metadata": {
        "id": "np_6DfVKnia7"
      },
      "outputs": [],
      "source": [
        "# function to run the RNN\n",
        "\n",
        "def run_model(units, activation, dropout_rate):\n",
        "    global best_MCC_score, best_sensitivity,best_specificity\n",
        "    print(f\"Training with {units} LSTM units, {activation} activation, and {dropout_rate} dropout...\")\n",
        "\n",
        "    # Create and compile the model\n",
        "    model = create_model(units, activation, dropout_rate, input_shape=(X_train.shape[1], X_train.shape[2]))\n",
        "\n",
        "    # Early stopping to avoid overfitting\n",
        "    early_stopping = EarlyStopping(monitor='val_loss', patience=10, restore_best_weights=True)\n",
        "\n",
        "    # Train the model\n",
        "    history = model.fit(X_train, y_train, epochs=30, batch_size=64, validation_data=(X_test, y_test), callbacks=[early_stopping])\n",
        "\n",
        "    # Get predictions\n",
        "    y_pred = model.predict(X_test)\n",
        "\n",
        "    # Calculate sensitivity, specificity, and MCC\n",
        "    sensitivity, specificity, mcc = calculate_metrics(y_test, y_pred)\n",
        "\n",
        "    # Append the results to the metrics list\n",
        "    metrics_list.append((units, activation, dropout_rate, sensitivity, specificity, mcc))\n",
        "\n",
        "    # Check if this is the best MCC score so far\n",
        "    if mcc > best_MCC_score:\n",
        "        best_sensitivity=sensitivity\n",
        "        best_specificity=specificity\n",
        "        best_MCC_score = mcc\n",
        "\n",
        "    print(f\"Sensitivity: {sensitivity}, Specificity: {specificity}, MCC: {mcc}\")"
      ]
    },
    {
      "cell_type": "code",
      "execution_count": null,
      "metadata": {
        "colab": {
          "base_uri": "https://localhost:8080/"
        },
        "collapsed": true,
        "id": "DwHvEnu-nmRw",
        "outputId": "652d20bb-1dba-4a04-cf5e-4a564d76066c"
      },
      "outputs": [
        {
          "name": "stdout",
          "output_type": "stream",
          "text": [
            "Training with 50 LSTM units, tanh activation, and 0.2 dropout...\n"
          ]
        },
        {
          "name": "stderr",
          "output_type": "stream",
          "text": [
            "/usr/local/lib/python3.10/dist-packages/keras/src/layers/rnn/rnn.py:204: UserWarning: Do not pass an `input_shape`/`input_dim` argument to a layer. When using Sequential models, prefer using an `Input(shape)` object as the first layer in the model instead.\n",
            "  super().__init__(**kwargs)\n"
          ]
        },
        {
          "name": "stdout",
          "output_type": "stream",
          "text": [
            "Epoch 1/30\n",
            "\u001b[1m886/886\u001b[0m \u001b[32m━━━━━━━━━━━━━━━━━━━━\u001b[0m\u001b[37m\u001b[0m \u001b[1m37s\u001b[0m 14ms/step - accuracy: 0.6622 - loss: 0.6621 - val_accuracy: 0.7052 - val_loss: 0.5888\n",
            "Epoch 2/30\n",
            "\u001b[1m886/886\u001b[0m \u001b[32m━━━━━━━━━━━━━━━━━━━━\u001b[0m\u001b[37m\u001b[0m \u001b[1m12s\u001b[0m 13ms/step - accuracy: 0.7061 - loss: 0.5907 - val_accuracy: 0.7099 - val_loss: 0.5773\n",
            "Epoch 3/30\n",
            "\u001b[1m886/886\u001b[0m \u001b[32m━━━━━━━━━━━━━━━━━━━━\u001b[0m\u001b[37m\u001b[0m \u001b[1m20s\u001b[0m 12ms/step - accuracy: 0.7130 - loss: 0.5762 - val_accuracy: 0.7158 - val_loss: 0.5687\n",
            "Epoch 4/30\n",
            "\u001b[1m886/886\u001b[0m \u001b[32m━━━━━━━━━━━━━━━━━━━━\u001b[0m\u001b[37m\u001b[0m \u001b[1m10s\u001b[0m 12ms/step - accuracy: 0.7154 - loss: 0.5709 - val_accuracy: 0.7217 - val_loss: 0.5613\n",
            "Epoch 5/30\n",
            "\u001b[1m886/886\u001b[0m \u001b[32m━━━━━━━━━━━━━━━━━━━━\u001b[0m\u001b[37m\u001b[0m \u001b[1m13s\u001b[0m 15ms/step - accuracy: 0.7148 - loss: 0.5711 - val_accuracy: 0.7217 - val_loss: 0.5623\n",
            "Epoch 6/30\n",
            "\u001b[1m886/886\u001b[0m \u001b[32m━━━━━━━━━━━━━━━━━━━━\u001b[0m\u001b[37m\u001b[0m \u001b[1m18s\u001b[0m 12ms/step - accuracy: 0.7194 - loss: 0.5642 - val_accuracy: 0.7255 - val_loss: 0.5575\n",
            "Epoch 7/30\n",
            "\u001b[1m886/886\u001b[0m \u001b[32m━━━━━━━━━━━━━━━━━━━━\u001b[0m\u001b[37m\u001b[0m \u001b[1m12s\u001b[0m 13ms/step - accuracy: 0.7222 - loss: 0.5605 - val_accuracy: 0.7230 - val_loss: 0.5552\n",
            "Epoch 8/30\n",
            "\u001b[1m886/886\u001b[0m \u001b[32m━━━━━━━━━━━━━━━━━━━━\u001b[0m\u001b[37m\u001b[0m \u001b[1m21s\u001b[0m 14ms/step - accuracy: 0.7238 - loss: 0.5584 - val_accuracy: 0.7247 - val_loss: 0.5537\n",
            "Epoch 9/30\n",
            "\u001b[1m886/886\u001b[0m \u001b[32m━━━━━━━━━━━━━━━━━━━━\u001b[0m\u001b[37m\u001b[0m \u001b[1m19s\u001b[0m 12ms/step - accuracy: 0.7247 - loss: 0.5556 - val_accuracy: 0.7265 - val_loss: 0.5528\n",
            "Epoch 10/30\n",
            "\u001b[1m886/886\u001b[0m \u001b[32m━━━━━━━━━━━━━━━━━━━━\u001b[0m\u001b[37m\u001b[0m \u001b[1m22s\u001b[0m 13ms/step - accuracy: 0.7272 - loss: 0.5535 - val_accuracy: 0.7297 - val_loss: 0.5515\n",
            "Epoch 11/30\n",
            "\u001b[1m886/886\u001b[0m \u001b[32m━━━━━━━━━━━━━━━━━━━━\u001b[0m\u001b[37m\u001b[0m \u001b[1m12s\u001b[0m 13ms/step - accuracy: 0.7296 - loss: 0.5510 - val_accuracy: 0.7279 - val_loss: 0.5542\n",
            "Epoch 12/30\n",
            "\u001b[1m886/886\u001b[0m \u001b[32m━━━━━━━━━━━━━━━━━━━━\u001b[0m\u001b[37m\u001b[0m \u001b[1m19s\u001b[0m 11ms/step - accuracy: 0.7246 - loss: 0.5539 - val_accuracy: 0.7285 - val_loss: 0.5484\n",
            "Epoch 13/30\n",
            "\u001b[1m886/886\u001b[0m \u001b[32m━━━━━━━━━━━━━━━━━━━━\u001b[0m\u001b[37m\u001b[0m \u001b[1m14s\u001b[0m 15ms/step - accuracy: 0.7289 - loss: 0.5501 - val_accuracy: 0.7315 - val_loss: 0.5447\n",
            "Epoch 14/30\n",
            "\u001b[1m886/886\u001b[0m \u001b[32m━━━━━━━━━━━━━━━━━━━━\u001b[0m\u001b[37m\u001b[0m \u001b[1m12s\u001b[0m 14ms/step - accuracy: 0.7308 - loss: 0.5479 - val_accuracy: 0.7320 - val_loss: 0.5482\n",
            "Epoch 15/30\n",
            "\u001b[1m886/886\u001b[0m \u001b[32m━━━━━━━━━━━━━━━━━━━━\u001b[0m\u001b[37m\u001b[0m \u001b[1m20s\u001b[0m 13ms/step - accuracy: 0.7288 - loss: 0.5500 - val_accuracy: 0.7316 - val_loss: 0.5459\n",
            "Epoch 16/30\n",
            "\u001b[1m886/886\u001b[0m \u001b[32m━━━━━━━━━━━━━━━━━━━━\u001b[0m\u001b[37m\u001b[0m \u001b[1m11s\u001b[0m 12ms/step - accuracy: 0.7300 - loss: 0.5492 - val_accuracy: 0.7317 - val_loss: 0.5441\n",
            "Epoch 17/30\n",
            "\u001b[1m886/886\u001b[0m \u001b[32m━━━━━━━━━━━━━━━━━━━━\u001b[0m\u001b[37m\u001b[0m \u001b[1m11s\u001b[0m 13ms/step - accuracy: 0.7284 - loss: 0.5486 - val_accuracy: 0.7318 - val_loss: 0.5449\n",
            "Epoch 18/30\n",
            "\u001b[1m886/886\u001b[0m \u001b[32m━━━━━━━━━━━━━━━━━━━━\u001b[0m\u001b[37m\u001b[0m \u001b[1m21s\u001b[0m 14ms/step - accuracy: 0.7346 - loss: 0.5438 - val_accuracy: 0.7355 - val_loss: 0.5444\n",
            "Epoch 19/30\n",
            "\u001b[1m886/886\u001b[0m \u001b[32m━━━━━━━━━━━━━━━━━━━━\u001b[0m\u001b[37m\u001b[0m \u001b[1m21s\u001b[0m 14ms/step - accuracy: 0.7357 - loss: 0.5449 - val_accuracy: 0.7353 - val_loss: 0.5438\n",
            "Epoch 20/30\n",
            "\u001b[1m886/886\u001b[0m \u001b[32m━━━━━━━━━━━━━━━━━━━━\u001b[0m\u001b[37m\u001b[0m \u001b[1m20s\u001b[0m 14ms/step - accuracy: 0.7329 - loss: 0.5465 - val_accuracy: 0.7295 - val_loss: 0.5442\n",
            "Epoch 21/30\n",
            "\u001b[1m886/886\u001b[0m \u001b[32m━━━━━━━━━━━━━━━━━━━━\u001b[0m\u001b[37m\u001b[0m \u001b[1m12s\u001b[0m 13ms/step - accuracy: 0.7288 - loss: 0.5461 - val_accuracy: 0.7360 - val_loss: 0.5440\n",
            "Epoch 22/30\n",
            "\u001b[1m886/886\u001b[0m \u001b[32m━━━━━━━━━━━━━━━━━━━━\u001b[0m\u001b[37m\u001b[0m \u001b[1m20s\u001b[0m 13ms/step - accuracy: 0.7347 - loss: 0.5409 - val_accuracy: 0.7347 - val_loss: 0.5428\n",
            "Epoch 23/30\n",
            "\u001b[1m886/886\u001b[0m \u001b[32m━━━━━━━━━━━━━━━━━━━━\u001b[0m\u001b[37m\u001b[0m \u001b[1m12s\u001b[0m 13ms/step - accuracy: 0.7333 - loss: 0.5431 - val_accuracy: 0.7357 - val_loss: 0.5439\n",
            "Epoch 24/30\n",
            "\u001b[1m886/886\u001b[0m \u001b[32m━━━━━━━━━━━━━━━━━━━━\u001b[0m\u001b[37m\u001b[0m \u001b[1m13s\u001b[0m 14ms/step - accuracy: 0.7347 - loss: 0.5424 - val_accuracy: 0.7321 - val_loss: 0.5450\n",
            "Epoch 25/30\n",
            "\u001b[1m886/886\u001b[0m \u001b[32m━━━━━━━━━━━━━━━━━━━━\u001b[0m\u001b[37m\u001b[0m \u001b[1m19s\u001b[0m 13ms/step - accuracy: 0.7378 - loss: 0.5430 - val_accuracy: 0.7357 - val_loss: 0.5426\n",
            "Epoch 26/30\n",
            "\u001b[1m886/886\u001b[0m \u001b[32m━━━━━━━━━━━━━━━━━━━━\u001b[0m\u001b[37m\u001b[0m \u001b[1m21s\u001b[0m 14ms/step - accuracy: 0.7370 - loss: 0.5425 - val_accuracy: 0.7331 - val_loss: 0.5424\n",
            "Epoch 27/30\n",
            "\u001b[1m886/886\u001b[0m \u001b[32m━━━━━━━━━━━━━━━━━━━━\u001b[0m\u001b[37m\u001b[0m \u001b[1m12s\u001b[0m 14ms/step - accuracy: 0.7360 - loss: 0.5409 - val_accuracy: 0.7348 - val_loss: 0.5398\n",
            "Epoch 28/30\n",
            "\u001b[1m886/886\u001b[0m \u001b[32m━━━━━━━━━━━━━━━━━━━━\u001b[0m\u001b[37m\u001b[0m \u001b[1m19s\u001b[0m 12ms/step - accuracy: 0.7372 - loss: 0.5408 - val_accuracy: 0.7362 - val_loss: 0.5412\n",
            "Epoch 29/30\n",
            "\u001b[1m886/886\u001b[0m \u001b[32m━━━━━━━━━━━━━━━━━━━━\u001b[0m\u001b[37m\u001b[0m \u001b[1m12s\u001b[0m 13ms/step - accuracy: 0.7368 - loss: 0.5411 - val_accuracy: 0.7338 - val_loss: 0.5411\n",
            "Epoch 30/30\n",
            "\u001b[1m886/886\u001b[0m \u001b[32m━━━━━━━━━━━━━━━━━━━━\u001b[0m\u001b[37m\u001b[0m \u001b[1m12s\u001b[0m 14ms/step - accuracy: 0.7365 - loss: 0.5394 - val_accuracy: 0.7344 - val_loss: 0.5413\n",
            "\u001b[1m443/443\u001b[0m \u001b[32m━━━━━━━━━━━━━━━━━━━━\u001b[0m\u001b[37m\u001b[0m \u001b[1m3s\u001b[0m 4ms/step\n",
            "Sensitivity: 0.7419675860108047, Specificity: 0.727794900532362, MCC: 0.4697768583234967\n",
            "Training with 50 LSTM units, tanh activation, and 0.25 dropout...\n",
            "Epoch 1/30\n"
          ]
        },
        {
          "name": "stderr",
          "output_type": "stream",
          "text": [
            "/usr/local/lib/python3.10/dist-packages/keras/src/layers/rnn/rnn.py:204: UserWarning: Do not pass an `input_shape`/`input_dim` argument to a layer. When using Sequential models, prefer using an `Input(shape)` object as the first layer in the model instead.\n",
            "  super().__init__(**kwargs)\n"
          ]
        },
        {
          "name": "stdout",
          "output_type": "stream",
          "text": [
            "\u001b[1m886/886\u001b[0m \u001b[32m━━━━━━━━━━━━━━━━━━━━\u001b[0m\u001b[37m\u001b[0m \u001b[1m24s\u001b[0m 13ms/step - accuracy: 0.6616 - loss: 0.6641 - val_accuracy: 0.7029 - val_loss: 0.5923\n",
            "Epoch 2/30\n",
            "\u001b[1m886/886\u001b[0m \u001b[32m━━━━━━━━━━━━━━━━━━━━\u001b[0m\u001b[37m\u001b[0m \u001b[1m21s\u001b[0m 13ms/step - accuracy: 0.7021 - loss: 0.5919 - val_accuracy: 0.7130 - val_loss: 0.5788\n",
            "Epoch 3/30\n",
            "\u001b[1m886/886\u001b[0m \u001b[32m━━━━━━━━━━━━━━━━━━━━\u001b[0m\u001b[37m\u001b[0m \u001b[1m14s\u001b[0m 15ms/step - accuracy: 0.7074 - loss: 0.5830 - val_accuracy: 0.7155 - val_loss: 0.5712\n",
            "Epoch 4/30\n",
            "\u001b[1m886/886\u001b[0m \u001b[32m━━━━━━━━━━━━━━━━━━━━\u001b[0m\u001b[37m\u001b[0m \u001b[1m18s\u001b[0m 13ms/step - accuracy: 0.7133 - loss: 0.5742 - val_accuracy: 0.7198 - val_loss: 0.5657\n",
            "Epoch 5/30\n",
            "\u001b[1m886/886\u001b[0m \u001b[32m━━━━━━━━━━━━━━━━━━━━\u001b[0m\u001b[37m\u001b[0m \u001b[1m20s\u001b[0m 13ms/step - accuracy: 0.7151 - loss: 0.5700 - val_accuracy: 0.7188 - val_loss: 0.5644\n",
            "Epoch 6/30\n",
            "\u001b[1m886/886\u001b[0m \u001b[32m━━━━━━━━━━━━━━━━━━━━\u001b[0m\u001b[37m\u001b[0m \u001b[1m20s\u001b[0m 12ms/step - accuracy: 0.7207 - loss: 0.5644 - val_accuracy: 0.7199 - val_loss: 0.5593\n",
            "Epoch 7/30\n",
            "\u001b[1m886/886\u001b[0m \u001b[32m━━━━━━━━━━━━━━━━━━━━\u001b[0m\u001b[37m\u001b[0m \u001b[1m22s\u001b[0m 13ms/step - accuracy: 0.7225 - loss: 0.5625 - val_accuracy: 0.7254 - val_loss: 0.5558\n",
            "Epoch 8/30\n",
            "\u001b[1m886/886\u001b[0m \u001b[32m━━━━━━━━━━━━━━━━━━━━\u001b[0m\u001b[37m\u001b[0m \u001b[1m12s\u001b[0m 13ms/step - accuracy: 0.7206 - loss: 0.5612 - val_accuracy: 0.7259 - val_loss: 0.5566\n",
            "Epoch 9/30\n",
            "\u001b[1m886/886\u001b[0m \u001b[32m━━━━━━━━━━━━━━━━━━━━\u001b[0m\u001b[37m\u001b[0m \u001b[1m20s\u001b[0m 13ms/step - accuracy: 0.7214 - loss: 0.5611 - val_accuracy: 0.7226 - val_loss: 0.5555\n",
            "Epoch 10/30\n",
            "\u001b[1m886/886\u001b[0m \u001b[32m━━━━━━━━━━━━━━━━━━━━\u001b[0m\u001b[37m\u001b[0m \u001b[1m20s\u001b[0m 13ms/step - accuracy: 0.7233 - loss: 0.5570 - val_accuracy: 0.7302 - val_loss: 0.5514\n",
            "Epoch 11/30\n",
            "\u001b[1m886/886\u001b[0m \u001b[32m━━━━━━━━━━━━━━━━━━━━\u001b[0m\u001b[37m\u001b[0m \u001b[1m11s\u001b[0m 13ms/step - accuracy: 0.7257 - loss: 0.5525 - val_accuracy: 0.7261 - val_loss: 0.5524\n",
            "Epoch 12/30\n",
            "\u001b[1m886/886\u001b[0m \u001b[32m━━━━━━━━━━━━━━━━━━━━\u001b[0m\u001b[37m\u001b[0m \u001b[1m10s\u001b[0m 12ms/step - accuracy: 0.7248 - loss: 0.5550 - val_accuracy: 0.7311 - val_loss: 0.5486\n",
            "Epoch 13/30\n",
            "\u001b[1m886/886\u001b[0m \u001b[32m━━━━━━━━━━━━━━━━━━━━\u001b[0m\u001b[37m\u001b[0m \u001b[1m22s\u001b[0m 13ms/step - accuracy: 0.7226 - loss: 0.5567 - val_accuracy: 0.7269 - val_loss: 0.5539\n",
            "Epoch 14/30\n",
            "\u001b[1m886/886\u001b[0m \u001b[32m━━━━━━━━━━━━━━━━━━━━\u001b[0m\u001b[37m\u001b[0m \u001b[1m20s\u001b[0m 12ms/step - accuracy: 0.7245 - loss: 0.5568 - val_accuracy: 0.7309 - val_loss: 0.5465\n",
            "Epoch 15/30\n",
            "\u001b[1m886/886\u001b[0m \u001b[32m━━━━━━━━━━━━━━━━━━━━\u001b[0m\u001b[37m\u001b[0m \u001b[1m21s\u001b[0m 13ms/step - accuracy: 0.7279 - loss: 0.5541 - val_accuracy: 0.7300 - val_loss: 0.5441\n",
            "Epoch 16/30\n",
            "\u001b[1m886/886\u001b[0m \u001b[32m━━━━━━━━━━━━━━━━━━━━\u001b[0m\u001b[37m\u001b[0m \u001b[1m12s\u001b[0m 13ms/step - accuracy: 0.7297 - loss: 0.5483 - val_accuracy: 0.7291 - val_loss: 0.5510\n",
            "Epoch 17/30\n",
            "\u001b[1m886/886\u001b[0m \u001b[32m━━━━━━━━━━━━━━━━━━━━\u001b[0m\u001b[37m\u001b[0m \u001b[1m20s\u001b[0m 13ms/step - accuracy: 0.7264 - loss: 0.5528 - val_accuracy: 0.7302 - val_loss: 0.5457\n",
            "Epoch 18/30\n",
            "\u001b[1m886/886\u001b[0m \u001b[32m━━━━━━━━━━━━━━━━━━━━\u001b[0m\u001b[37m\u001b[0m \u001b[1m21s\u001b[0m 13ms/step - accuracy: 0.7314 - loss: 0.5436 - val_accuracy: 0.7292 - val_loss: 0.5471\n",
            "Epoch 19/30\n",
            "\u001b[1m886/886\u001b[0m \u001b[32m━━━━━━━━━━━━━━━━━━━━\u001b[0m\u001b[37m\u001b[0m \u001b[1m12s\u001b[0m 14ms/step - accuracy: 0.7291 - loss: 0.5503 - val_accuracy: 0.7320 - val_loss: 0.5430\n",
            "Epoch 20/30\n",
            "\u001b[1m886/886\u001b[0m \u001b[32m━━━━━━━━━━━━━━━━━━━━\u001b[0m\u001b[37m\u001b[0m \u001b[1m20s\u001b[0m 13ms/step - accuracy: 0.7304 - loss: 0.5485 - val_accuracy: 0.7297 - val_loss: 0.5469\n",
            "Epoch 21/30\n",
            "\u001b[1m886/886\u001b[0m \u001b[32m━━━━━━━━━━━━━━━━━━━━\u001b[0m\u001b[37m\u001b[0m \u001b[1m12s\u001b[0m 13ms/step - accuracy: 0.7313 - loss: 0.5456 - val_accuracy: 0.7330 - val_loss: 0.5432\n",
            "Epoch 22/30\n",
            "\u001b[1m886/886\u001b[0m \u001b[32m━━━━━━━━━━━━━━━━━━━━\u001b[0m\u001b[37m\u001b[0m \u001b[1m12s\u001b[0m 13ms/step - accuracy: 0.7317 - loss: 0.5481 - val_accuracy: 0.7315 - val_loss: 0.5479\n",
            "Epoch 23/30\n",
            "\u001b[1m886/886\u001b[0m \u001b[32m━━━━━━━━━━━━━━━━━━━━\u001b[0m\u001b[37m\u001b[0m \u001b[1m20s\u001b[0m 13ms/step - accuracy: 0.7294 - loss: 0.5485 - val_accuracy: 0.7338 - val_loss: 0.5443\n",
            "Epoch 24/30\n",
            "\u001b[1m886/886\u001b[0m \u001b[32m━━━━━━━━━━━━━━━━━━━━\u001b[0m\u001b[37m\u001b[0m \u001b[1m12s\u001b[0m 14ms/step - accuracy: 0.7303 - loss: 0.5471 - val_accuracy: 0.7336 - val_loss: 0.5436\n",
            "Epoch 25/30\n",
            "\u001b[1m886/886\u001b[0m \u001b[32m━━━━━━━━━━━━━━━━━━━━\u001b[0m\u001b[37m\u001b[0m \u001b[1m12s\u001b[0m 13ms/step - accuracy: 0.7345 - loss: 0.5445 - val_accuracy: 0.7307 - val_loss: 0.5474\n",
            "Epoch 26/30\n",
            "\u001b[1m886/886\u001b[0m \u001b[32m━━━━━━━━━━━━━━━━━━━━\u001b[0m\u001b[37m\u001b[0m \u001b[1m12s\u001b[0m 13ms/step - accuracy: 0.7354 - loss: 0.5440 - val_accuracy: 0.7342 - val_loss: 0.5431\n",
            "Epoch 27/30\n",
            "\u001b[1m886/886\u001b[0m \u001b[32m━━━━━━━━━━━━━━━━━━━━\u001b[0m\u001b[37m\u001b[0m \u001b[1m20s\u001b[0m 13ms/step - accuracy: 0.7337 - loss: 0.5442 - val_accuracy: 0.7335 - val_loss: 0.5423\n",
            "Epoch 28/30\n",
            "\u001b[1m886/886\u001b[0m \u001b[32m━━━━━━━━━━━━━━━━━━━━\u001b[0m\u001b[37m\u001b[0m \u001b[1m21s\u001b[0m 14ms/step - accuracy: 0.7354 - loss: 0.5428 - val_accuracy: 0.7326 - val_loss: 0.5433\n",
            "Epoch 29/30\n",
            "\u001b[1m886/886\u001b[0m \u001b[32m━━━━━━━━━━━━━━━━━━━━\u001b[0m\u001b[37m\u001b[0m \u001b[1m20s\u001b[0m 13ms/step - accuracy: 0.7330 - loss: 0.5434 - val_accuracy: 0.7332 - val_loss: 0.5423\n",
            "Epoch 30/30\n",
            "\u001b[1m886/886\u001b[0m \u001b[32m━━━━━━━━━━━━━━━━━━━━\u001b[0m\u001b[37m\u001b[0m \u001b[1m21s\u001b[0m 14ms/step - accuracy: 0.7344 - loss: 0.5452 - val_accuracy: 0.7314 - val_loss: 0.5433\n",
            "\u001b[1m443/443\u001b[0m \u001b[32m━━━━━━━━━━━━━━━━━━━━\u001b[0m\u001b[37m\u001b[0m \u001b[1m3s\u001b[0m 4ms/step\n",
            "Sensitivity: 0.754193915268695, Specificity: 0.7125245166713365, MCC: 0.46704755012411436\n",
            "Training with 50 LSTM units, tanh activation, and 0.3 dropout...\n",
            "Epoch 1/30\n"
          ]
        },
        {
          "name": "stderr",
          "output_type": "stream",
          "text": [
            "/usr/local/lib/python3.10/dist-packages/keras/src/layers/rnn/rnn.py:204: UserWarning: Do not pass an `input_shape`/`input_dim` argument to a layer. When using Sequential models, prefer using an `Input(shape)` object as the first layer in the model instead.\n",
            "  super().__init__(**kwargs)\n"
          ]
        },
        {
          "name": "stdout",
          "output_type": "stream",
          "text": [
            "\u001b[1m886/886\u001b[0m \u001b[32m━━━━━━━━━━━━━━━━━━━━\u001b[0m\u001b[37m\u001b[0m \u001b[1m26s\u001b[0m 14ms/step - accuracy: 0.6609 - loss: 0.6655 - val_accuracy: 0.7038 - val_loss: 0.5934\n",
            "Epoch 2/30\n",
            "\u001b[1m886/886\u001b[0m \u001b[32m━━━━━━━━━━━━━━━━━━━━\u001b[0m\u001b[37m\u001b[0m \u001b[1m19s\u001b[0m 13ms/step - accuracy: 0.6998 - loss: 0.5945 - val_accuracy: 0.7067 - val_loss: 0.5810\n",
            "Epoch 3/30\n",
            "\u001b[1m886/886\u001b[0m \u001b[32m━━━━━━━━━━━━━━━━━━━━\u001b[0m\u001b[37m\u001b[0m \u001b[1m21s\u001b[0m 13ms/step - accuracy: 0.7061 - loss: 0.5829 - val_accuracy: 0.7144 - val_loss: 0.5693\n",
            "Epoch 4/30\n",
            "\u001b[1m886/886\u001b[0m \u001b[32m━━━━━━━━━━━━━━━━━━━━\u001b[0m\u001b[37m\u001b[0m \u001b[1m19s\u001b[0m 12ms/step - accuracy: 0.7104 - loss: 0.5759 - val_accuracy: 0.7168 - val_loss: 0.5652\n",
            "Epoch 5/30\n",
            "\u001b[1m886/886\u001b[0m \u001b[32m━━━━━━━━━━━━━━━━━━━━\u001b[0m\u001b[37m\u001b[0m \u001b[1m22s\u001b[0m 13ms/step - accuracy: 0.7106 - loss: 0.5750 - val_accuracy: 0.7213 - val_loss: 0.5602\n",
            "Epoch 6/30\n",
            "\u001b[1m886/886\u001b[0m \u001b[32m━━━━━━━━━━━━━━━━━━━━\u001b[0m\u001b[37m\u001b[0m \u001b[1m20s\u001b[0m 13ms/step - accuracy: 0.7174 - loss: 0.5699 - val_accuracy: 0.7221 - val_loss: 0.5580\n",
            "Epoch 7/30\n",
            "\u001b[1m886/886\u001b[0m \u001b[32m━━━━━━━━━━━━━━━━━━━━\u001b[0m\u001b[37m\u001b[0m \u001b[1m21s\u001b[0m 13ms/step - accuracy: 0.7187 - loss: 0.5657 - val_accuracy: 0.7207 - val_loss: 0.5584\n",
            "Epoch 8/30\n",
            "\u001b[1m886/886\u001b[0m \u001b[32m━━━━━━━━━━━━━━━━━━━━\u001b[0m\u001b[37m\u001b[0m \u001b[1m21s\u001b[0m 13ms/step - accuracy: 0.7201 - loss: 0.5632 - val_accuracy: 0.7240 - val_loss: 0.5577\n",
            "Epoch 9/30\n",
            "\u001b[1m886/886\u001b[0m \u001b[32m━━━━━━━━━━━━━━━━━━━━\u001b[0m\u001b[37m\u001b[0m \u001b[1m20s\u001b[0m 13ms/step - accuracy: 0.7189 - loss: 0.5648 - val_accuracy: 0.7262 - val_loss: 0.5555\n",
            "Epoch 10/30\n",
            "\u001b[1m886/886\u001b[0m \u001b[32m━━━━━━━━━━━━━━━━━━━━\u001b[0m\u001b[37m\u001b[0m \u001b[1m21s\u001b[0m 13ms/step - accuracy: 0.7204 - loss: 0.5595 - val_accuracy: 0.7257 - val_loss: 0.5531\n",
            "Epoch 11/30\n",
            "\u001b[1m886/886\u001b[0m \u001b[32m━━━━━━━━━━━━━━━━━━━━\u001b[0m\u001b[37m\u001b[0m \u001b[1m20s\u001b[0m 13ms/step - accuracy: 0.7229 - loss: 0.5587 - val_accuracy: 0.7266 - val_loss: 0.5504\n",
            "Epoch 12/30\n",
            "\u001b[1m886/886\u001b[0m \u001b[32m━━━━━━━━━━━━━━━━━━━━\u001b[0m\u001b[37m\u001b[0m \u001b[1m22s\u001b[0m 15ms/step - accuracy: 0.7216 - loss: 0.5593 - val_accuracy: 0.7285 - val_loss: 0.5505\n",
            "Epoch 13/30\n",
            "\u001b[1m886/886\u001b[0m \u001b[32m━━━━━━━━━━━━━━━━━━━━\u001b[0m\u001b[37m\u001b[0m \u001b[1m19s\u001b[0m 13ms/step - accuracy: 0.7237 - loss: 0.5567 - val_accuracy: 0.7267 - val_loss: 0.5522\n",
            "Epoch 14/30\n",
            "\u001b[1m886/886\u001b[0m \u001b[32m━━━━━━━━━━━━━━━━━━━━\u001b[0m\u001b[37m\u001b[0m \u001b[1m21s\u001b[0m 14ms/step - accuracy: 0.7252 - loss: 0.5565 - val_accuracy: 0.7305 - val_loss: 0.5493\n",
            "Epoch 15/30\n",
            "\u001b[1m886/886\u001b[0m \u001b[32m━━━━━━━━━━━━━━━━━━━━\u001b[0m\u001b[37m\u001b[0m \u001b[1m10s\u001b[0m 12ms/step - accuracy: 0.7293 - loss: 0.5521 - val_accuracy: 0.7300 - val_loss: 0.5478\n",
            "Epoch 16/30\n",
            "\u001b[1m886/886\u001b[0m \u001b[32m━━━━━━━━━━━━━━━━━━━━\u001b[0m\u001b[37m\u001b[0m \u001b[1m22s\u001b[0m 13ms/step - accuracy: 0.7253 - loss: 0.5542 - val_accuracy: 0.7289 - val_loss: 0.5472\n",
            "Epoch 17/30\n",
            "\u001b[1m886/886\u001b[0m \u001b[32m━━━━━━━━━━━━━━━━━━━━\u001b[0m\u001b[37m\u001b[0m \u001b[1m20s\u001b[0m 13ms/step - accuracy: 0.7303 - loss: 0.5488 - val_accuracy: 0.7320 - val_loss: 0.5461\n",
            "Epoch 18/30\n",
            "\u001b[1m886/886\u001b[0m \u001b[32m━━━━━━━━━━━━━━━━━━━━\u001b[0m\u001b[37m\u001b[0m \u001b[1m11s\u001b[0m 12ms/step - accuracy: 0.7259 - loss: 0.5519 - val_accuracy: 0.7280 - val_loss: 0.5481\n",
            "Epoch 19/30\n",
            "\u001b[1m886/886\u001b[0m \u001b[32m━━━━━━━━━━━━━━━━━━━━\u001b[0m\u001b[37m\u001b[0m \u001b[1m22s\u001b[0m 14ms/step - accuracy: 0.7298 - loss: 0.5483 - val_accuracy: 0.7297 - val_loss: 0.5449\n",
            "Epoch 20/30\n",
            "\u001b[1m886/886\u001b[0m \u001b[32m━━━━━━━━━━━━━━━━━━━━\u001b[0m\u001b[37m\u001b[0m \u001b[1m20s\u001b[0m 13ms/step - accuracy: 0.7297 - loss: 0.5492 - val_accuracy: 0.7326 - val_loss: 0.5451\n",
            "Epoch 21/30\n",
            "\u001b[1m886/886\u001b[0m \u001b[32m━━━━━━━━━━━━━━━━━━━━\u001b[0m\u001b[37m\u001b[0m \u001b[1m21s\u001b[0m 13ms/step - accuracy: 0.7315 - loss: 0.5489 - val_accuracy: 0.7295 - val_loss: 0.5474\n",
            "Epoch 22/30\n",
            "\u001b[1m886/886\u001b[0m \u001b[32m━━━━━━━━━━━━━━━━━━━━\u001b[0m\u001b[37m\u001b[0m \u001b[1m20s\u001b[0m 13ms/step - accuracy: 0.7303 - loss: 0.5505 - val_accuracy: 0.7298 - val_loss: 0.5470\n",
            "Epoch 23/30\n",
            "\u001b[1m886/886\u001b[0m \u001b[32m━━━━━━━━━━━━━━━━━━━━\u001b[0m\u001b[37m\u001b[0m \u001b[1m11s\u001b[0m 12ms/step - accuracy: 0.7312 - loss: 0.5485 - val_accuracy: 0.7317 - val_loss: 0.5436\n",
            "Epoch 24/30\n",
            "\u001b[1m886/886\u001b[0m \u001b[32m━━━━━━━━━━━━━━━━━━━━\u001b[0m\u001b[37m\u001b[0m \u001b[1m22s\u001b[0m 13ms/step - accuracy: 0.7315 - loss: 0.5478 - val_accuracy: 0.7306 - val_loss: 0.5452\n",
            "Epoch 25/30\n",
            "\u001b[1m886/886\u001b[0m \u001b[32m━━━━━━━━━━━━━━━━━━━━\u001b[0m\u001b[37m\u001b[0m \u001b[1m23s\u001b[0m 16ms/step - accuracy: 0.7319 - loss: 0.5476 - val_accuracy: 0.7321 - val_loss: 0.5428\n",
            "Epoch 26/30\n",
            "\u001b[1m886/886\u001b[0m \u001b[32m━━━━━━━━━━━━━━━━━━━━\u001b[0m\u001b[37m\u001b[0m \u001b[1m18s\u001b[0m 13ms/step - accuracy: 0.7303 - loss: 0.5480 - val_accuracy: 0.7345 - val_loss: 0.5440\n",
            "Epoch 27/30\n",
            "\u001b[1m886/886\u001b[0m \u001b[32m━━━━━━━━━━━━━━━━━━━━\u001b[0m\u001b[37m\u001b[0m \u001b[1m20s\u001b[0m 12ms/step - accuracy: 0.7299 - loss: 0.5503 - val_accuracy: 0.7302 - val_loss: 0.5468\n",
            "Epoch 28/30\n",
            "\u001b[1m886/886\u001b[0m \u001b[32m━━━━━━━━━━━━━━━━━━━━\u001b[0m\u001b[37m\u001b[0m \u001b[1m22s\u001b[0m 14ms/step - accuracy: 0.7342 - loss: 0.5438 - val_accuracy: 0.7344 - val_loss: 0.5405\n",
            "Epoch 29/30\n",
            "\u001b[1m886/886\u001b[0m \u001b[32m━━━━━━━━━━━━━━━━━━━━\u001b[0m\u001b[37m\u001b[0m \u001b[1m20s\u001b[0m 13ms/step - accuracy: 0.7295 - loss: 0.5478 - val_accuracy: 0.7309 - val_loss: 0.5427\n",
            "Epoch 30/30\n",
            "\u001b[1m886/886\u001b[0m \u001b[32m━━━━━━━━━━━━━━━━━━━━\u001b[0m\u001b[37m\u001b[0m \u001b[1m20s\u001b[0m 13ms/step - accuracy: 0.7328 - loss: 0.5430 - val_accuracy: 0.7294 - val_loss: 0.5443\n",
            "\u001b[1m443/443\u001b[0m \u001b[32m━━━━━━━━━━━━━━━━━━━━\u001b[0m\u001b[37m\u001b[0m \u001b[1m3s\u001b[0m 4ms/step\n",
            "Sensitivity: 0.7452374182541939, Specificity: 0.7237321378537406, MCC: 0.4690334575417216\n",
            "Training with 50 LSTM units, relu activation, and 0.2 dropout...\n",
            "Epoch 1/30\n"
          ]
        },
        {
          "name": "stderr",
          "output_type": "stream",
          "text": [
            "/usr/local/lib/python3.10/dist-packages/keras/src/layers/rnn/rnn.py:204: UserWarning: Do not pass an `input_shape`/`input_dim` argument to a layer. When using Sequential models, prefer using an `Input(shape)` object as the first layer in the model instead.\n",
            "  super().__init__(**kwargs)\n"
          ]
        },
        {
          "name": "stdout",
          "output_type": "stream",
          "text": [
            "\u001b[1m886/886\u001b[0m \u001b[32m━━━━━━━━━━━━━━━━━━━━\u001b[0m\u001b[37m\u001b[0m \u001b[1m25s\u001b[0m 14ms/step - accuracy: 0.6453 - loss: 0.6728 - val_accuracy: 0.6993 - val_loss: 0.5943\n",
            "Epoch 2/30\n",
            "\u001b[1m886/886\u001b[0m \u001b[32m━━━━━━━━━━━━━━━━━━━━\u001b[0m\u001b[37m\u001b[0m \u001b[1m11s\u001b[0m 13ms/step - accuracy: 0.7028 - loss: 0.5929 - val_accuracy: 0.7089 - val_loss: 0.5803\n",
            "Epoch 3/30\n",
            "\u001b[1m886/886\u001b[0m \u001b[32m━━━━━━━━━━━━━━━━━━━━\u001b[0m\u001b[37m\u001b[0m \u001b[1m12s\u001b[0m 13ms/step - accuracy: 0.7087 - loss: 0.5826 - val_accuracy: 0.7164 - val_loss: 0.5685\n",
            "Epoch 4/30\n",
            "\u001b[1m886/886\u001b[0m \u001b[32m━━━━━━━━━━━━━━━━━━━━\u001b[0m\u001b[37m\u001b[0m \u001b[1m20s\u001b[0m 13ms/step - accuracy: 0.7145 - loss: 0.5713 - val_accuracy: 0.7183 - val_loss: 0.5636\n",
            "Epoch 5/30\n",
            "\u001b[1m886/886\u001b[0m \u001b[32m━━━━━━━━━━━━━━━━━━━━\u001b[0m\u001b[37m\u001b[0m \u001b[1m21s\u001b[0m 13ms/step - accuracy: 0.7156 - loss: 0.5681 - val_accuracy: 0.7236 - val_loss: 0.5569\n",
            "Epoch 6/30\n",
            "\u001b[1m886/886\u001b[0m \u001b[32m━━━━━━━━━━━━━━━━━━━━\u001b[0m\u001b[37m\u001b[0m \u001b[1m11s\u001b[0m 13ms/step - accuracy: 0.7219 - loss: 0.5633 - val_accuracy: 0.7257 - val_loss: 0.5541\n",
            "Epoch 7/30\n",
            "\u001b[1m886/886\u001b[0m \u001b[32m━━━━━━━━━━━━━━━━━━━━\u001b[0m\u001b[37m\u001b[0m \u001b[1m11s\u001b[0m 12ms/step - accuracy: 0.7229 - loss: 0.5598 - val_accuracy: 0.7255 - val_loss: 0.5534\n",
            "Epoch 8/30\n",
            "\u001b[1m886/886\u001b[0m \u001b[32m━━━━━━━━━━━━━━━━━━━━\u001b[0m\u001b[37m\u001b[0m \u001b[1m22s\u001b[0m 13ms/step - accuracy: 0.7266 - loss: 0.5549 - val_accuracy: 0.7271 - val_loss: 0.5512\n",
            "Epoch 9/30\n",
            "\u001b[1m886/886\u001b[0m \u001b[32m━━━━━━━━━━━━━━━━━━━━\u001b[0m\u001b[37m\u001b[0m \u001b[1m20s\u001b[0m 13ms/step - accuracy: 0.7263 - loss: 0.5540 - val_accuracy: 0.7305 - val_loss: 0.5479\n",
            "Epoch 10/30\n",
            "\u001b[1m886/886\u001b[0m \u001b[32m━━━━━━━━━━━━━━━━━━━━\u001b[0m\u001b[37m\u001b[0m \u001b[1m10s\u001b[0m 12ms/step - accuracy: 0.7277 - loss: 0.5513 - val_accuracy: 0.7291 - val_loss: 0.5469\n",
            "Epoch 11/30\n",
            "\u001b[1m886/886\u001b[0m \u001b[32m━━━━━━━━━━━━━━━━━━━━\u001b[0m\u001b[37m\u001b[0m \u001b[1m12s\u001b[0m 14ms/step - accuracy: 0.7357 - loss: 0.5464 - val_accuracy: 0.7277 - val_loss: 0.5468\n",
            "Epoch 12/30\n",
            "\u001b[1m886/886\u001b[0m \u001b[32m━━━━━━━━━━━━━━━━━━━━\u001b[0m\u001b[37m\u001b[0m \u001b[1m12s\u001b[0m 14ms/step - accuracy: 0.7328 - loss: 0.5478 - val_accuracy: 0.7324 - val_loss: 0.5444\n",
            "Epoch 13/30\n",
            "\u001b[1m886/886\u001b[0m \u001b[32m━━━━━━━━━━━━━━━━━━━━\u001b[0m\u001b[37m\u001b[0m \u001b[1m19s\u001b[0m 12ms/step - accuracy: 0.7337 - loss: 0.5458 - val_accuracy: 0.7317 - val_loss: 0.5417\n",
            "Epoch 14/30\n",
            "\u001b[1m886/886\u001b[0m \u001b[32m━━━━━━━━━━━━━━━━━━━━\u001b[0m\u001b[37m\u001b[0m \u001b[1m12s\u001b[0m 13ms/step - accuracy: 0.7370 - loss: 0.5451 - val_accuracy: 0.7317 - val_loss: 0.5429\n",
            "Epoch 15/30\n",
            "\u001b[1m886/886\u001b[0m \u001b[32m━━━━━━━━━━━━━━━━━━━━\u001b[0m\u001b[37m\u001b[0m \u001b[1m21s\u001b[0m 13ms/step - accuracy: 0.7309 - loss: 0.5454 - val_accuracy: 0.7325 - val_loss: 0.5414\n",
            "Epoch 16/30\n",
            "\u001b[1m886/886\u001b[0m \u001b[32m━━━━━━━━━━━━━━━━━━━━\u001b[0m\u001b[37m\u001b[0m \u001b[1m19s\u001b[0m 11ms/step - accuracy: 0.7315 - loss: 0.5445 - val_accuracy: 0.7281 - val_loss: 0.5452\n",
            "Epoch 17/30\n",
            "\u001b[1m886/886\u001b[0m \u001b[32m━━━━━━━━━━━━━━━━━━━━\u001b[0m\u001b[37m\u001b[0m \u001b[1m12s\u001b[0m 13ms/step - accuracy: 0.7323 - loss: 0.5448 - val_accuracy: 0.7313 - val_loss: 0.5429\n",
            "Epoch 18/30\n",
            "\u001b[1m886/886\u001b[0m \u001b[32m━━━━━━━━━━━━━━━━━━━━\u001b[0m\u001b[37m\u001b[0m \u001b[1m12s\u001b[0m 13ms/step - accuracy: 0.7358 - loss: 0.5421 - val_accuracy: 0.7300 - val_loss: 0.5403\n",
            "Epoch 19/30\n",
            "\u001b[1m886/886\u001b[0m \u001b[32m━━━━━━━━━━━━━━━━━━━━\u001b[0m\u001b[37m\u001b[0m \u001b[1m21s\u001b[0m 14ms/step - accuracy: 0.7334 - loss: 0.5438 - val_accuracy: 0.7314 - val_loss: 0.5401\n",
            "Epoch 20/30\n",
            "\u001b[1m886/886\u001b[0m \u001b[32m━━━━━━━━━━━━━━━━━━━━\u001b[0m\u001b[37m\u001b[0m \u001b[1m11s\u001b[0m 13ms/step - accuracy: 0.7386 - loss: 0.5392 - val_accuracy: 0.7299 - val_loss: 0.5408\n",
            "Epoch 21/30\n",
            "\u001b[1m886/886\u001b[0m \u001b[32m━━━━━━━━━━━━━━━━━━━━\u001b[0m\u001b[37m\u001b[0m \u001b[1m22s\u001b[0m 14ms/step - accuracy: 0.7391 - loss: 0.5382 - val_accuracy: 0.7338 - val_loss: 0.5396\n",
            "Epoch 22/30\n",
            "\u001b[1m886/886\u001b[0m \u001b[32m━━━━━━━━━━━━━━━━━━━━\u001b[0m\u001b[37m\u001b[0m \u001b[1m12s\u001b[0m 14ms/step - accuracy: 0.7363 - loss: 0.5376 - val_accuracy: 0.7333 - val_loss: 0.5408\n",
            "Epoch 23/30\n",
            "\u001b[1m886/886\u001b[0m \u001b[32m━━━━━━━━━━━━━━━━━━━━\u001b[0m\u001b[37m\u001b[0m \u001b[1m14s\u001b[0m 15ms/step - accuracy: 0.7325 - loss: 0.5424 - val_accuracy: 0.7311 - val_loss: 0.5379\n",
            "Epoch 24/30\n",
            "\u001b[1m886/886\u001b[0m \u001b[32m━━━━━━━━━━━━━━━━━━━━\u001b[0m\u001b[37m\u001b[0m \u001b[1m12s\u001b[0m 14ms/step - accuracy: 0.7403 - loss: 0.5375 - val_accuracy: 0.7223 - val_loss: 0.5516\n",
            "Epoch 25/30\n",
            "\u001b[1m886/886\u001b[0m \u001b[32m━━━━━━━━━━━━━━━━━━━━\u001b[0m\u001b[37m\u001b[0m \u001b[1m20s\u001b[0m 14ms/step - accuracy: 0.7355 - loss: 0.5385 - val_accuracy: 0.7306 - val_loss: 0.5393\n",
            "Epoch 26/30\n",
            "\u001b[1m886/886\u001b[0m \u001b[32m━━━━━━━━━━━━━━━━━━━━\u001b[0m\u001b[37m\u001b[0m \u001b[1m12s\u001b[0m 13ms/step - accuracy: 0.7403 - loss: 0.5373 - val_accuracy: 0.7312 - val_loss: 0.5376\n",
            "Epoch 27/30\n",
            "\u001b[1m886/886\u001b[0m \u001b[32m━━━━━━━━━━━━━━━━━━━━\u001b[0m\u001b[37m\u001b[0m \u001b[1m20s\u001b[0m 13ms/step - accuracy: 0.7383 - loss: 0.5373 - val_accuracy: 0.7326 - val_loss: 0.5371\n",
            "Epoch 28/30\n",
            "\u001b[1m886/886\u001b[0m \u001b[32m━━━━━━━━━━━━━━━━━━━━\u001b[0m\u001b[37m\u001b[0m \u001b[1m11s\u001b[0m 13ms/step - accuracy: 0.7423 - loss: 0.5340 - val_accuracy: 0.7324 - val_loss: 0.5373\n",
            "Epoch 29/30\n",
            "\u001b[1m886/886\u001b[0m \u001b[32m━━━━━━━━━━━━━━━━━━━━\u001b[0m\u001b[37m\u001b[0m \u001b[1m21s\u001b[0m 14ms/step - accuracy: 0.7376 - loss: 0.5388 - val_accuracy: 0.7322 - val_loss: 0.5383\n",
            "Epoch 30/30\n",
            "\u001b[1m886/886\u001b[0m \u001b[32m━━━━━━━━━━━━━━━━━━━━\u001b[0m\u001b[37m\u001b[0m \u001b[1m12s\u001b[0m 14ms/step - accuracy: 0.7392 - loss: 0.5356 - val_accuracy: 0.7324 - val_loss: 0.5368\n",
            "\u001b[1m443/443\u001b[0m \u001b[32m━━━━━━━━━━━━━━━━━━━━\u001b[0m\u001b[37m\u001b[0m \u001b[1m4s\u001b[0m 5ms/step\n",
            "Sensitivity: 0.7436735854421382, Specificity: 0.7213505183524797, MCC: 0.4650947505655876\n",
            "Training with 50 LSTM units, relu activation, and 0.25 dropout...\n",
            "Epoch 1/30\n"
          ]
        },
        {
          "name": "stderr",
          "output_type": "stream",
          "text": [
            "/usr/local/lib/python3.10/dist-packages/keras/src/layers/rnn/rnn.py:204: UserWarning: Do not pass an `input_shape`/`input_dim` argument to a layer. When using Sequential models, prefer using an `Input(shape)` object as the first layer in the model instead.\n",
            "  super().__init__(**kwargs)\n"
          ]
        },
        {
          "name": "stdout",
          "output_type": "stream",
          "text": [
            "\u001b[1m886/886\u001b[0m \u001b[32m━━━━━━━━━━━━━━━━━━━━\u001b[0m\u001b[37m\u001b[0m \u001b[1m25s\u001b[0m 14ms/step - accuracy: 0.6447 - loss: 0.6745 - val_accuracy: 0.7017 - val_loss: 0.5973\n",
            "Epoch 2/30\n",
            "\u001b[1m886/886\u001b[0m \u001b[32m━━━━━━━━━━━━━━━━━━━━\u001b[0m\u001b[37m\u001b[0m \u001b[1m12s\u001b[0m 13ms/step - accuracy: 0.7005 - loss: 0.5972 - val_accuracy: 0.7074 - val_loss: 0.5814\n",
            "Epoch 3/30\n",
            "\u001b[1m886/886\u001b[0m \u001b[32m━━━━━━━━━━━━━━━━━━━━\u001b[0m\u001b[37m\u001b[0m \u001b[1m11s\u001b[0m 12ms/step - accuracy: 0.7046 - loss: 0.5873 - val_accuracy: 0.7155 - val_loss: 0.5709\n",
            "Epoch 4/30\n",
            "\u001b[1m886/886\u001b[0m \u001b[32m━━━━━━━━━━━━━━━━━━━━\u001b[0m\u001b[37m\u001b[0m \u001b[1m22s\u001b[0m 14ms/step - accuracy: 0.7110 - loss: 0.5756 - val_accuracy: 0.7218 - val_loss: 0.5637\n",
            "Epoch 5/30\n",
            "\u001b[1m886/886\u001b[0m \u001b[32m━━━━━━━━━━━━━━━━━━━━\u001b[0m\u001b[37m\u001b[0m \u001b[1m20s\u001b[0m 13ms/step - accuracy: 0.7125 - loss: 0.5707 - val_accuracy: 0.7199 - val_loss: 0.5635\n",
            "Epoch 6/30\n",
            "\u001b[1m886/886\u001b[0m \u001b[32m━━━━━━━━━━━━━━━━━━━━\u001b[0m\u001b[37m\u001b[0m \u001b[1m21s\u001b[0m 13ms/step - accuracy: 0.7202 - loss: 0.5674 - val_accuracy: 0.7277 - val_loss: 0.5580\n",
            "Epoch 7/30\n",
            "\u001b[1m886/886\u001b[0m \u001b[32m━━━━━━━━━━━━━━━━━━━━\u001b[0m\u001b[37m\u001b[0m \u001b[1m22s\u001b[0m 16ms/step - accuracy: 0.7193 - loss: 0.5620 - val_accuracy: 0.7283 - val_loss: 0.5566\n",
            "Epoch 8/30\n",
            "\u001b[1m886/886\u001b[0m \u001b[32m━━━━━━━━━━━━━━━━━━━━\u001b[0m\u001b[37m\u001b[0m \u001b[1m10s\u001b[0m 12ms/step - accuracy: 0.7178 - loss: 0.5639 - val_accuracy: 0.7283 - val_loss: 0.5519\n",
            "Epoch 9/30\n",
            "\u001b[1m886/886\u001b[0m \u001b[32m━━━━━━━━━━━━━━━━━━━━\u001b[0m\u001b[37m\u001b[0m \u001b[1m22s\u001b[0m 13ms/step - accuracy: 0.7234 - loss: 0.5573 - val_accuracy: 0.7259 - val_loss: 0.5526\n",
            "Epoch 10/30\n",
            "\u001b[1m886/886\u001b[0m \u001b[32m━━━━━━━━━━━━━━━━━━━━\u001b[0m\u001b[37m\u001b[0m \u001b[1m21s\u001b[0m 14ms/step - accuracy: 0.7258 - loss: 0.5570 - val_accuracy: 0.7293 - val_loss: 0.5516\n",
            "Epoch 11/30\n",
            "\u001b[1m886/886\u001b[0m \u001b[32m━━━━━━━━━━━━━━━━━━━━\u001b[0m\u001b[37m\u001b[0m \u001b[1m21s\u001b[0m 14ms/step - accuracy: 0.7217 - loss: 0.5586 - val_accuracy: 0.7283 - val_loss: 0.5487\n",
            "Epoch 12/30\n",
            "\u001b[1m886/886\u001b[0m \u001b[32m━━━━━━━━━━━━━━━━━━━━\u001b[0m\u001b[37m\u001b[0m \u001b[1m20s\u001b[0m 13ms/step - accuracy: 0.7266 - loss: 0.5546 - val_accuracy: 0.7295 - val_loss: 0.5473\n",
            "Epoch 13/30\n",
            "\u001b[1m886/886\u001b[0m \u001b[32m━━━━━━━━━━━━━━━━━━━━\u001b[0m\u001b[37m\u001b[0m \u001b[1m21s\u001b[0m 13ms/step - accuracy: 0.7292 - loss: 0.5522 - val_accuracy: 0.7311 - val_loss: 0.5445\n",
            "Epoch 14/30\n",
            "\u001b[1m886/886\u001b[0m \u001b[32m━━━━━━━━━━━━━━━━━━━━\u001b[0m\u001b[37m\u001b[0m \u001b[1m21s\u001b[0m 13ms/step - accuracy: 0.7260 - loss: 0.5542 - val_accuracy: 0.7313 - val_loss: 0.5447\n",
            "Epoch 15/30\n",
            "\u001b[1m886/886\u001b[0m \u001b[32m━━━━━━━━━━━━━━━━━━━━\u001b[0m\u001b[37m\u001b[0m \u001b[1m11s\u001b[0m 13ms/step - accuracy: 0.7321 - loss: 0.5479 - val_accuracy: 0.7262 - val_loss: 0.5465\n",
            "Epoch 16/30\n",
            "\u001b[1m886/886\u001b[0m \u001b[32m━━━━━━━━━━━━━━━━━━━━\u001b[0m\u001b[37m\u001b[0m \u001b[1m21s\u001b[0m 13ms/step - accuracy: 0.7291 - loss: 0.5520 - val_accuracy: 0.7276 - val_loss: 0.5459\n",
            "Epoch 17/30\n",
            "\u001b[1m886/886\u001b[0m \u001b[32m━━━━━━━━━━━━━━━━━━━━\u001b[0m\u001b[37m\u001b[0m \u001b[1m12s\u001b[0m 13ms/step - accuracy: 0.7293 - loss: 0.5492 - val_accuracy: 0.7305 - val_loss: 0.5447\n",
            "Epoch 18/30\n",
            "\u001b[1m886/886\u001b[0m \u001b[32m━━━━━━━━━━━━━━━━━━━━\u001b[0m\u001b[37m\u001b[0m \u001b[1m12s\u001b[0m 13ms/step - accuracy: 0.7290 - loss: 0.5483 - val_accuracy: 0.7290 - val_loss: 0.5449\n",
            "Epoch 19/30\n",
            "\u001b[1m886/886\u001b[0m \u001b[32m━━━━━━━━━━━━━━━━━━━━\u001b[0m\u001b[37m\u001b[0m \u001b[1m11s\u001b[0m 12ms/step - accuracy: 0.7282 - loss: 0.5508 - val_accuracy: 0.7339 - val_loss: 0.5420\n",
            "Epoch 20/30\n",
            "\u001b[1m886/886\u001b[0m \u001b[32m━━━━━━━━━━━━━━━━━━━━\u001b[0m\u001b[37m\u001b[0m \u001b[1m21s\u001b[0m 13ms/step - accuracy: 0.7323 - loss: 0.5470 - val_accuracy: 0.7305 - val_loss: 0.5427\n",
            "Epoch 21/30\n",
            "\u001b[1m886/886\u001b[0m \u001b[32m━━━━━━━━━━━━━━━━━━━━\u001b[0m\u001b[37m\u001b[0m \u001b[1m24s\u001b[0m 16ms/step - accuracy: 0.7349 - loss: 0.5451 - val_accuracy: 0.7319 - val_loss: 0.5413\n",
            "Epoch 22/30\n",
            "\u001b[1m886/886\u001b[0m \u001b[32m━━━━━━━━━━━━━━━━━━━━\u001b[0m\u001b[37m\u001b[0m \u001b[1m18s\u001b[0m 13ms/step - accuracy: 0.7324 - loss: 0.5448 - val_accuracy: 0.7333 - val_loss: 0.5426\n",
            "Epoch 23/30\n",
            "\u001b[1m886/886\u001b[0m \u001b[32m━━━━━━━━━━━━━━━━━━━━\u001b[0m\u001b[37m\u001b[0m \u001b[1m12s\u001b[0m 13ms/step - accuracy: 0.7311 - loss: 0.5461 - val_accuracy: 0.7322 - val_loss: 0.5412\n",
            "Epoch 24/30\n",
            "\u001b[1m886/886\u001b[0m \u001b[32m━━━━━━━━━━━━━━━━━━━━\u001b[0m\u001b[37m\u001b[0m \u001b[1m11s\u001b[0m 12ms/step - accuracy: 0.7370 - loss: 0.5404 - val_accuracy: 0.7319 - val_loss: 0.5399\n",
            "Epoch 25/30\n",
            "\u001b[1m886/886\u001b[0m \u001b[32m━━━━━━━━━━━━━━━━━━━━\u001b[0m\u001b[37m\u001b[0m \u001b[1m21s\u001b[0m 13ms/step - accuracy: 0.7314 - loss: 0.5458 - val_accuracy: 0.7315 - val_loss: 0.5417\n",
            "Epoch 26/30\n",
            "\u001b[1m886/886\u001b[0m \u001b[32m━━━━━━━━━━━━━━━━━━━━\u001b[0m\u001b[37m\u001b[0m \u001b[1m11s\u001b[0m 13ms/step - accuracy: 0.7378 - loss: 0.5412 - val_accuracy: 0.7329 - val_loss: 0.5426\n",
            "Epoch 27/30\n",
            "\u001b[1m886/886\u001b[0m \u001b[32m━━━━━━━━━━━━━━━━━━━━\u001b[0m\u001b[37m\u001b[0m \u001b[1m12s\u001b[0m 13ms/step - accuracy: 0.7346 - loss: 0.5415 - val_accuracy: 0.7321 - val_loss: 0.5416\n",
            "Epoch 28/30\n",
            "\u001b[1m886/886\u001b[0m \u001b[32m━━━━━━━━━━━━━━━━━━━━\u001b[0m\u001b[37m\u001b[0m \u001b[1m10s\u001b[0m 11ms/step - accuracy: 0.7368 - loss: 0.5417 - val_accuracy: 0.7338 - val_loss: 0.5391\n",
            "Epoch 29/30\n",
            "\u001b[1m886/886\u001b[0m \u001b[32m━━━━━━━━━━━━━━━━━━━━\u001b[0m\u001b[37m\u001b[0m \u001b[1m11s\u001b[0m 13ms/step - accuracy: 0.7408 - loss: 0.5378 - val_accuracy: 0.7319 - val_loss: 0.5414\n",
            "Epoch 30/30\n",
            "\u001b[1m886/886\u001b[0m \u001b[32m━━━━━━━━━━━━━━━━━━━━\u001b[0m\u001b[37m\u001b[0m \u001b[1m12s\u001b[0m 13ms/step - accuracy: 0.7336 - loss: 0.5465 - val_accuracy: 0.7343 - val_loss: 0.5395\n",
            "\u001b[1m443/443\u001b[0m \u001b[32m━━━━━━━━━━━━━━━━━━━━\u001b[0m\u001b[37m\u001b[0m \u001b[1m3s\u001b[0m 4ms/step\n",
            "Sensitivity: 0.7331532556155814, Specificity: 0.7345194732418044, MCC: 0.46766551954147423\n",
            "Training with 50 LSTM units, relu activation, and 0.3 dropout...\n",
            "Epoch 1/30\n"
          ]
        },
        {
          "name": "stderr",
          "output_type": "stream",
          "text": [
            "/usr/local/lib/python3.10/dist-packages/keras/src/layers/rnn/rnn.py:204: UserWarning: Do not pass an `input_shape`/`input_dim` argument to a layer. When using Sequential models, prefer using an `Input(shape)` object as the first layer in the model instead.\n",
            "  super().__init__(**kwargs)\n"
          ]
        },
        {
          "name": "stdout",
          "output_type": "stream",
          "text": [
            "\u001b[1m886/886\u001b[0m \u001b[32m━━━━━━━━━━━━━━━━━━━━\u001b[0m\u001b[37m\u001b[0m \u001b[1m25s\u001b[0m 14ms/step - accuracy: 0.6512 - loss: 0.6753 - val_accuracy: 0.6948 - val_loss: 0.6003\n",
            "Epoch 2/30\n",
            "\u001b[1m886/886\u001b[0m \u001b[32m━━━━━━━━━━━━━━━━━━━━\u001b[0m\u001b[37m\u001b[0m \u001b[1m19s\u001b[0m 13ms/step - accuracy: 0.6904 - loss: 0.6030 - val_accuracy: 0.7084 - val_loss: 0.5812\n",
            "Epoch 3/30\n",
            "\u001b[1m886/886\u001b[0m \u001b[32m━━━━━━━━━━━━━━━━━━━━\u001b[0m\u001b[37m\u001b[0m \u001b[1m21s\u001b[0m 13ms/step - accuracy: 0.7028 - loss: 0.5893 - val_accuracy: 0.7154 - val_loss: 0.5733\n",
            "Epoch 4/30\n",
            "\u001b[1m886/886\u001b[0m \u001b[32m━━━━━━━━━━━━━━━━━━━━\u001b[0m\u001b[37m\u001b[0m \u001b[1m20s\u001b[0m 13ms/step - accuracy: 0.7108 - loss: 0.5778 - val_accuracy: 0.7137 - val_loss: 0.5682\n",
            "Epoch 5/30\n",
            "\u001b[1m886/886\u001b[0m \u001b[32m━━━━━━━━━━━━━━━━━━━━\u001b[0m\u001b[37m\u001b[0m \u001b[1m21s\u001b[0m 14ms/step - accuracy: 0.7063 - loss: 0.5798 - val_accuracy: 0.7201 - val_loss: 0.5635\n",
            "Epoch 6/30\n",
            "\u001b[1m886/886\u001b[0m \u001b[32m━━━━━━━━━━━━━━━━━━━━\u001b[0m\u001b[37m\u001b[0m \u001b[1m14s\u001b[0m 15ms/step - accuracy: 0.7114 - loss: 0.5739 - val_accuracy: 0.7218 - val_loss: 0.5632\n",
            "Epoch 7/30\n",
            "\u001b[1m886/886\u001b[0m \u001b[32m━━━━━━━━━━━━━━━━━━━━\u001b[0m\u001b[37m\u001b[0m \u001b[1m18s\u001b[0m 13ms/step - accuracy: 0.7189 - loss: 0.5671 - val_accuracy: 0.7238 - val_loss: 0.5594\n",
            "Epoch 8/30\n",
            "\u001b[1m886/886\u001b[0m \u001b[32m━━━━━━━━━━━━━━━━━━━━\u001b[0m\u001b[37m\u001b[0m \u001b[1m11s\u001b[0m 13ms/step - accuracy: 0.7173 - loss: 0.5669 - val_accuracy: 0.7223 - val_loss: 0.5592\n",
            "Epoch 9/30\n",
            "\u001b[1m886/886\u001b[0m \u001b[32m━━━━━━━━━━━━━━━━━━━━\u001b[0m\u001b[37m\u001b[0m \u001b[1m19s\u001b[0m 12ms/step - accuracy: 0.7186 - loss: 0.5664 - val_accuracy: 0.7271 - val_loss: 0.5513\n",
            "Epoch 10/30\n",
            "\u001b[1m886/886\u001b[0m \u001b[32m━━━━━━━━━━━━━━━━━━━━\u001b[0m\u001b[37m\u001b[0m \u001b[1m22s\u001b[0m 14ms/step - accuracy: 0.7235 - loss: 0.5598 - val_accuracy: 0.7252 - val_loss: 0.5551\n",
            "Epoch 11/30\n",
            "\u001b[1m886/886\u001b[0m \u001b[32m━━━━━━━━━━━━━━━━━━━━\u001b[0m\u001b[37m\u001b[0m \u001b[1m20s\u001b[0m 13ms/step - accuracy: 0.7190 - loss: 0.5616 - val_accuracy: 0.7262 - val_loss: 0.5510\n",
            "Epoch 12/30\n",
            "\u001b[1m886/886\u001b[0m \u001b[32m━━━━━━━━━━━━━━━━━━━━\u001b[0m\u001b[37m\u001b[0m \u001b[1m10s\u001b[0m 12ms/step - accuracy: 0.7227 - loss: 0.5596 - val_accuracy: 0.7265 - val_loss: 0.5491\n",
            "Epoch 13/30\n",
            "\u001b[1m886/886\u001b[0m \u001b[32m━━━━━━━━━━━━━━━━━━━━\u001b[0m\u001b[37m\u001b[0m \u001b[1m22s\u001b[0m 14ms/step - accuracy: 0.7228 - loss: 0.5582 - val_accuracy: 0.7238 - val_loss: 0.5486\n",
            "Epoch 14/30\n",
            "\u001b[1m886/886\u001b[0m \u001b[32m━━━━━━━━━━━━━━━━━━━━\u001b[0m\u001b[37m\u001b[0m \u001b[1m20s\u001b[0m 13ms/step - accuracy: 0.7257 - loss: 0.5574 - val_accuracy: 0.7273 - val_loss: 0.5473\n",
            "Epoch 15/30\n",
            "\u001b[1m886/886\u001b[0m \u001b[32m━━━━━━━━━━━━━━━━━━━━\u001b[0m\u001b[37m\u001b[0m \u001b[1m10s\u001b[0m 12ms/step - accuracy: 0.7218 - loss: 0.5590 - val_accuracy: 0.7276 - val_loss: 0.5463\n",
            "Epoch 16/30\n",
            "\u001b[1m886/886\u001b[0m \u001b[32m━━━━━━━━━━━━━━━━━━━━\u001b[0m\u001b[37m\u001b[0m \u001b[1m22s\u001b[0m 13ms/step - accuracy: 0.7233 - loss: 0.5527 - val_accuracy: 0.7250 - val_loss: 0.5473\n",
            "Epoch 17/30\n",
            "\u001b[1m886/886\u001b[0m \u001b[32m━━━━━━━━━━━━━━━━━━━━\u001b[0m\u001b[37m\u001b[0m \u001b[1m13s\u001b[0m 14ms/step - accuracy: 0.7270 - loss: 0.5530 - val_accuracy: 0.7290 - val_loss: 0.5453\n",
            "Epoch 18/30\n",
            "\u001b[1m886/886\u001b[0m \u001b[32m━━━━━━━━━━━━━━━━━━━━\u001b[0m\u001b[37m\u001b[0m \u001b[1m18s\u001b[0m 12ms/step - accuracy: 0.7277 - loss: 0.5504 - val_accuracy: 0.7276 - val_loss: 0.5443\n",
            "Epoch 19/30\n",
            "\u001b[1m886/886\u001b[0m \u001b[32m━━━━━━━━━━━━━━━━━━━━\u001b[0m\u001b[37m\u001b[0m \u001b[1m22s\u001b[0m 13ms/step - accuracy: 0.7249 - loss: 0.5530 - val_accuracy: 0.7290 - val_loss: 0.5457\n",
            "Epoch 20/30\n",
            "\u001b[1m886/886\u001b[0m \u001b[32m━━━━━━━━━━━━━━━━━━━━\u001b[0m\u001b[37m\u001b[0m \u001b[1m14s\u001b[0m 16ms/step - accuracy: 0.7242 - loss: 0.5541 - val_accuracy: 0.7264 - val_loss: 0.5434\n",
            "Epoch 21/30\n",
            "\u001b[1m886/886\u001b[0m \u001b[32m━━━━━━━━━━━━━━━━━━━━\u001b[0m\u001b[37m\u001b[0m \u001b[1m12s\u001b[0m 14ms/step - accuracy: 0.7287 - loss: 0.5493 - val_accuracy: 0.7312 - val_loss: 0.5419\n",
            "Epoch 22/30\n",
            "\u001b[1m886/886\u001b[0m \u001b[32m━━━━━━━━━━━━━━━━━━━━\u001b[0m\u001b[37m\u001b[0m \u001b[1m20s\u001b[0m 14ms/step - accuracy: 0.7304 - loss: 0.5484 - val_accuracy: 0.7312 - val_loss: 0.5429\n",
            "Epoch 23/30\n",
            "\u001b[1m886/886\u001b[0m \u001b[32m━━━━━━━━━━━━━━━━━━━━\u001b[0m\u001b[37m\u001b[0m \u001b[1m21s\u001b[0m 14ms/step - accuracy: 0.7312 - loss: 0.5516 - val_accuracy: 0.7289 - val_loss: 0.5430\n",
            "Epoch 24/30\n",
            "\u001b[1m886/886\u001b[0m \u001b[32m━━━━━━━━━━━━━━━━━━━━\u001b[0m\u001b[37m\u001b[0m \u001b[1m11s\u001b[0m 12ms/step - accuracy: 0.7315 - loss: 0.5479 - val_accuracy: 0.7306 - val_loss: 0.5425\n",
            "Epoch 25/30\n",
            "\u001b[1m886/886\u001b[0m \u001b[32m━━━━━━━━━━━━━━━━━━━━\u001b[0m\u001b[37m\u001b[0m \u001b[1m11s\u001b[0m 12ms/step - accuracy: 0.7295 - loss: 0.5486 - val_accuracy: 0.7305 - val_loss: 0.5410\n",
            "Epoch 26/30\n",
            "\u001b[1m886/886\u001b[0m \u001b[32m━━━━━━━━━━━━━━━━━━━━\u001b[0m\u001b[37m\u001b[0m \u001b[1m22s\u001b[0m 13ms/step - accuracy: 0.7320 - loss: 0.5474 - val_accuracy: 0.7302 - val_loss: 0.5419\n",
            "Epoch 27/30\n",
            "\u001b[1m886/886\u001b[0m \u001b[32m━━━━━━━━━━━━━━━━━━━━\u001b[0m\u001b[37m\u001b[0m \u001b[1m20s\u001b[0m 12ms/step - accuracy: 0.7322 - loss: 0.5434 - val_accuracy: 0.7307 - val_loss: 0.5401\n",
            "Epoch 28/30\n",
            "\u001b[1m886/886\u001b[0m \u001b[32m━━━━━━━━━━━━━━━━━━━━\u001b[0m\u001b[37m\u001b[0m \u001b[1m21s\u001b[0m 13ms/step - accuracy: 0.7346 - loss: 0.5451 - val_accuracy: 0.7312 - val_loss: 0.5383\n",
            "Epoch 29/30\n",
            "\u001b[1m886/886\u001b[0m \u001b[32m━━━━━━━━━━━━━━━━━━━━\u001b[0m\u001b[37m\u001b[0m \u001b[1m12s\u001b[0m 13ms/step - accuracy: 0.7311 - loss: 0.5474 - val_accuracy: 0.7326 - val_loss: 0.5381\n",
            "Epoch 30/30\n",
            "\u001b[1m886/886\u001b[0m \u001b[32m━━━━━━━━━━━━━━━━━━━━\u001b[0m\u001b[37m\u001b[0m \u001b[1m19s\u001b[0m 12ms/step - accuracy: 0.7329 - loss: 0.5485 - val_accuracy: 0.7298 - val_loss: 0.5406\n",
            "\u001b[1m443/443\u001b[0m \u001b[32m━━━━━━━━━━━━━━━━━━━━\u001b[0m\u001b[37m\u001b[0m \u001b[1m3s\u001b[0m 6ms/step\n",
            "Sensitivity: 0.7290304236565255, Specificity: 0.736060521154385, MCC: 0.4651037840767185\n"
          ]
        }
      ],
      "source": [
        "#52m to execute\n",
        "for activation in activation_functions:\n",
        "    for dropout_rate in dropout_rates:\n",
        "        run_model(50, activation, dropout_rate)"
      ]
    },
    {
      "cell_type": "code",
      "execution_count": null,
      "metadata": {
        "colab": {
          "base_uri": "https://localhost:8080/"
        },
        "collapsed": true,
        "id": "vwBnXxQnnrCN",
        "outputId": "b56d0dcf-960a-490b-a3e5-0b48c4adc171"
      },
      "outputs": [
        {
          "name": "stdout",
          "output_type": "stream",
          "text": [
            "Training with 100 LSTM units, tanh activation, and 0.2 dropout...\n",
            "Epoch 1/30\n"
          ]
        },
        {
          "name": "stderr",
          "output_type": "stream",
          "text": [
            "/usr/local/lib/python3.10/dist-packages/keras/src/layers/rnn/rnn.py:204: UserWarning: Do not pass an `input_shape`/`input_dim` argument to a layer. When using Sequential models, prefer using an `Input(shape)` object as the first layer in the model instead.\n",
            "  super().__init__(**kwargs)\n"
          ]
        },
        {
          "name": "stdout",
          "output_type": "stream",
          "text": [
            "\u001b[1m886/886\u001b[0m \u001b[32m━━━━━━━━━━━━━━━━━━━━\u001b[0m\u001b[37m\u001b[0m \u001b[1m43s\u001b[0m 32ms/step - accuracy: 0.6678 - loss: 0.6700 - val_accuracy: 0.7048 - val_loss: 0.5925\n",
            "Epoch 2/30\n",
            "\u001b[1m886/886\u001b[0m \u001b[32m━━━━━━━━━━━━━━━━━━━━\u001b[0m\u001b[37m\u001b[0m \u001b[1m40s\u001b[0m 31ms/step - accuracy: 0.7014 - loss: 0.5911 - val_accuracy: 0.7120 - val_loss: 0.5767\n",
            "Epoch 3/30\n",
            "\u001b[1m886/886\u001b[0m \u001b[32m━━━━━━━━━━━━━━━━━━━━\u001b[0m\u001b[37m\u001b[0m \u001b[1m42s\u001b[0m 32ms/step - accuracy: 0.7124 - loss: 0.5771 - val_accuracy: 0.7161 - val_loss: 0.5701\n",
            "Epoch 4/30\n",
            "\u001b[1m886/886\u001b[0m \u001b[32m━━━━━━━━━━━━━━━━━━━━\u001b[0m\u001b[37m\u001b[0m \u001b[1m39s\u001b[0m 30ms/step - accuracy: 0.7120 - loss: 0.5697 - val_accuracy: 0.7190 - val_loss: 0.5644\n",
            "Epoch 5/30\n",
            "\u001b[1m886/886\u001b[0m \u001b[32m━━━━━━━━━━━━━━━━━━━━\u001b[0m\u001b[37m\u001b[0m \u001b[1m40s\u001b[0m 30ms/step - accuracy: 0.7175 - loss: 0.5660 - val_accuracy: 0.7226 - val_loss: 0.5601\n",
            "Epoch 6/30\n",
            "\u001b[1m886/886\u001b[0m \u001b[32m━━━━━━━━━━━━━━━━━━━━\u001b[0m\u001b[37m\u001b[0m \u001b[1m41s\u001b[0m 30ms/step - accuracy: 0.7202 - loss: 0.5646 - val_accuracy: 0.7255 - val_loss: 0.5568\n",
            "Epoch 7/30\n",
            "\u001b[1m886/886\u001b[0m \u001b[32m━━━━━━━━━━━━━━━━━━━━\u001b[0m\u001b[37m\u001b[0m \u001b[1m41s\u001b[0m 30ms/step - accuracy: 0.7214 - loss: 0.5599 - val_accuracy: 0.7218 - val_loss: 0.5581\n",
            "Epoch 8/30\n",
            "\u001b[1m886/886\u001b[0m \u001b[32m━━━━━━━━━━━━━━━━━━━━\u001b[0m\u001b[37m\u001b[0m \u001b[1m41s\u001b[0m 30ms/step - accuracy: 0.7278 - loss: 0.5545 - val_accuracy: 0.7254 - val_loss: 0.5552\n",
            "Epoch 9/30\n",
            "\u001b[1m886/886\u001b[0m \u001b[32m━━━━━━━━━━━━━━━━━━━━\u001b[0m\u001b[37m\u001b[0m \u001b[1m28s\u001b[0m 32ms/step - accuracy: 0.7267 - loss: 0.5554 - val_accuracy: 0.7240 - val_loss: 0.5588\n",
            "Epoch 10/30\n",
            "\u001b[1m886/886\u001b[0m \u001b[32m━━━━━━━━━━━━━━━━━━━━\u001b[0m\u001b[37m\u001b[0m \u001b[1m38s\u001b[0m 28ms/step - accuracy: 0.7242 - loss: 0.5544 - val_accuracy: 0.7256 - val_loss: 0.5524\n",
            "Epoch 11/30\n",
            "\u001b[1m886/886\u001b[0m \u001b[32m━━━━━━━━━━━━━━━━━━━━\u001b[0m\u001b[37m\u001b[0m \u001b[1m43s\u001b[0m 30ms/step - accuracy: 0.7277 - loss: 0.5532 - val_accuracy: 0.7293 - val_loss: 0.5475\n",
            "Epoch 12/30\n",
            "\u001b[1m886/886\u001b[0m \u001b[32m━━━━━━━━━━━━━━━━━━━━\u001b[0m\u001b[37m\u001b[0m \u001b[1m41s\u001b[0m 30ms/step - accuracy: 0.7267 - loss: 0.5522 - val_accuracy: 0.7283 - val_loss: 0.5499\n",
            "Epoch 13/30\n",
            "\u001b[1m886/886\u001b[0m \u001b[32m━━━━━━━━━━━━━━━━━━━━\u001b[0m\u001b[37m\u001b[0m \u001b[1m41s\u001b[0m 30ms/step - accuracy: 0.7291 - loss: 0.5474 - val_accuracy: 0.7317 - val_loss: 0.5488\n",
            "Epoch 14/30\n",
            "\u001b[1m886/886\u001b[0m \u001b[32m━━━━━━━━━━━━━━━━━━━━\u001b[0m\u001b[37m\u001b[0m \u001b[1m40s\u001b[0m 30ms/step - accuracy: 0.7288 - loss: 0.5485 - val_accuracy: 0.7307 - val_loss: 0.5458\n",
            "Epoch 15/30\n",
            "\u001b[1m886/886\u001b[0m \u001b[32m━━━━━━━━━━━━━━━━━━━━\u001b[0m\u001b[37m\u001b[0m \u001b[1m30s\u001b[0m 34ms/step - accuracy: 0.7352 - loss: 0.5449 - val_accuracy: 0.7306 - val_loss: 0.5489\n",
            "Epoch 16/30\n",
            "\u001b[1m886/886\u001b[0m \u001b[32m━━━━━━━━━━━━━━━━━━━━\u001b[0m\u001b[37m\u001b[0m \u001b[1m33s\u001b[0m 37ms/step - accuracy: 0.7326 - loss: 0.5458 - val_accuracy: 0.7319 - val_loss: 0.5459\n",
            "Epoch 17/30\n",
            "\u001b[1m886/886\u001b[0m \u001b[32m━━━━━━━━━━━━━━━━━━━━\u001b[0m\u001b[37m\u001b[0m \u001b[1m35s\u001b[0m 30ms/step - accuracy: 0.7335 - loss: 0.5458 - val_accuracy: 0.7297 - val_loss: 0.5485\n",
            "Epoch 18/30\n",
            "\u001b[1m886/886\u001b[0m \u001b[32m━━━━━━━━━━━━━━━━━━━━\u001b[0m\u001b[37m\u001b[0m \u001b[1m42s\u001b[0m 32ms/step - accuracy: 0.7371 - loss: 0.5430 - val_accuracy: 0.7320 - val_loss: 0.5440\n",
            "Epoch 19/30\n",
            "\u001b[1m886/886\u001b[0m \u001b[32m━━━━━━━━━━━━━━━━━━━━\u001b[0m\u001b[37m\u001b[0m \u001b[1m27s\u001b[0m 30ms/step - accuracy: 0.7342 - loss: 0.5445 - val_accuracy: 0.7272 - val_loss: 0.5530\n",
            "Epoch 20/30\n",
            "\u001b[1m886/886\u001b[0m \u001b[32m━━━━━━━━━━━━━━━━━━━━\u001b[0m\u001b[37m\u001b[0m \u001b[1m27s\u001b[0m 30ms/step - accuracy: 0.7338 - loss: 0.5432 - val_accuracy: 0.7305 - val_loss: 0.5449\n",
            "Epoch 21/30\n",
            "\u001b[1m886/886\u001b[0m \u001b[32m━━━━━━━━━━━━━━━━━━━━\u001b[0m\u001b[37m\u001b[0m \u001b[1m41s\u001b[0m 31ms/step - accuracy: 0.7315 - loss: 0.5464 - val_accuracy: 0.7329 - val_loss: 0.5433\n",
            "Epoch 22/30\n",
            "\u001b[1m886/886\u001b[0m \u001b[32m━━━━━━━━━━━━━━━━━━━━\u001b[0m\u001b[37m\u001b[0m \u001b[1m29s\u001b[0m 33ms/step - accuracy: 0.7369 - loss: 0.5430 - val_accuracy: 0.7321 - val_loss: 0.5422\n",
            "Epoch 23/30\n",
            "\u001b[1m886/886\u001b[0m \u001b[32m━━━━━━━━━━━━━━━━━━━━\u001b[0m\u001b[37m\u001b[0m \u001b[1m38s\u001b[0m 29ms/step - accuracy: 0.7362 - loss: 0.5430 - val_accuracy: 0.7358 - val_loss: 0.5429\n",
            "Epoch 24/30\n",
            "\u001b[1m886/886\u001b[0m \u001b[32m━━━━━━━━━━━━━━━━━━━━\u001b[0m\u001b[37m\u001b[0m \u001b[1m41s\u001b[0m 30ms/step - accuracy: 0.7335 - loss: 0.5432 - val_accuracy: 0.7338 - val_loss: 0.5434\n",
            "Epoch 25/30\n",
            "\u001b[1m886/886\u001b[0m \u001b[32m━━━━━━━━━━━━━━━━━━━━\u001b[0m\u001b[37m\u001b[0m \u001b[1m25s\u001b[0m 28ms/step - accuracy: 0.7361 - loss: 0.5391 - val_accuracy: 0.7329 - val_loss: 0.5424\n",
            "Epoch 26/30\n",
            "\u001b[1m886/886\u001b[0m \u001b[32m━━━━━━━━━━━━━━━━━━━━\u001b[0m\u001b[37m\u001b[0m \u001b[1m43s\u001b[0m 31ms/step - accuracy: 0.7349 - loss: 0.5415 - val_accuracy: 0.7336 - val_loss: 0.5439\n",
            "Epoch 27/30\n",
            "\u001b[1m886/886\u001b[0m \u001b[32m━━━━━━━━━━━━━━━━━━━━\u001b[0m\u001b[37m\u001b[0m \u001b[1m41s\u001b[0m 30ms/step - accuracy: 0.7403 - loss: 0.5373 - val_accuracy: 0.7345 - val_loss: 0.5446\n",
            "Epoch 28/30\n",
            "\u001b[1m886/886\u001b[0m \u001b[32m━━━━━━━━━━━━━━━━━━━━\u001b[0m\u001b[37m\u001b[0m \u001b[1m40s\u001b[0m 30ms/step - accuracy: 0.7362 - loss: 0.5401 - val_accuracy: 0.7336 - val_loss: 0.5435\n",
            "Epoch 29/30\n",
            "\u001b[1m886/886\u001b[0m \u001b[32m━━━━━━━━━━━━━━━━━━━━\u001b[0m\u001b[37m\u001b[0m \u001b[1m44s\u001b[0m 33ms/step - accuracy: 0.7374 - loss: 0.5390 - val_accuracy: 0.7340 - val_loss: 0.5406\n",
            "Epoch 30/30\n",
            "\u001b[1m886/886\u001b[0m \u001b[32m━━━━━━━━━━━━━━━━━━━━\u001b[0m\u001b[37m\u001b[0m \u001b[1m38s\u001b[0m 30ms/step - accuracy: 0.7378 - loss: 0.5372 - val_accuracy: 0.7343 - val_loss: 0.5432\n",
            "\u001b[1m443/443\u001b[0m \u001b[32m━━━━━━━━━━━━━━━━━━━━\u001b[0m\u001b[37m\u001b[0m \u001b[1m4s\u001b[0m 6ms/step\n",
            "Sensitivity: 0.7679840773386409, Specificity: 0.7004763239002522, MCC: 0.4694122383033519\n",
            "Training with 100 LSTM units, tanh activation, and 0.25 dropout...\n",
            "Epoch 1/30\n"
          ]
        },
        {
          "name": "stderr",
          "output_type": "stream",
          "text": [
            "/usr/local/lib/python3.10/dist-packages/keras/src/layers/rnn/rnn.py:204: UserWarning: Do not pass an `input_shape`/`input_dim` argument to a layer. When using Sequential models, prefer using an `Input(shape)` object as the first layer in the model instead.\n",
            "  super().__init__(**kwargs)\n"
          ]
        },
        {
          "name": "stdout",
          "output_type": "stream",
          "text": [
            "\u001b[1m886/886\u001b[0m \u001b[32m━━━━━━━━━━━━━━━━━━━━\u001b[0m\u001b[37m\u001b[0m \u001b[1m40s\u001b[0m 32ms/step - accuracy: 0.6690 - loss: 0.6732 - val_accuracy: 0.7017 - val_loss: 0.5914\n",
            "Epoch 2/30\n",
            "\u001b[1m886/886\u001b[0m \u001b[32m━━━━━━━━━━━━━━━━━━━━\u001b[0m\u001b[37m\u001b[0m \u001b[1m27s\u001b[0m 30ms/step - accuracy: 0.7046 - loss: 0.5914 - val_accuracy: 0.7100 - val_loss: 0.5796\n",
            "Epoch 3/30\n",
            "\u001b[1m886/886\u001b[0m \u001b[32m━━━━━━━━━━━━━━━━━━━━\u001b[0m\u001b[37m\u001b[0m \u001b[1m40s\u001b[0m 30ms/step - accuracy: 0.7091 - loss: 0.5799 - val_accuracy: 0.7113 - val_loss: 0.5774\n",
            "Epoch 4/30\n",
            "\u001b[1m886/886\u001b[0m \u001b[32m━━━━━━━━━━━━━━━━━━━━\u001b[0m\u001b[37m\u001b[0m \u001b[1m41s\u001b[0m 30ms/step - accuracy: 0.7114 - loss: 0.5766 - val_accuracy: 0.7182 - val_loss: 0.5637\n",
            "Epoch 5/30\n",
            "\u001b[1m886/886\u001b[0m \u001b[32m━━━━━━━━━━━━━━━━━━━━\u001b[0m\u001b[37m\u001b[0m \u001b[1m27s\u001b[0m 30ms/step - accuracy: 0.7130 - loss: 0.5725 - val_accuracy: 0.7184 - val_loss: 0.5666\n",
            "Epoch 6/30\n",
            "\u001b[1m886/886\u001b[0m \u001b[32m━━━━━━━━━━━━━━━━━━━━\u001b[0m\u001b[37m\u001b[0m \u001b[1m28s\u001b[0m 31ms/step - accuracy: 0.7204 - loss: 0.5669 - val_accuracy: 0.7255 - val_loss: 0.5571\n",
            "Epoch 7/30\n",
            "\u001b[1m886/886\u001b[0m \u001b[32m━━━━━━━━━━━━━━━━━━━━\u001b[0m\u001b[37m\u001b[0m \u001b[1m24s\u001b[0m 28ms/step - accuracy: 0.7227 - loss: 0.5610 - val_accuracy: 0.7207 - val_loss: 0.5584\n",
            "Epoch 8/30\n",
            "\u001b[1m886/886\u001b[0m \u001b[32m━━━━━━━━━━━━━━━━━━━━\u001b[0m\u001b[37m\u001b[0m \u001b[1m42s\u001b[0m 29ms/step - accuracy: 0.7220 - loss: 0.5603 - val_accuracy: 0.7270 - val_loss: 0.5576\n",
            "Epoch 9/30\n",
            "\u001b[1m886/886\u001b[0m \u001b[32m━━━━━━━━━━━━━━━━━━━━\u001b[0m\u001b[37m\u001b[0m \u001b[1m41s\u001b[0m 30ms/step - accuracy: 0.7249 - loss: 0.5589 - val_accuracy: 0.7244 - val_loss: 0.5531\n",
            "Epoch 10/30\n",
            "\u001b[1m886/886\u001b[0m \u001b[32m━━━━━━━━━━━━━━━━━━━━\u001b[0m\u001b[37m\u001b[0m \u001b[1m41s\u001b[0m 30ms/step - accuracy: 0.7218 - loss: 0.5625 - val_accuracy: 0.7262 - val_loss: 0.5526\n",
            "Epoch 11/30\n",
            "\u001b[1m886/886\u001b[0m \u001b[32m━━━━━━━━━━━━━━━━━━━━\u001b[0m\u001b[37m\u001b[0m \u001b[1m41s\u001b[0m 30ms/step - accuracy: 0.7301 - loss: 0.5527 - val_accuracy: 0.7274 - val_loss: 0.5521\n",
            "Epoch 12/30\n",
            "\u001b[1m886/886\u001b[0m \u001b[32m━━━━━━━━━━━━━━━━━━━━\u001b[0m\u001b[37m\u001b[0m \u001b[1m43s\u001b[0m 33ms/step - accuracy: 0.7246 - loss: 0.5573 - val_accuracy: 0.7297 - val_loss: 0.5508\n",
            "Epoch 13/30\n",
            "\u001b[1m886/886\u001b[0m \u001b[32m━━━━━━━━━━━━━━━━━━━━\u001b[0m\u001b[37m\u001b[0m \u001b[1m26s\u001b[0m 30ms/step - accuracy: 0.7269 - loss: 0.5552 - val_accuracy: 0.7312 - val_loss: 0.5481\n",
            "Epoch 14/30\n",
            "\u001b[1m886/886\u001b[0m \u001b[32m━━━━━━━━━━━━━━━━━━━━\u001b[0m\u001b[37m\u001b[0m \u001b[1m41s\u001b[0m 30ms/step - accuracy: 0.7256 - loss: 0.5556 - val_accuracy: 0.7293 - val_loss: 0.5491\n",
            "Epoch 15/30\n",
            "\u001b[1m886/886\u001b[0m \u001b[32m━━━━━━━━━━━━━━━━━━━━\u001b[0m\u001b[37m\u001b[0m \u001b[1m41s\u001b[0m 30ms/step - accuracy: 0.7298 - loss: 0.5536 - val_accuracy: 0.7271 - val_loss: 0.5503\n",
            "Epoch 16/30\n",
            "\u001b[1m886/886\u001b[0m \u001b[32m━━━━━━━━━━━━━━━━━━━━\u001b[0m\u001b[37m\u001b[0m \u001b[1m25s\u001b[0m 28ms/step - accuracy: 0.7282 - loss: 0.5518 - val_accuracy: 0.7314 - val_loss: 0.5474\n",
            "Epoch 17/30\n",
            "\u001b[1m886/886\u001b[0m \u001b[32m━━━━━━━━━━━━━━━━━━━━\u001b[0m\u001b[37m\u001b[0m \u001b[1m43s\u001b[0m 30ms/step - accuracy: 0.7314 - loss: 0.5482 - val_accuracy: 0.7285 - val_loss: 0.5504\n",
            "Epoch 18/30\n",
            "\u001b[1m886/886\u001b[0m \u001b[32m━━━━━━━━━━━━━━━━━━━━\u001b[0m\u001b[37m\u001b[0m \u001b[1m41s\u001b[0m 30ms/step - accuracy: 0.7278 - loss: 0.5503 - val_accuracy: 0.7288 - val_loss: 0.5474\n",
            "Epoch 19/30\n",
            "\u001b[1m886/886\u001b[0m \u001b[32m━━━━━━━━━━━━━━━━━━━━\u001b[0m\u001b[37m\u001b[0m \u001b[1m43s\u001b[0m 32ms/step - accuracy: 0.7341 - loss: 0.5451 - val_accuracy: 0.7324 - val_loss: 0.5460\n",
            "Epoch 20/30\n",
            "\u001b[1m886/886\u001b[0m \u001b[32m━━━━━━━━━━━━━━━━━━━━\u001b[0m\u001b[37m\u001b[0m \u001b[1m38s\u001b[0m 29ms/step - accuracy: 0.7291 - loss: 0.5491 - val_accuracy: 0.7321 - val_loss: 0.5441\n",
            "Epoch 21/30\n",
            "\u001b[1m886/886\u001b[0m \u001b[32m━━━━━━━━━━━━━━━━━━━━\u001b[0m\u001b[37m\u001b[0m \u001b[1m25s\u001b[0m 28ms/step - accuracy: 0.7323 - loss: 0.5476 - val_accuracy: 0.7341 - val_loss: 0.5475\n",
            "Epoch 22/30\n",
            "\u001b[1m886/886\u001b[0m \u001b[32m━━━━━━━━━━━━━━━━━━━━\u001b[0m\u001b[37m\u001b[0m \u001b[1m26s\u001b[0m 30ms/step - accuracy: 0.7320 - loss: 0.5482 - val_accuracy: 0.7336 - val_loss: 0.5466\n",
            "Epoch 23/30\n",
            "\u001b[1m886/886\u001b[0m \u001b[32m━━━━━━━━━━━━━━━━━━━━\u001b[0m\u001b[37m\u001b[0m \u001b[1m27s\u001b[0m 30ms/step - accuracy: 0.7312 - loss: 0.5449 - val_accuracy: 0.7354 - val_loss: 0.5434\n",
            "Epoch 24/30\n",
            "\u001b[1m886/886\u001b[0m \u001b[32m━━━━━━━━━━━━━━━━━━━━\u001b[0m\u001b[37m\u001b[0m \u001b[1m28s\u001b[0m 31ms/step - accuracy: 0.7319 - loss: 0.5470 - val_accuracy: 0.7321 - val_loss: 0.5430\n",
            "Epoch 25/30\n",
            "\u001b[1m886/886\u001b[0m \u001b[32m━━━━━━━━━━━━━━━━━━━━\u001b[0m\u001b[37m\u001b[0m \u001b[1m41s\u001b[0m 31ms/step - accuracy: 0.7303 - loss: 0.5499 - val_accuracy: 0.7343 - val_loss: 0.5440\n",
            "Epoch 26/30\n",
            "\u001b[1m886/886\u001b[0m \u001b[32m━━━━━━━━━━━━━━━━━━━━\u001b[0m\u001b[37m\u001b[0m \u001b[1m41s\u001b[0m 31ms/step - accuracy: 0.7345 - loss: 0.5448 - val_accuracy: 0.7287 - val_loss: 0.5451\n",
            "Epoch 27/30\n",
            "\u001b[1m886/886\u001b[0m \u001b[32m━━━━━━━━━━━━━━━━━━━━\u001b[0m\u001b[37m\u001b[0m \u001b[1m41s\u001b[0m 31ms/step - accuracy: 0.7353 - loss: 0.5416 - val_accuracy: 0.7338 - val_loss: 0.5430\n",
            "Epoch 28/30\n",
            "\u001b[1m886/886\u001b[0m \u001b[32m━━━━━━━━━━━━━━━━━━━━\u001b[0m\u001b[37m\u001b[0m \u001b[1m40s\u001b[0m 30ms/step - accuracy: 0.7374 - loss: 0.5437 - val_accuracy: 0.7330 - val_loss: 0.5414\n",
            "Epoch 29/30\n",
            "\u001b[1m886/886\u001b[0m \u001b[32m━━━━━━━━━━━━━━━━━━━━\u001b[0m\u001b[37m\u001b[0m \u001b[1m40s\u001b[0m 30ms/step - accuracy: 0.7370 - loss: 0.5421 - val_accuracy: 0.7317 - val_loss: 0.5452\n",
            "Epoch 30/30\n",
            "\u001b[1m886/886\u001b[0m \u001b[32m━━━━━━━━━━━━━━━━━━━━\u001b[0m\u001b[37m\u001b[0m \u001b[1m24s\u001b[0m 27ms/step - accuracy: 0.7335 - loss: 0.5433 - val_accuracy: 0.7340 - val_loss: 0.5416\n",
            "\u001b[1m443/443\u001b[0m \u001b[32m━━━━━━━━━━━━━━━━━━━━\u001b[0m\u001b[37m\u001b[0m \u001b[1m3s\u001b[0m 6ms/step\n",
            "Sensitivity: 0.7593119135626955, Specificity: 0.7070608013449146, MCC: 0.466917110426897\n",
            "Training with 100 LSTM units, tanh activation, and 0.3 dropout...\n",
            "Epoch 1/30\n"
          ]
        },
        {
          "name": "stderr",
          "output_type": "stream",
          "text": [
            "/usr/local/lib/python3.10/dist-packages/keras/src/layers/rnn/rnn.py:204: UserWarning: Do not pass an `input_shape`/`input_dim` argument to a layer. When using Sequential models, prefer using an `Input(shape)` object as the first layer in the model instead.\n",
            "  super().__init__(**kwargs)\n"
          ]
        },
        {
          "name": "stdout",
          "output_type": "stream",
          "text": [
            "\u001b[1m886/886\u001b[0m \u001b[32m━━━━━━━━━━━━━━━━━━━━\u001b[0m\u001b[37m\u001b[0m \u001b[1m42s\u001b[0m 32ms/step - accuracy: 0.6681 - loss: 0.6730 - val_accuracy: 0.6979 - val_loss: 0.5991\n",
            "Epoch 2/30\n",
            "\u001b[1m886/886\u001b[0m \u001b[32m━━━━━━━━━━━━━━━━━━━━\u001b[0m\u001b[37m\u001b[0m \u001b[1m40s\u001b[0m 30ms/step - accuracy: 0.6985 - loss: 0.5956 - val_accuracy: 0.7053 - val_loss: 0.5815\n",
            "Epoch 3/30\n",
            "\u001b[1m886/886\u001b[0m \u001b[32m━━━━━━━━━━━━━━━━━━━━\u001b[0m\u001b[37m\u001b[0m \u001b[1m30s\u001b[0m 34ms/step - accuracy: 0.7073 - loss: 0.5855 - val_accuracy: 0.7110 - val_loss: 0.5720\n",
            "Epoch 4/30\n",
            "\u001b[1m886/886\u001b[0m \u001b[32m━━━━━━━━━━━━━━━━━━━━\u001b[0m\u001b[37m\u001b[0m \u001b[1m38s\u001b[0m 30ms/step - accuracy: 0.7102 - loss: 0.5777 - val_accuracy: 0.7166 - val_loss: 0.5666\n",
            "Epoch 5/30\n",
            "\u001b[1m886/886\u001b[0m \u001b[32m━━━━━━━━━━━━━━━━━━━━\u001b[0m\u001b[37m\u001b[0m \u001b[1m27s\u001b[0m 31ms/step - accuracy: 0.7114 - loss: 0.5740 - val_accuracy: 0.7203 - val_loss: 0.5624\n",
            "Epoch 6/30\n",
            "\u001b[1m886/886\u001b[0m \u001b[32m━━━━━━━━━━━━━━━━━━━━\u001b[0m\u001b[37m\u001b[0m \u001b[1m25s\u001b[0m 29ms/step - accuracy: 0.7159 - loss: 0.5702 - val_accuracy: 0.7206 - val_loss: 0.5607\n",
            "Epoch 7/30\n",
            "\u001b[1m886/886\u001b[0m \u001b[32m━━━━━━━━━━━━━━━━━━━━\u001b[0m\u001b[37m\u001b[0m \u001b[1m42s\u001b[0m 30ms/step - accuracy: 0.7172 - loss: 0.5691 - val_accuracy: 0.7218 - val_loss: 0.5578\n",
            "Epoch 8/30\n",
            "\u001b[1m886/886\u001b[0m \u001b[32m━━━━━━━━━━━━━━━━━━━━\u001b[0m\u001b[37m\u001b[0m \u001b[1m25s\u001b[0m 29ms/step - accuracy: 0.7177 - loss: 0.5654 - val_accuracy: 0.7215 - val_loss: 0.5592\n",
            "Epoch 9/30\n",
            "\u001b[1m886/886\u001b[0m \u001b[32m━━━━━━━━━━━━━━━━━━━━\u001b[0m\u001b[37m\u001b[0m \u001b[1m27s\u001b[0m 30ms/step - accuracy: 0.7224 - loss: 0.5637 - val_accuracy: 0.7250 - val_loss: 0.5566\n",
            "Epoch 10/30\n",
            "\u001b[1m886/886\u001b[0m \u001b[32m━━━━━━━━━━━━━━━━━━━━\u001b[0m\u001b[37m\u001b[0m \u001b[1m40s\u001b[0m 29ms/step - accuracy: 0.7221 - loss: 0.5620 - val_accuracy: 0.7254 - val_loss: 0.5546\n",
            "Epoch 11/30\n",
            "\u001b[1m886/886\u001b[0m \u001b[32m━━━━━━━━━━━━━━━━━━━━\u001b[0m\u001b[37m\u001b[0m \u001b[1m44s\u001b[0m 33ms/step - accuracy: 0.7248 - loss: 0.5581 - val_accuracy: 0.7269 - val_loss: 0.5527\n",
            "Epoch 12/30\n",
            "\u001b[1m886/886\u001b[0m \u001b[32m━━━━━━━━━━━━━━━━━━━━\u001b[0m\u001b[37m\u001b[0m \u001b[1m38s\u001b[0m 30ms/step - accuracy: 0.7221 - loss: 0.5610 - val_accuracy: 0.7273 - val_loss: 0.5514\n",
            "Epoch 13/30\n",
            "\u001b[1m886/886\u001b[0m \u001b[32m━━━━━━━━━━━━━━━━━━━━\u001b[0m\u001b[37m\u001b[0m \u001b[1m27s\u001b[0m 31ms/step - accuracy: 0.7240 - loss: 0.5607 - val_accuracy: 0.7265 - val_loss: 0.5502\n",
            "Epoch 14/30\n",
            "\u001b[1m886/886\u001b[0m \u001b[32m━━━━━━━━━━━━━━━━━━━━\u001b[0m\u001b[37m\u001b[0m \u001b[1m27s\u001b[0m 31ms/step - accuracy: 0.7247 - loss: 0.5559 - val_accuracy: 0.7278 - val_loss: 0.5500\n",
            "Epoch 15/30\n",
            "\u001b[1m886/886\u001b[0m \u001b[32m━━━━━━━━━━━━━━━━━━━━\u001b[0m\u001b[37m\u001b[0m \u001b[1m27s\u001b[0m 31ms/step - accuracy: 0.7269 - loss: 0.5540 - val_accuracy: 0.7308 - val_loss: 0.5473\n",
            "Epoch 16/30\n",
            "\u001b[1m886/886\u001b[0m \u001b[32m━━━━━━━━━━━━━━━━━━━━\u001b[0m\u001b[37m\u001b[0m \u001b[1m42s\u001b[0m 32ms/step - accuracy: 0.7279 - loss: 0.5521 - val_accuracy: 0.7289 - val_loss: 0.5477\n",
            "Epoch 17/30\n",
            "\u001b[1m886/886\u001b[0m \u001b[32m━━━━━━━━━━━━━━━━━━━━\u001b[0m\u001b[37m\u001b[0m \u001b[1m39s\u001b[0m 30ms/step - accuracy: 0.7272 - loss: 0.5549 - val_accuracy: 0.7260 - val_loss: 0.5504\n",
            "Epoch 18/30\n",
            "\u001b[1m886/886\u001b[0m \u001b[32m━━━━━━━━━━━━━━━━━━━━\u001b[0m\u001b[37m\u001b[0m \u001b[1m44s\u001b[0m 33ms/step - accuracy: 0.7290 - loss: 0.5501 - val_accuracy: 0.7276 - val_loss: 0.5490\n",
            "Epoch 19/30\n",
            "\u001b[1m886/886\u001b[0m \u001b[32m━━━━━━━━━━━━━━━━━━━━\u001b[0m\u001b[37m\u001b[0m \u001b[1m27s\u001b[0m 30ms/step - accuracy: 0.7291 - loss: 0.5521 - val_accuracy: 0.7287 - val_loss: 0.5492\n",
            "Epoch 20/30\n",
            "\u001b[1m886/886\u001b[0m \u001b[32m━━━━━━━━━━━━━━━━━━━━\u001b[0m\u001b[37m\u001b[0m \u001b[1m27s\u001b[0m 30ms/step - accuracy: 0.7314 - loss: 0.5504 - val_accuracy: 0.7293 - val_loss: 0.5490\n",
            "Epoch 21/30\n",
            "\u001b[1m886/886\u001b[0m \u001b[32m━━━━━━━━━━━━━━━━━━━━\u001b[0m\u001b[37m\u001b[0m \u001b[1m41s\u001b[0m 30ms/step - accuracy: 0.7313 - loss: 0.5500 - val_accuracy: 0.7309 - val_loss: 0.5461\n",
            "Epoch 22/30\n",
            "\u001b[1m886/886\u001b[0m \u001b[32m━━━━━━━━━━━━━━━━━━━━\u001b[0m\u001b[37m\u001b[0m \u001b[1m41s\u001b[0m 30ms/step - accuracy: 0.7299 - loss: 0.5487 - val_accuracy: 0.7304 - val_loss: 0.5465\n",
            "Epoch 23/30\n",
            "\u001b[1m886/886\u001b[0m \u001b[32m━━━━━━━━━━━━━━━━━━━━\u001b[0m\u001b[37m\u001b[0m \u001b[1m26s\u001b[0m 30ms/step - accuracy: 0.7283 - loss: 0.5517 - val_accuracy: 0.7293 - val_loss: 0.5487\n",
            "Epoch 24/30\n",
            "\u001b[1m886/886\u001b[0m \u001b[32m━━━━━━━━━━━━━━━━━━━━\u001b[0m\u001b[37m\u001b[0m \u001b[1m41s\u001b[0m 30ms/step - accuracy: 0.7332 - loss: 0.5458 - val_accuracy: 0.7305 - val_loss: 0.5458\n",
            "Epoch 25/30\n",
            "\u001b[1m886/886\u001b[0m \u001b[32m━━━━━━━━━━━━━━━━━━━━\u001b[0m\u001b[37m\u001b[0m \u001b[1m44s\u001b[0m 33ms/step - accuracy: 0.7305 - loss: 0.5512 - val_accuracy: 0.7314 - val_loss: 0.5452\n",
            "Epoch 26/30\n",
            "\u001b[1m886/886\u001b[0m \u001b[32m━━━━━━━━━━━━━━━━━━━━\u001b[0m\u001b[37m\u001b[0m \u001b[1m36s\u001b[0m 28ms/step - accuracy: 0.7312 - loss: 0.5472 - val_accuracy: 0.7286 - val_loss: 0.5514\n",
            "Epoch 27/30\n",
            "\u001b[1m886/886\u001b[0m \u001b[32m━━━━━━━━━━━━━━━━━━━━\u001b[0m\u001b[37m\u001b[0m \u001b[1m43s\u001b[0m 30ms/step - accuracy: 0.7298 - loss: 0.5504 - val_accuracy: 0.7305 - val_loss: 0.5453\n",
            "Epoch 28/30\n",
            "\u001b[1m886/886\u001b[0m \u001b[32m━━━━━━━━━━━━━━━━━━━━\u001b[0m\u001b[37m\u001b[0m \u001b[1m40s\u001b[0m 30ms/step - accuracy: 0.7321 - loss: 0.5480 - val_accuracy: 0.7308 - val_loss: 0.5433\n",
            "Epoch 29/30\n",
            "\u001b[1m886/886\u001b[0m \u001b[32m━━━━━━━━━━━━━━━━━━━━\u001b[0m\u001b[37m\u001b[0m \u001b[1m42s\u001b[0m 30ms/step - accuracy: 0.7384 - loss: 0.5448 - val_accuracy: 0.7304 - val_loss: 0.5454\n",
            "Epoch 30/30\n",
            "\u001b[1m886/886\u001b[0m \u001b[32m━━━━━━━━━━━━━━━━━━━━\u001b[0m\u001b[37m\u001b[0m \u001b[1m41s\u001b[0m 31ms/step - accuracy: 0.7319 - loss: 0.5457 - val_accuracy: 0.7348 - val_loss: 0.5418\n",
            "\u001b[1m443/443\u001b[0m \u001b[32m━━━━━━━━━━━━━━━━━━━━\u001b[0m\u001b[37m\u001b[0m \u001b[1m4s\u001b[0m 6ms/step\n",
            "Sensitivity: 0.7372760875746375, Specificity: 0.7322779490053236, MCC: 0.4695419588775423\n",
            "Training with 100 LSTM units, relu activation, and 0.2 dropout...\n",
            "Epoch 1/30\n"
          ]
        },
        {
          "name": "stderr",
          "output_type": "stream",
          "text": [
            "/usr/local/lib/python3.10/dist-packages/keras/src/layers/rnn/rnn.py:204: UserWarning: Do not pass an `input_shape`/`input_dim` argument to a layer. When using Sequential models, prefer using an `Input(shape)` object as the first layer in the model instead.\n",
            "  super().__init__(**kwargs)\n"
          ]
        },
        {
          "name": "stdout",
          "output_type": "stream",
          "text": [
            "\u001b[1m886/886\u001b[0m \u001b[32m━━━━━━━━━━━━━━━━━━━━\u001b[0m\u001b[37m\u001b[0m \u001b[1m40s\u001b[0m 31ms/step - accuracy: 0.6692 - loss: 0.6779 - val_accuracy: 0.7073 - val_loss: 0.5913\n",
            "Epoch 2/30\n",
            "\u001b[1m886/886\u001b[0m \u001b[32m━━━━━━━━━━━━━━━━━━━━\u001b[0m\u001b[37m\u001b[0m \u001b[1m29s\u001b[0m 32ms/step - accuracy: 0.7033 - loss: 0.5917 - val_accuracy: 0.7127 - val_loss: 0.5788\n",
            "Epoch 3/30\n",
            "\u001b[1m886/886\u001b[0m \u001b[32m━━━━━━━━━━━━━━━━━━━━\u001b[0m\u001b[37m\u001b[0m \u001b[1m25s\u001b[0m 28ms/step - accuracy: 0.7154 - loss: 0.5737 - val_accuracy: 0.7213 - val_loss: 0.5644\n",
            "Epoch 4/30\n",
            "\u001b[1m886/886\u001b[0m \u001b[32m━━━━━━━━━━━━━━━━━━━━\u001b[0m\u001b[37m\u001b[0m \u001b[1m43s\u001b[0m 30ms/step - accuracy: 0.7170 - loss: 0.5674 - val_accuracy: 0.7243 - val_loss: 0.5582\n",
            "Epoch 5/30\n",
            "\u001b[1m886/886\u001b[0m \u001b[32m━━━━━━━━━━━━━━━━━━━━\u001b[0m\u001b[37m\u001b[0m \u001b[1m25s\u001b[0m 28ms/step - accuracy: 0.7200 - loss: 0.5632 - val_accuracy: 0.7262 - val_loss: 0.5542\n",
            "Epoch 6/30\n",
            "\u001b[1m886/886\u001b[0m \u001b[32m━━━━━━━━━━━━━━━━━━━━\u001b[0m\u001b[37m\u001b[0m \u001b[1m42s\u001b[0m 29ms/step - accuracy: 0.7231 - loss: 0.5605 - val_accuracy: 0.7276 - val_loss: 0.5522\n",
            "Epoch 7/30\n",
            "\u001b[1m886/886\u001b[0m \u001b[32m━━━━━━━━━━━━━━━━━━━━\u001b[0m\u001b[37m\u001b[0m \u001b[1m25s\u001b[0m 28ms/step - accuracy: 0.7289 - loss: 0.5536 - val_accuracy: 0.7265 - val_loss: 0.5531\n",
            "Epoch 8/30\n",
            "\u001b[1m886/886\u001b[0m \u001b[32m━━━━━━━━━━━━━━━━━━━━\u001b[0m\u001b[37m\u001b[0m \u001b[1m42s\u001b[0m 29ms/step - accuracy: 0.7274 - loss: 0.5525 - val_accuracy: 0.7282 - val_loss: 0.5490\n",
            "Epoch 9/30\n",
            "\u001b[1m886/886\u001b[0m \u001b[32m━━━━━━━━━━━━━━━━━━━━\u001b[0m\u001b[37m\u001b[0m \u001b[1m42s\u001b[0m 30ms/step - accuracy: 0.7307 - loss: 0.5479 - val_accuracy: 0.7283 - val_loss: 0.5494\n",
            "Epoch 10/30\n",
            "\u001b[1m886/886\u001b[0m \u001b[32m━━━━━━━━━━━━━━━━━━━━\u001b[0m\u001b[37m\u001b[0m \u001b[1m40s\u001b[0m 29ms/step - accuracy: 0.7299 - loss: 0.5516 - val_accuracy: 0.7334 - val_loss: 0.5453\n",
            "Epoch 11/30\n",
            "\u001b[1m886/886\u001b[0m \u001b[32m━━━━━━━━━━━━━━━━━━━━\u001b[0m\u001b[37m\u001b[0m \u001b[1m42s\u001b[0m 30ms/step - accuracy: 0.7307 - loss: 0.5484 - val_accuracy: 0.7301 - val_loss: 0.5461\n",
            "Epoch 12/30\n",
            "\u001b[1m886/886\u001b[0m \u001b[32m━━━━━━━━━━━━━━━━━━━━\u001b[0m\u001b[37m\u001b[0m \u001b[1m41s\u001b[0m 30ms/step - accuracy: 0.7319 - loss: 0.5474 - val_accuracy: 0.7262 - val_loss: 0.5502\n",
            "Epoch 13/30\n",
            "\u001b[1m886/886\u001b[0m \u001b[32m━━━━━━━━━━━━━━━━━━━━\u001b[0m\u001b[37m\u001b[0m \u001b[1m42s\u001b[0m 31ms/step - accuracy: 0.7357 - loss: 0.5438 - val_accuracy: 0.7297 - val_loss: 0.5471\n",
            "Epoch 14/30\n",
            "\u001b[1m886/886\u001b[0m \u001b[32m━━━━━━━━━━━━━━━━━━━━\u001b[0m\u001b[37m\u001b[0m \u001b[1m40s\u001b[0m 29ms/step - accuracy: 0.7339 - loss: 0.5446 - val_accuracy: 0.7275 - val_loss: 0.5495\n",
            "Epoch 15/30\n",
            "\u001b[1m886/886\u001b[0m \u001b[32m━━━━━━━━━━━━━━━━━━━━\u001b[0m\u001b[37m\u001b[0m \u001b[1m25s\u001b[0m 28ms/step - accuracy: 0.7351 - loss: 0.5438 - val_accuracy: 0.7333 - val_loss: 0.5425\n",
            "Epoch 16/30\n",
            "\u001b[1m886/886\u001b[0m \u001b[32m━━━━━━━━━━━━━━━━━━━━\u001b[0m\u001b[37m\u001b[0m \u001b[1m46s\u001b[0m 34ms/step - accuracy: 0.7364 - loss: 0.5404 - val_accuracy: 0.7350 - val_loss: 0.5403\n",
            "Epoch 17/30\n",
            "\u001b[1m886/886\u001b[0m \u001b[32m━━━━━━━━━━━━━━━━━━━━\u001b[0m\u001b[37m\u001b[0m \u001b[1m37s\u001b[0m 29ms/step - accuracy: 0.7385 - loss: 0.5399 - val_accuracy: 0.7358 - val_loss: 0.5403\n",
            "Epoch 18/30\n",
            "\u001b[1m886/886\u001b[0m \u001b[32m━━━━━━━━━━━━━━━━━━━━\u001b[0m\u001b[37m\u001b[0m \u001b[1m26s\u001b[0m 30ms/step - accuracy: 0.7375 - loss: 0.5407 - val_accuracy: 0.7378 - val_loss: 0.5384\n",
            "Epoch 19/30\n",
            "\u001b[1m886/886\u001b[0m \u001b[32m━━━━━━━━━━━━━━━━━━━━\u001b[0m\u001b[37m\u001b[0m \u001b[1m27s\u001b[0m 30ms/step - accuracy: 0.7393 - loss: 0.5341 - val_accuracy: 0.7368 - val_loss: 0.5391\n",
            "Epoch 20/30\n",
            "\u001b[1m886/886\u001b[0m \u001b[32m━━━━━━━━━━━━━━━━━━━━\u001b[0m\u001b[37m\u001b[0m \u001b[1m41s\u001b[0m 30ms/step - accuracy: 0.7406 - loss: 0.5379 - val_accuracy: 0.7345 - val_loss: 0.5390\n",
            "Epoch 21/30\n",
            "\u001b[1m886/886\u001b[0m \u001b[32m━━━━━━━━━━━━━━━━━━━━\u001b[0m\u001b[37m\u001b[0m \u001b[1m27s\u001b[0m 31ms/step - accuracy: 0.7416 - loss: 0.5345 - val_accuracy: 0.7340 - val_loss: 0.5374\n",
            "Epoch 22/30\n",
            "\u001b[1m886/886\u001b[0m \u001b[32m━━━━━━━━━━━━━━━━━━━━\u001b[0m\u001b[37m\u001b[0m \u001b[1m43s\u001b[0m 32ms/step - accuracy: 0.7398 - loss: 0.5369 - val_accuracy: 0.7365 - val_loss: 0.5373\n",
            "Epoch 23/30\n",
            "\u001b[1m886/886\u001b[0m \u001b[32m━━━━━━━━━━━━━━━━━━━━\u001b[0m\u001b[37m\u001b[0m \u001b[1m39s\u001b[0m 30ms/step - accuracy: 0.7456 - loss: 0.5334 - val_accuracy: 0.7347 - val_loss: 0.5373\n",
            "Epoch 24/30\n",
            "\u001b[1m886/886\u001b[0m \u001b[32m━━━━━━━━━━━━━━━━━━━━\u001b[0m\u001b[37m\u001b[0m \u001b[1m43s\u001b[0m 33ms/step - accuracy: 0.7422 - loss: 0.5340 - val_accuracy: 0.7365 - val_loss: 0.5399\n",
            "Epoch 25/30\n",
            "\u001b[1m886/886\u001b[0m \u001b[32m━━━━━━━━━━━━━━━━━━━━\u001b[0m\u001b[37m\u001b[0m \u001b[1m27s\u001b[0m 31ms/step - accuracy: 0.7432 - loss: 0.5340 - val_accuracy: 0.7359 - val_loss: 0.5367\n",
            "Epoch 26/30\n",
            "\u001b[1m886/886\u001b[0m \u001b[32m━━━━━━━━━━━━━━━━━━━━\u001b[0m\u001b[37m\u001b[0m \u001b[1m41s\u001b[0m 31ms/step - accuracy: 0.7444 - loss: 0.5316 - val_accuracy: 0.7367 - val_loss: 0.5383\n",
            "Epoch 27/30\n",
            "\u001b[1m886/886\u001b[0m \u001b[32m━━━━━━━━━━━━━━━━━━━━\u001b[0m\u001b[37m\u001b[0m \u001b[1m26s\u001b[0m 29ms/step - accuracy: 0.7410 - loss: 0.5347 - val_accuracy: 0.7367 - val_loss: 0.5402\n",
            "Epoch 28/30\n",
            "\u001b[1m886/886\u001b[0m \u001b[32m━━━━━━━━━━━━━━━━━━━━\u001b[0m\u001b[37m\u001b[0m \u001b[1m42s\u001b[0m 30ms/step - accuracy: 0.7421 - loss: 0.5350 - val_accuracy: 0.7388 - val_loss: 0.5337\n",
            "Epoch 29/30\n",
            "\u001b[1m886/886\u001b[0m \u001b[32m━━━━━━━━━━━━━━━━━━━━\u001b[0m\u001b[37m\u001b[0m \u001b[1m41s\u001b[0m 31ms/step - accuracy: 0.7448 - loss: 0.5327 - val_accuracy: 0.7372 - val_loss: 0.5378\n",
            "Epoch 30/30\n",
            "\u001b[1m886/886\u001b[0m \u001b[32m━━━━━━━━━━━━━━━━━━━━\u001b[0m\u001b[37m\u001b[0m \u001b[1m41s\u001b[0m 30ms/step - accuracy: 0.7427 - loss: 0.5315 - val_accuracy: 0.7374 - val_loss: 0.5399\n",
            "\u001b[1m443/443\u001b[0m \u001b[32m━━━━━━━━━━━━━━━━━━━━\u001b[0m\u001b[37m\u001b[0m \u001b[1m4s\u001b[0m 6ms/step\n",
            "Sensitivity: 0.7674154108615298, Specificity: 0.7105631829644158, MCC: 0.47864723968715334\n",
            "Training with 100 LSTM units, relu activation, and 0.25 dropout...\n",
            "Epoch 1/30\n"
          ]
        },
        {
          "name": "stderr",
          "output_type": "stream",
          "text": [
            "/usr/local/lib/python3.10/dist-packages/keras/src/layers/rnn/rnn.py:204: UserWarning: Do not pass an `input_shape`/`input_dim` argument to a layer. When using Sequential models, prefer using an `Input(shape)` object as the first layer in the model instead.\n",
            "  super().__init__(**kwargs)\n"
          ]
        },
        {
          "name": "stdout",
          "output_type": "stream",
          "text": [
            "\u001b[1m886/886\u001b[0m \u001b[32m━━━━━━━━━━━━━━━━━━━━\u001b[0m\u001b[37m\u001b[0m \u001b[1m43s\u001b[0m 32ms/step - accuracy: 0.6460 - loss: 0.6810 - val_accuracy: 0.7022 - val_loss: 0.5958\n",
            "Epoch 2/30\n",
            "\u001b[1m886/886\u001b[0m \u001b[32m━━━━━━━━━━━━━━━━━━━━\u001b[0m\u001b[37m\u001b[0m \u001b[1m27s\u001b[0m 31ms/step - accuracy: 0.7055 - loss: 0.5903 - val_accuracy: 0.7163 - val_loss: 0.5742\n",
            "Epoch 3/30\n",
            "\u001b[1m886/886\u001b[0m \u001b[32m━━━━━━━━━━━━━━━━━━━━\u001b[0m\u001b[37m\u001b[0m \u001b[1m40s\u001b[0m 30ms/step - accuracy: 0.7095 - loss: 0.5805 - val_accuracy: 0.7202 - val_loss: 0.5657\n",
            "Epoch 4/30\n",
            "\u001b[1m886/886\u001b[0m \u001b[32m━━━━━━━━━━━━━━━━━━━━\u001b[0m\u001b[37m\u001b[0m \u001b[1m25s\u001b[0m 28ms/step - accuracy: 0.7172 - loss: 0.5679 - val_accuracy: 0.7240 - val_loss: 0.5588\n",
            "Epoch 5/30\n",
            "\u001b[1m886/886\u001b[0m \u001b[32m━━━━━━━━━━━━━━━━━━━━\u001b[0m\u001b[37m\u001b[0m \u001b[1m27s\u001b[0m 30ms/step - accuracy: 0.7241 - loss: 0.5619 - val_accuracy: 0.7241 - val_loss: 0.5564\n",
            "Epoch 6/30\n",
            "\u001b[1m886/886\u001b[0m \u001b[32m━━━━━━━━━━━━━━━━━━━━\u001b[0m\u001b[37m\u001b[0m \u001b[1m41s\u001b[0m 31ms/step - accuracy: 0.7218 - loss: 0.5618 - val_accuracy: 0.7300 - val_loss: 0.5524\n",
            "Epoch 7/30\n",
            "\u001b[1m886/886\u001b[0m \u001b[32m━━━━━━━━━━━━━━━━━━━━\u001b[0m\u001b[37m\u001b[0m \u001b[1m40s\u001b[0m 30ms/step - accuracy: 0.7276 - loss: 0.5554 - val_accuracy: 0.7265 - val_loss: 0.5519\n",
            "Epoch 8/30\n",
            "\u001b[1m886/886\u001b[0m \u001b[32m━━━━━━━━━━━━━━━━━━━━\u001b[0m\u001b[37m\u001b[0m \u001b[1m44s\u001b[0m 33ms/step - accuracy: 0.7275 - loss: 0.5541 - val_accuracy: 0.7274 - val_loss: 0.5526\n",
            "Epoch 9/30\n",
            "\u001b[1m886/886\u001b[0m \u001b[32m━━━━━━━━━━━━━━━━━━━━\u001b[0m\u001b[37m\u001b[0m \u001b[1m27s\u001b[0m 30ms/step - accuracy: 0.7288 - loss: 0.5527 - val_accuracy: 0.7250 - val_loss: 0.5528\n",
            "Epoch 10/30\n",
            "\u001b[1m886/886\u001b[0m \u001b[32m━━━━━━━━━━━━━━━━━━━━\u001b[0m\u001b[37m\u001b[0m \u001b[1m27s\u001b[0m 30ms/step - accuracy: 0.7272 - loss: 0.5523 - val_accuracy: 0.7312 - val_loss: 0.5455\n",
            "Epoch 11/30\n",
            "\u001b[1m886/886\u001b[0m \u001b[32m━━━━━━━━━━━━━━━━━━━━\u001b[0m\u001b[37m\u001b[0m \u001b[1m41s\u001b[0m 30ms/step - accuracy: 0.7319 - loss: 0.5490 - val_accuracy: 0.7308 - val_loss: 0.5459\n",
            "Epoch 12/30\n",
            "\u001b[1m886/886\u001b[0m \u001b[32m━━━━━━━━━━━━━━━━━━━━\u001b[0m\u001b[37m\u001b[0m \u001b[1m41s\u001b[0m 30ms/step - accuracy: 0.7310 - loss: 0.5480 - val_accuracy: 0.7305 - val_loss: 0.5465\n",
            "Epoch 13/30\n",
            "\u001b[1m886/886\u001b[0m \u001b[32m━━━━━━━━━━━━━━━━━━━━\u001b[0m\u001b[37m\u001b[0m \u001b[1m42s\u001b[0m 31ms/step - accuracy: 0.7352 - loss: 0.5456 - val_accuracy: 0.7322 - val_loss: 0.5431\n",
            "Epoch 14/30\n",
            "\u001b[1m886/886\u001b[0m \u001b[32m━━━━━━━━━━━━━━━━━━━━\u001b[0m\u001b[37m\u001b[0m \u001b[1m41s\u001b[0m 31ms/step - accuracy: 0.7305 - loss: 0.5467 - val_accuracy: 0.7305 - val_loss: 0.5427\n",
            "Epoch 15/30\n",
            "\u001b[1m886/886\u001b[0m \u001b[32m━━━━━━━━━━━━━━━━━━━━\u001b[0m\u001b[37m\u001b[0m \u001b[1m43s\u001b[0m 33ms/step - accuracy: 0.7355 - loss: 0.5422 - val_accuracy: 0.7354 - val_loss: 0.5413\n",
            "Epoch 16/30\n",
            "\u001b[1m886/886\u001b[0m \u001b[32m━━━━━━━━━━━━━━━━━━━━\u001b[0m\u001b[37m\u001b[0m \u001b[1m39s\u001b[0m 31ms/step - accuracy: 0.7345 - loss: 0.5440 - val_accuracy: 0.7343 - val_loss: 0.5446\n",
            "Epoch 17/30\n",
            "\u001b[1m886/886\u001b[0m \u001b[32m━━━━━━━━━━━━━━━━━━━━\u001b[0m\u001b[37m\u001b[0m \u001b[1m26s\u001b[0m 29ms/step - accuracy: 0.7368 - loss: 0.5430 - val_accuracy: 0.7341 - val_loss: 0.5424\n",
            "Epoch 18/30\n",
            "\u001b[1m886/886\u001b[0m \u001b[32m━━━━━━━━━━━━━━━━━━━━\u001b[0m\u001b[37m\u001b[0m \u001b[1m43s\u001b[0m 31ms/step - accuracy: 0.7363 - loss: 0.5416 - val_accuracy: 0.7326 - val_loss: 0.5420\n",
            "Epoch 19/30\n",
            "\u001b[1m886/886\u001b[0m \u001b[32m━━━━━━━━━━━━━━━━━━━━\u001b[0m\u001b[37m\u001b[0m \u001b[1m40s\u001b[0m 30ms/step - accuracy: 0.7365 - loss: 0.5404 - val_accuracy: 0.7352 - val_loss: 0.5425\n",
            "Epoch 20/30\n",
            "\u001b[1m886/886\u001b[0m \u001b[32m━━━━━━━━━━━━━━━━━━━━\u001b[0m\u001b[37m\u001b[0m \u001b[1m41s\u001b[0m 30ms/step - accuracy: 0.7369 - loss: 0.5416 - val_accuracy: 0.7304 - val_loss: 0.5448\n",
            "Epoch 21/30\n",
            "\u001b[1m886/886\u001b[0m \u001b[32m━━━━━━━━━━━━━━━━━━━━\u001b[0m\u001b[37m\u001b[0m \u001b[1m41s\u001b[0m 30ms/step - accuracy: 0.7364 - loss: 0.5404 - val_accuracy: 0.7305 - val_loss: 0.5445\n",
            "Epoch 22/30\n",
            "\u001b[1m886/886\u001b[0m \u001b[32m━━━━━━━━━━━━━━━━━━━━\u001b[0m\u001b[37m\u001b[0m \u001b[1m41s\u001b[0m 30ms/step - accuracy: 0.7365 - loss: 0.5422 - val_accuracy: 0.7373 - val_loss: 0.5387\n",
            "Epoch 23/30\n",
            "\u001b[1m886/886\u001b[0m \u001b[32m━━━━━━━━━━━━━━━━━━━━\u001b[0m\u001b[37m\u001b[0m \u001b[1m29s\u001b[0m 32ms/step - accuracy: 0.7435 - loss: 0.5344 - val_accuracy: 0.7364 - val_loss: 0.5407\n",
            "Epoch 24/30\n",
            "\u001b[1m886/886\u001b[0m \u001b[32m━━━━━━━━━━━━━━━━━━━━\u001b[0m\u001b[37m\u001b[0m \u001b[1m39s\u001b[0m 30ms/step - accuracy: 0.7424 - loss: 0.5349 - val_accuracy: 0.7341 - val_loss: 0.5383\n",
            "Epoch 25/30\n",
            "\u001b[1m886/886\u001b[0m \u001b[32m━━━━━━━━━━━━━━━━━━━━\u001b[0m\u001b[37m\u001b[0m \u001b[1m40s\u001b[0m 30ms/step - accuracy: 0.7374 - loss: 0.5406 - val_accuracy: 0.7377 - val_loss: 0.5397\n",
            "Epoch 26/30\n",
            "\u001b[1m886/886\u001b[0m \u001b[32m━━━━━━━━━━━━━━━━━━━━\u001b[0m\u001b[37m\u001b[0m \u001b[1m25s\u001b[0m 29ms/step - accuracy: 0.7389 - loss: 0.5379 - val_accuracy: 0.7383 - val_loss: 0.5410\n",
            "Epoch 27/30\n",
            "\u001b[1m886/886\u001b[0m \u001b[32m━━━━━━━━━━━━━━━━━━━━\u001b[0m\u001b[37m\u001b[0m \u001b[1m42s\u001b[0m 30ms/step - accuracy: 0.7384 - loss: 0.5420 - val_accuracy: 0.7367 - val_loss: 0.5426\n",
            "Epoch 28/30\n",
            "\u001b[1m886/886\u001b[0m \u001b[32m━━━━━━━━━━━━━━━━━━━━\u001b[0m\u001b[37m\u001b[0m \u001b[1m42s\u001b[0m 31ms/step - accuracy: 0.7389 - loss: 0.5375 - val_accuracy: 0.7394 - val_loss: 0.5419\n",
            "Epoch 29/30\n",
            "\u001b[1m886/886\u001b[0m \u001b[32m━━━━━━━━━━━━━━━━━━━━\u001b[0m\u001b[37m\u001b[0m \u001b[1m40s\u001b[0m 30ms/step - accuracy: 0.7354 - loss: 0.5400 - val_accuracy: 0.7365 - val_loss: 0.5393\n",
            "Epoch 30/30\n",
            "\u001b[1m886/886\u001b[0m \u001b[32m━━━━━━━━━━━━━━━━━━━━\u001b[0m\u001b[37m\u001b[0m \u001b[1m44s\u001b[0m 33ms/step - accuracy: 0.7408 - loss: 0.5338 - val_accuracy: 0.7333 - val_loss: 0.5405\n",
            "\u001b[1m443/443\u001b[0m \u001b[32m━━━━━━━━━━━━━━━━━━━━\u001b[0m\u001b[37m\u001b[0m \u001b[1m4s\u001b[0m 6ms/step\n",
            "Sensitivity: 0.7106909297696901, Specificity: 0.7572149061361726, MCC: 0.46847820852840644\n",
            "Training with 100 LSTM units, relu activation, and 0.3 dropout...\n",
            "Epoch 1/30\n"
          ]
        },
        {
          "name": "stderr",
          "output_type": "stream",
          "text": [
            "/usr/local/lib/python3.10/dist-packages/keras/src/layers/rnn/rnn.py:204: UserWarning: Do not pass an `input_shape`/`input_dim` argument to a layer. When using Sequential models, prefer using an `Input(shape)` object as the first layer in the model instead.\n",
            "  super().__init__(**kwargs)\n"
          ]
        },
        {
          "name": "stdout",
          "output_type": "stream",
          "text": [
            "\u001b[1m886/886\u001b[0m \u001b[32m━━━━━━━━━━━━━━━━━━━━\u001b[0m\u001b[37m\u001b[0m \u001b[1m45s\u001b[0m 34ms/step - accuracy: 0.6474 - loss: 0.6842 - val_accuracy: 0.7012 - val_loss: 0.5963\n",
            "Epoch 2/30\n",
            "\u001b[1m886/886\u001b[0m \u001b[32m━━━━━━━━━━━━━━━━━━━━\u001b[0m\u001b[37m\u001b[0m \u001b[1m28s\u001b[0m 32ms/step - accuracy: 0.7010 - loss: 0.5958 - val_accuracy: 0.7110 - val_loss: 0.5793\n",
            "Epoch 3/30\n",
            "\u001b[1m886/886\u001b[0m \u001b[32m━━━━━━━━━━━━━━━━━━━━\u001b[0m\u001b[37m\u001b[0m \u001b[1m27s\u001b[0m 31ms/step - accuracy: 0.7109 - loss: 0.5796 - val_accuracy: 0.7167 - val_loss: 0.5689\n",
            "Epoch 4/30\n",
            "\u001b[1m886/886\u001b[0m \u001b[32m━━━━━━━━━━━━━━━━━━━━\u001b[0m\u001b[37m\u001b[0m \u001b[1m27s\u001b[0m 31ms/step - accuracy: 0.7120 - loss: 0.5745 - val_accuracy: 0.7225 - val_loss: 0.5606\n",
            "Epoch 5/30\n",
            "\u001b[1m886/886\u001b[0m \u001b[32m━━━━━━━━━━━━━━━━━━━━\u001b[0m\u001b[37m\u001b[0m \u001b[1m26s\u001b[0m 30ms/step - accuracy: 0.7186 - loss: 0.5652 - val_accuracy: 0.7252 - val_loss: 0.5599\n",
            "Epoch 6/30\n",
            "\u001b[1m886/886\u001b[0m \u001b[32m━━━━━━━━━━━━━━━━━━━━\u001b[0m\u001b[37m\u001b[0m \u001b[1m26s\u001b[0m 29ms/step - accuracy: 0.7155 - loss: 0.5680 - val_accuracy: 0.7238 - val_loss: 0.5567\n",
            "Epoch 7/30\n",
            "\u001b[1m886/886\u001b[0m \u001b[32m━━━━━━━━━━━━━━━━━━━━\u001b[0m\u001b[37m\u001b[0m \u001b[1m41s\u001b[0m 30ms/step - accuracy: 0.7212 - loss: 0.5609 - val_accuracy: 0.7238 - val_loss: 0.5560\n",
            "Epoch 8/30\n",
            "\u001b[1m886/886\u001b[0m \u001b[32m━━━━━━━━━━━━━━━━━━━━\u001b[0m\u001b[37m\u001b[0m \u001b[1m28s\u001b[0m 31ms/step - accuracy: 0.7238 - loss: 0.5596 - val_accuracy: 0.7281 - val_loss: 0.5523\n",
            "Epoch 9/30\n",
            "\u001b[1m886/886\u001b[0m \u001b[32m━━━━━━━━━━━━━━━━━━━━\u001b[0m\u001b[37m\u001b[0m \u001b[1m41s\u001b[0m 31ms/step - accuracy: 0.7270 - loss: 0.5573 - val_accuracy: 0.7292 - val_loss: 0.5502\n",
            "Epoch 10/30\n",
            "\u001b[1m886/886\u001b[0m \u001b[32m━━━━━━━━━━━━━━━━━━━━\u001b[0m\u001b[37m\u001b[0m \u001b[1m27s\u001b[0m 31ms/step - accuracy: 0.7250 - loss: 0.5591 - val_accuracy: 0.7266 - val_loss: 0.5521\n",
            "Epoch 11/30\n",
            "\u001b[1m886/886\u001b[0m \u001b[32m━━━━━━━━━━━━━━━━━━━━\u001b[0m\u001b[37m\u001b[0m \u001b[1m28s\u001b[0m 32ms/step - accuracy: 0.7298 - loss: 0.5506 - val_accuracy: 0.7262 - val_loss: 0.5495\n",
            "Epoch 12/30\n",
            "\u001b[1m886/886\u001b[0m \u001b[32m━━━━━━━━━━━━━━━━━━━━\u001b[0m\u001b[37m\u001b[0m \u001b[1m40s\u001b[0m 31ms/step - accuracy: 0.7288 - loss: 0.5527 - val_accuracy: 0.7280 - val_loss: 0.5469\n",
            "Epoch 13/30\n",
            "\u001b[1m886/886\u001b[0m \u001b[32m━━━━━━━━━━━━━━━━━━━━\u001b[0m\u001b[37m\u001b[0m \u001b[1m41s\u001b[0m 31ms/step - accuracy: 0.7285 - loss: 0.5506 - val_accuracy: 0.7286 - val_loss: 0.5458\n",
            "Epoch 14/30\n",
            "\u001b[1m886/886\u001b[0m \u001b[32m━━━━━━━━━━━━━━━━━━━━\u001b[0m\u001b[37m\u001b[0m \u001b[1m41s\u001b[0m 31ms/step - accuracy: 0.7313 - loss: 0.5488 - val_accuracy: 0.7271 - val_loss: 0.5476\n",
            "Epoch 15/30\n",
            "\u001b[1m886/886\u001b[0m \u001b[32m━━━━━━━━━━━━━━━━━━━━\u001b[0m\u001b[37m\u001b[0m \u001b[1m41s\u001b[0m 31ms/step - accuracy: 0.7336 - loss: 0.5482 - val_accuracy: 0.7269 - val_loss: 0.5465\n",
            "Epoch 16/30\n",
            "\u001b[1m886/886\u001b[0m \u001b[32m━━━━━━━━━━━━━━━━━━━━\u001b[0m\u001b[37m\u001b[0m \u001b[1m42s\u001b[0m 32ms/step - accuracy: 0.7312 - loss: 0.5506 - val_accuracy: 0.7316 - val_loss: 0.5447\n",
            "Epoch 17/30\n",
            "\u001b[1m886/886\u001b[0m \u001b[32m━━━━━━━━━━━━━━━━━━━━\u001b[0m\u001b[37m\u001b[0m \u001b[1m40s\u001b[0m 31ms/step - accuracy: 0.7336 - loss: 0.5468 - val_accuracy: 0.7297 - val_loss: 0.5443\n",
            "Epoch 18/30\n",
            "\u001b[1m886/886\u001b[0m \u001b[32m━━━━━━━━━━━━━━━━━━━━\u001b[0m\u001b[37m\u001b[0m \u001b[1m27s\u001b[0m 31ms/step - accuracy: 0.7350 - loss: 0.5431 - val_accuracy: 0.7289 - val_loss: 0.5444\n",
            "Epoch 19/30\n",
            "\u001b[1m886/886\u001b[0m \u001b[32m━━━━━━━━━━━━━━━━━━━━\u001b[0m\u001b[37m\u001b[0m \u001b[1m41s\u001b[0m 31ms/step - accuracy: 0.7354 - loss: 0.5443 - val_accuracy: 0.7324 - val_loss: 0.5442\n",
            "Epoch 20/30\n",
            "\u001b[1m886/886\u001b[0m \u001b[32m━━━━━━━━━━━━━━━━━━━━\u001b[0m\u001b[37m\u001b[0m \u001b[1m41s\u001b[0m 31ms/step - accuracy: 0.7342 - loss: 0.5462 - val_accuracy: 0.7324 - val_loss: 0.5417\n",
            "Epoch 21/30\n",
            "\u001b[1m886/886\u001b[0m \u001b[32m━━━━━━━━━━━━━━━━━━━━\u001b[0m\u001b[37m\u001b[0m \u001b[1m40s\u001b[0m 30ms/step - accuracy: 0.7337 - loss: 0.5433 - val_accuracy: 0.7303 - val_loss: 0.5455\n",
            "Epoch 22/30\n",
            "\u001b[1m886/886\u001b[0m \u001b[32m━━━━━━━━━━━━━━━━━━━━\u001b[0m\u001b[37m\u001b[0m \u001b[1m41s\u001b[0m 31ms/step - accuracy: 0.7366 - loss: 0.5404 - val_accuracy: 0.7317 - val_loss: 0.5417\n",
            "Epoch 23/30\n",
            "\u001b[1m886/886\u001b[0m \u001b[32m━━━━━━━━━━━━━━━━━━━━\u001b[0m\u001b[37m\u001b[0m \u001b[1m43s\u001b[0m 33ms/step - accuracy: 0.7386 - loss: 0.5416 - val_accuracy: 0.7294 - val_loss: 0.5428\n",
            "Epoch 24/30\n",
            "\u001b[1m886/886\u001b[0m \u001b[32m━━━━━━━━━━━━━━━━━━━━\u001b[0m\u001b[37m\u001b[0m \u001b[1m38s\u001b[0m 30ms/step - accuracy: 0.7371 - loss: 0.5447 - val_accuracy: 0.7317 - val_loss: 0.5424\n",
            "Epoch 25/30\n",
            "\u001b[1m886/886\u001b[0m \u001b[32m━━━━━━━━━━━━━━━━━━━━\u001b[0m\u001b[37m\u001b[0m \u001b[1m41s\u001b[0m 31ms/step - accuracy: 0.7402 - loss: 0.5391 - val_accuracy: 0.7324 - val_loss: 0.5408\n",
            "Epoch 26/30\n",
            "\u001b[1m886/886\u001b[0m \u001b[32m━━━━━━━━━━━━━━━━━━━━\u001b[0m\u001b[37m\u001b[0m \u001b[1m41s\u001b[0m 31ms/step - accuracy: 0.7362 - loss: 0.5398 - val_accuracy: 0.7308 - val_loss: 0.5424\n",
            "Epoch 27/30\n",
            "\u001b[1m886/886\u001b[0m \u001b[32m━━━━━━━━━━━━━━━━━━━━\u001b[0m\u001b[37m\u001b[0m \u001b[1m41s\u001b[0m 31ms/step - accuracy: 0.7386 - loss: 0.5396 - val_accuracy: 0.7315 - val_loss: 0.5388\n",
            "Epoch 28/30\n",
            "\u001b[1m886/886\u001b[0m \u001b[32m━━━━━━━━━━━━━━━━━━━━\u001b[0m\u001b[37m\u001b[0m \u001b[1m27s\u001b[0m 31ms/step - accuracy: 0.7391 - loss: 0.5405 - val_accuracy: 0.7330 - val_loss: 0.5394\n",
            "Epoch 29/30\n",
            "\u001b[1m886/886\u001b[0m \u001b[32m━━━━━━━━━━━━━━━━━━━━\u001b[0m\u001b[37m\u001b[0m \u001b[1m40s\u001b[0m 30ms/step - accuracy: 0.7385 - loss: 0.5389 - val_accuracy: 0.7344 - val_loss: 0.5398\n",
            "Epoch 30/30\n",
            "\u001b[1m886/886\u001b[0m \u001b[32m━━━━━━━━━━━━━━━━━━━━\u001b[0m\u001b[37m\u001b[0m \u001b[1m44s\u001b[0m 34ms/step - accuracy: 0.7371 - loss: 0.5428 - val_accuracy: 0.7327 - val_loss: 0.5388\n",
            "\u001b[1m443/443\u001b[0m \u001b[32m━━━━━━━━━━━━━━━━━━━━\u001b[0m\u001b[37m\u001b[0m \u001b[1m4s\u001b[0m 6ms/step\n",
            "Sensitivity: 0.7384134205288598, Specificity: 0.7270944242084617, MCC: 0.46550984738545514\n"
          ]
        }
      ],
      "source": [
        "#105m to execute\n",
        "for activation in activation_functions:\n",
        "    for dropout_rate in dropout_rates:\n",
        "        run_model(100, activation, dropout_rate)"
      ]
    },
    {
      "cell_type": "code",
      "execution_count": null,
      "metadata": {
        "colab": {
          "base_uri": "https://localhost:8080/"
        },
        "collapsed": true,
        "id": "WUUYvYvpnrz_",
        "outputId": "06cb3a84-d35c-49d0-b0d0-6a001fb69380"
      },
      "outputs": [
        {
          "name": "stdout",
          "output_type": "stream",
          "text": [
            "Training with 150 LSTM units, tanh activation, and 0.2 dropout...\n",
            "Epoch 1/30\n"
          ]
        },
        {
          "name": "stderr",
          "output_type": "stream",
          "text": [
            "/usr/local/lib/python3.10/dist-packages/keras/src/layers/rnn/rnn.py:204: UserWarning: Do not pass an `input_shape`/`input_dim` argument to a layer. When using Sequential models, prefer using an `Input(shape)` object as the first layer in the model instead.\n",
            "  super().__init__(**kwargs)\n"
          ]
        },
        {
          "name": "stdout",
          "output_type": "stream",
          "text": [
            "\u001b[1m886/886\u001b[0m \u001b[32m━━━━━━━━━━━━━━━━━━━━\u001b[0m\u001b[37m\u001b[0m \u001b[1m55s\u001b[0m 49ms/step - accuracy: 0.6730 - loss: 0.6806 - val_accuracy: 0.7010 - val_loss: 0.5934\n",
            "Epoch 2/30\n",
            "\u001b[1m886/886\u001b[0m \u001b[32m━━━━━━━━━━━━━━━━━━━━\u001b[0m\u001b[37m\u001b[0m \u001b[1m82s\u001b[0m 49ms/step - accuracy: 0.7052 - loss: 0.5920 - val_accuracy: 0.7055 - val_loss: 0.5808\n",
            "Epoch 3/30\n",
            "\u001b[1m886/886\u001b[0m \u001b[32m━━━━━━━━━━━━━━━━━━━━\u001b[0m\u001b[37m\u001b[0m \u001b[1m81s\u001b[0m 48ms/step - accuracy: 0.7097 - loss: 0.5794 - val_accuracy: 0.7125 - val_loss: 0.5779\n",
            "Epoch 4/30\n",
            "\u001b[1m886/886\u001b[0m \u001b[32m━━━━━━━━━━━━━━━━━━━━\u001b[0m\u001b[37m\u001b[0m \u001b[1m81s\u001b[0m 47ms/step - accuracy: 0.7127 - loss: 0.5736 - val_accuracy: 0.7210 - val_loss: 0.5658\n",
            "Epoch 5/30\n",
            "\u001b[1m886/886\u001b[0m \u001b[32m━━━━━━━━━━━━━━━━━━━━\u001b[0m\u001b[37m\u001b[0m \u001b[1m82s\u001b[0m 48ms/step - accuracy: 0.7150 - loss: 0.5726 - val_accuracy: 0.7189 - val_loss: 0.5629\n",
            "Epoch 6/30\n",
            "\u001b[1m886/886\u001b[0m \u001b[32m━━━━━━━━━━━━━━━━━━━━\u001b[0m\u001b[37m\u001b[0m \u001b[1m84s\u001b[0m 50ms/step - accuracy: 0.7168 - loss: 0.5640 - val_accuracy: 0.7201 - val_loss: 0.5597\n",
            "Epoch 7/30\n",
            "\u001b[1m886/886\u001b[0m \u001b[32m━━━━━━━━━━━━━━━━━━━━\u001b[0m\u001b[37m\u001b[0m \u001b[1m80s\u001b[0m 47ms/step - accuracy: 0.7212 - loss: 0.5615 - val_accuracy: 0.7230 - val_loss: 0.5554\n",
            "Epoch 8/30\n",
            "\u001b[1m886/886\u001b[0m \u001b[32m━━━━━━━━━━━━━━━━━━━━\u001b[0m\u001b[37m\u001b[0m \u001b[1m82s\u001b[0m 47ms/step - accuracy: 0.7179 - loss: 0.5628 - val_accuracy: 0.7231 - val_loss: 0.5547\n",
            "Epoch 9/30\n",
            "\u001b[1m886/886\u001b[0m \u001b[32m━━━━━━━━━━━━━━━━━━━━\u001b[0m\u001b[37m\u001b[0m \u001b[1m82s\u001b[0m 48ms/step - accuracy: 0.7234 - loss: 0.5573 - val_accuracy: 0.7244 - val_loss: 0.5519\n",
            "Epoch 10/30\n",
            "\u001b[1m886/886\u001b[0m \u001b[32m━━━━━━━━━━━━━━━━━━━━\u001b[0m\u001b[37m\u001b[0m \u001b[1m83s\u001b[0m 49ms/step - accuracy: 0.7262 - loss: 0.5543 - val_accuracy: 0.7276 - val_loss: 0.5504\n",
            "Epoch 11/30\n",
            "\u001b[1m886/886\u001b[0m \u001b[32m━━━━━━━━━━━━━━━━━━━━\u001b[0m\u001b[37m\u001b[0m \u001b[1m43s\u001b[0m 49ms/step - accuracy: 0.7254 - loss: 0.5525 - val_accuracy: 0.7266 - val_loss: 0.5521\n",
            "Epoch 12/30\n",
            "\u001b[1m886/886\u001b[0m \u001b[32m━━━━━━━━━━━━━━━━━━━━\u001b[0m\u001b[37m\u001b[0m \u001b[1m42s\u001b[0m 48ms/step - accuracy: 0.7225 - loss: 0.5557 - val_accuracy: 0.7267 - val_loss: 0.5496\n",
            "Epoch 13/30\n",
            "\u001b[1m886/886\u001b[0m \u001b[32m━━━━━━━━━━━━━━━━━━━━\u001b[0m\u001b[37m\u001b[0m \u001b[1m81s\u001b[0m 47ms/step - accuracy: 0.7305 - loss: 0.5487 - val_accuracy: 0.7291 - val_loss: 0.5472\n",
            "Epoch 14/30\n",
            "\u001b[1m886/886\u001b[0m \u001b[32m━━━━━━━━━━━━━━━━━━━━\u001b[0m\u001b[37m\u001b[0m \u001b[1m84s\u001b[0m 50ms/step - accuracy: 0.7290 - loss: 0.5510 - val_accuracy: 0.7292 - val_loss: 0.5496\n",
            "Epoch 15/30\n",
            "\u001b[1m886/886\u001b[0m \u001b[32m━━━━━━━━━━━━━━━━━━━━\u001b[0m\u001b[37m\u001b[0m \u001b[1m78s\u001b[0m 46ms/step - accuracy: 0.7269 - loss: 0.5508 - val_accuracy: 0.7287 - val_loss: 0.5472\n",
            "Epoch 16/30\n",
            "\u001b[1m886/886\u001b[0m \u001b[32m━━━━━━━━━━━━━━━━━━━━\u001b[0m\u001b[37m\u001b[0m \u001b[1m42s\u001b[0m 48ms/step - accuracy: 0.7280 - loss: 0.5519 - val_accuracy: 0.7297 - val_loss: 0.5489\n",
            "Epoch 17/30\n",
            "\u001b[1m886/886\u001b[0m \u001b[32m━━━━━━━━━━━━━━━━━━━━\u001b[0m\u001b[37m\u001b[0m \u001b[1m42s\u001b[0m 48ms/step - accuracy: 0.7319 - loss: 0.5464 - val_accuracy: 0.7305 - val_loss: 0.5482\n",
            "Epoch 18/30\n",
            "\u001b[1m886/886\u001b[0m \u001b[32m━━━━━━━━━━━━━━━━━━━━\u001b[0m\u001b[37m\u001b[0m \u001b[1m82s\u001b[0m 47ms/step - accuracy: 0.7317 - loss: 0.5480 - val_accuracy: 0.7296 - val_loss: 0.5486\n",
            "Epoch 19/30\n",
            "\u001b[1m886/886\u001b[0m \u001b[32m━━━━━━━━━━━━━━━━━━━━\u001b[0m\u001b[37m\u001b[0m \u001b[1m81s\u001b[0m 46ms/step - accuracy: 0.7345 - loss: 0.5450 - val_accuracy: 0.7336 - val_loss: 0.5430\n",
            "Epoch 20/30\n",
            "\u001b[1m886/886\u001b[0m \u001b[32m━━━━━━━━━━━━━━━━━━━━\u001b[0m\u001b[37m\u001b[0m \u001b[1m42s\u001b[0m 48ms/step - accuracy: 0.7356 - loss: 0.5446 - val_accuracy: 0.7327 - val_loss: 0.5454\n",
            "Epoch 21/30\n",
            "\u001b[1m886/886\u001b[0m \u001b[32m━━━━━━━━━━━━━━━━━━━━\u001b[0m\u001b[37m\u001b[0m \u001b[1m82s\u001b[0m 48ms/step - accuracy: 0.7333 - loss: 0.5425 - val_accuracy: 0.7346 - val_loss: 0.5455\n",
            "Epoch 22/30\n",
            "\u001b[1m886/886\u001b[0m \u001b[32m━━━━━━━━━━━━━━━━━━━━\u001b[0m\u001b[37m\u001b[0m \u001b[1m81s\u001b[0m 47ms/step - accuracy: 0.7369 - loss: 0.5404 - val_accuracy: 0.7293 - val_loss: 0.5463\n",
            "Epoch 23/30\n",
            "\u001b[1m886/886\u001b[0m \u001b[32m━━━━━━━━━━━━━━━━━━━━\u001b[0m\u001b[37m\u001b[0m \u001b[1m45s\u001b[0m 50ms/step - accuracy: 0.7373 - loss: 0.5433 - val_accuracy: 0.7332 - val_loss: 0.5455\n",
            "Epoch 24/30\n",
            "\u001b[1m886/886\u001b[0m \u001b[32m━━━━━━━━━━━━━━━━━━━━\u001b[0m\u001b[37m\u001b[0m \u001b[1m81s\u001b[0m 49ms/step - accuracy: 0.7330 - loss: 0.5417 - val_accuracy: 0.7334 - val_loss: 0.5445\n",
            "Epoch 25/30\n",
            "\u001b[1m886/886\u001b[0m \u001b[32m━━━━━━━━━━━━━━━━━━━━\u001b[0m\u001b[37m\u001b[0m \u001b[1m81s\u001b[0m 48ms/step - accuracy: 0.7362 - loss: 0.5408 - val_accuracy: 0.7336 - val_loss: 0.5442\n",
            "Epoch 26/30\n",
            "\u001b[1m886/886\u001b[0m \u001b[32m━━━━━━━━━━━━━━━━━━━━\u001b[0m\u001b[37m\u001b[0m \u001b[1m82s\u001b[0m 48ms/step - accuracy: 0.7384 - loss: 0.5386 - val_accuracy: 0.7355 - val_loss: 0.5429\n",
            "Epoch 27/30\n",
            "\u001b[1m886/886\u001b[0m \u001b[32m━━━━━━━━━━━━━━━━━━━━\u001b[0m\u001b[37m\u001b[0m \u001b[1m45s\u001b[0m 50ms/step - accuracy: 0.7369 - loss: 0.5426 - val_accuracy: 0.7351 - val_loss: 0.5420\n",
            "Epoch 28/30\n",
            "\u001b[1m886/886\u001b[0m \u001b[32m━━━━━━━━━━━━━━━━━━━━\u001b[0m\u001b[37m\u001b[0m \u001b[1m42s\u001b[0m 47ms/step - accuracy: 0.7387 - loss: 0.5399 - val_accuracy: 0.7372 - val_loss: 0.5413\n",
            "Epoch 29/30\n",
            "\u001b[1m886/886\u001b[0m \u001b[32m━━━━━━━━━━━━━━━━━━━━\u001b[0m\u001b[37m\u001b[0m \u001b[1m41s\u001b[0m 47ms/step - accuracy: 0.7395 - loss: 0.5398 - val_accuracy: 0.7360 - val_loss: 0.5418\n",
            "Epoch 30/30\n",
            "\u001b[1m886/886\u001b[0m \u001b[32m━━━━━━━━━━━━━━━━━━━━\u001b[0m\u001b[37m\u001b[0m \u001b[1m83s\u001b[0m 48ms/step - accuracy: 0.7365 - loss: 0.5394 - val_accuracy: 0.7392 - val_loss: 0.5406\n",
            "\u001b[1m443/443\u001b[0m \u001b[32m━━━━━━━━━━━━━━━━━━━━\u001b[0m\u001b[37m\u001b[0m \u001b[1m5s\u001b[0m 9ms/step\n",
            "Sensitivity: 0.7423940858686381, Specificity: 0.736060521154385, MCC: 0.4784436296261528\n",
            "Training with 150 LSTM units, tanh activation, and 0.25 dropout...\n",
            "Epoch 1/30\n"
          ]
        },
        {
          "name": "stderr",
          "output_type": "stream",
          "text": [
            "/usr/local/lib/python3.10/dist-packages/keras/src/layers/rnn/rnn.py:204: UserWarning: Do not pass an `input_shape`/`input_dim` argument to a layer. When using Sequential models, prefer using an `Input(shape)` object as the first layer in the model instead.\n",
            "  super().__init__(**kwargs)\n"
          ]
        },
        {
          "name": "stdout",
          "output_type": "stream",
          "text": [
            "\u001b[1m886/886\u001b[0m \u001b[32m━━━━━━━━━━━━━━━━━━━━\u001b[0m\u001b[37m\u001b[0m \u001b[1m59s\u001b[0m 52ms/step - accuracy: 0.6677 - loss: 0.6849 - val_accuracy: 0.7031 - val_loss: 0.5921\n",
            "Epoch 2/30\n",
            "\u001b[1m886/886\u001b[0m \u001b[32m━━━━━━━━━━━━━━━━━━━━\u001b[0m\u001b[37m\u001b[0m \u001b[1m42s\u001b[0m 47ms/step - accuracy: 0.7021 - loss: 0.5926 - val_accuracy: 0.7084 - val_loss: 0.5780\n",
            "Epoch 3/30\n",
            "\u001b[1m886/886\u001b[0m \u001b[32m━━━━━━━━━━━━━━━━━━━━\u001b[0m\u001b[37m\u001b[0m \u001b[1m82s\u001b[0m 48ms/step - accuracy: 0.7096 - loss: 0.5782 - val_accuracy: 0.7189 - val_loss: 0.5680\n",
            "Epoch 4/30\n",
            "\u001b[1m886/886\u001b[0m \u001b[32m━━━━━━━━━━━━━━━━━━━━\u001b[0m\u001b[37m\u001b[0m \u001b[1m82s\u001b[0m 48ms/step - accuracy: 0.7087 - loss: 0.5770 - val_accuracy: 0.7177 - val_loss: 0.5683\n",
            "Epoch 5/30\n",
            "\u001b[1m886/886\u001b[0m \u001b[32m━━━━━━━━━━━━━━━━━━━━\u001b[0m\u001b[37m\u001b[0m \u001b[1m42s\u001b[0m 47ms/step - accuracy: 0.7154 - loss: 0.5695 - val_accuracy: 0.7182 - val_loss: 0.5639\n",
            "Epoch 6/30\n",
            "\u001b[1m886/886\u001b[0m \u001b[32m━━━━━━━━━━━━━━━━━━━━\u001b[0m\u001b[37m\u001b[0m \u001b[1m83s\u001b[0m 48ms/step - accuracy: 0.7122 - loss: 0.5691 - val_accuracy: 0.7226 - val_loss: 0.5603\n",
            "Epoch 7/30\n",
            "\u001b[1m886/886\u001b[0m \u001b[32m━━━━━━━━━━━━━━━━━━━━\u001b[0m\u001b[37m\u001b[0m \u001b[1m81s\u001b[0m 48ms/step - accuracy: 0.7194 - loss: 0.5621 - val_accuracy: 0.7204 - val_loss: 0.5607\n",
            "Epoch 8/30\n",
            "\u001b[1m886/886\u001b[0m \u001b[32m━━━━━━━━━━━━━━━━━━━━\u001b[0m\u001b[37m\u001b[0m \u001b[1m82s\u001b[0m 48ms/step - accuracy: 0.7188 - loss: 0.5623 - val_accuracy: 0.7254 - val_loss: 0.5541\n",
            "Epoch 9/30\n",
            "\u001b[1m886/886\u001b[0m \u001b[32m━━━━━━━━━━━━━━━━━━━━\u001b[0m\u001b[37m\u001b[0m \u001b[1m85s\u001b[0m 51ms/step - accuracy: 0.7200 - loss: 0.5616 - val_accuracy: 0.7269 - val_loss: 0.5538\n",
            "Epoch 10/30\n",
            "\u001b[1m886/886\u001b[0m \u001b[32m━━━━━━━━━━━━━━━━━━━━\u001b[0m\u001b[37m\u001b[0m \u001b[1m43s\u001b[0m 49ms/step - accuracy: 0.7230 - loss: 0.5594 - val_accuracy: 0.7250 - val_loss: 0.5539\n",
            "Epoch 11/30\n",
            "\u001b[1m886/886\u001b[0m \u001b[32m━━━━━━━━━━━━━━━━━━━━\u001b[0m\u001b[37m\u001b[0m \u001b[1m82s\u001b[0m 48ms/step - accuracy: 0.7196 - loss: 0.5586 - val_accuracy: 0.7250 - val_loss: 0.5530\n",
            "Epoch 12/30\n",
            "\u001b[1m886/886\u001b[0m \u001b[32m━━━━━━━━━━━━━━━━━━━━\u001b[0m\u001b[37m\u001b[0m \u001b[1m43s\u001b[0m 48ms/step - accuracy: 0.7273 - loss: 0.5539 - val_accuracy: 0.7267 - val_loss: 0.5530\n",
            "Epoch 13/30\n",
            "\u001b[1m886/886\u001b[0m \u001b[32m━━━━━━━━━━━━━━━━━━━━\u001b[0m\u001b[37m\u001b[0m \u001b[1m44s\u001b[0m 50ms/step - accuracy: 0.7243 - loss: 0.5562 - val_accuracy: 0.7302 - val_loss: 0.5502\n",
            "Epoch 14/30\n",
            "\u001b[1m886/886\u001b[0m \u001b[32m━━━━━━━━━━━━━━━━━━━━\u001b[0m\u001b[37m\u001b[0m \u001b[1m81s\u001b[0m 49ms/step - accuracy: 0.7286 - loss: 0.5513 - val_accuracy: 0.7288 - val_loss: 0.5505\n",
            "Epoch 15/30\n",
            "\u001b[1m886/886\u001b[0m \u001b[32m━━━━━━━━━━━━━━━━━━━━\u001b[0m\u001b[37m\u001b[0m \u001b[1m81s\u001b[0m 48ms/step - accuracy: 0.7294 - loss: 0.5514 - val_accuracy: 0.7260 - val_loss: 0.5519\n",
            "Epoch 16/30\n",
            "\u001b[1m886/886\u001b[0m \u001b[32m━━━━━━━━━━━━━━━━━━━━\u001b[0m\u001b[37m\u001b[0m \u001b[1m83s\u001b[0m 49ms/step - accuracy: 0.7311 - loss: 0.5499 - val_accuracy: 0.7309 - val_loss: 0.5496\n",
            "Epoch 17/30\n",
            "\u001b[1m886/886\u001b[0m \u001b[32m━━━━━━━━━━━━━━━━━━━━\u001b[0m\u001b[37m\u001b[0m \u001b[1m43s\u001b[0m 48ms/step - accuracy: 0.7247 - loss: 0.5528 - val_accuracy: 0.7257 - val_loss: 0.5511\n",
            "Epoch 18/30\n",
            "\u001b[1m886/886\u001b[0m \u001b[32m━━━━━━━━━━━━━━━━━━━━\u001b[0m\u001b[37m\u001b[0m \u001b[1m46s\u001b[0m 51ms/step - accuracy: 0.7300 - loss: 0.5508 - val_accuracy: 0.7300 - val_loss: 0.5536\n",
            "Epoch 19/30\n",
            "\u001b[1m886/886\u001b[0m \u001b[32m━━━━━━━━━━━━━━━━━━━━\u001b[0m\u001b[37m\u001b[0m \u001b[1m80s\u001b[0m 49ms/step - accuracy: 0.7293 - loss: 0.5505 - val_accuracy: 0.7326 - val_loss: 0.5454\n",
            "Epoch 20/30\n",
            "\u001b[1m886/886\u001b[0m \u001b[32m━━━━━━━━━━━━━━━━━━━━\u001b[0m\u001b[37m\u001b[0m \u001b[1m83s\u001b[0m 50ms/step - accuracy: 0.7325 - loss: 0.5441 - val_accuracy: 0.7321 - val_loss: 0.5448\n",
            "Epoch 21/30\n",
            "\u001b[1m886/886\u001b[0m \u001b[32m━━━━━━━━━━━━━━━━━━━━\u001b[0m\u001b[37m\u001b[0m \u001b[1m44s\u001b[0m 49ms/step - accuracy: 0.7339 - loss: 0.5472 - val_accuracy: 0.7311 - val_loss: 0.5474\n",
            "Epoch 22/30\n",
            "\u001b[1m886/886\u001b[0m \u001b[32m━━━━━━━━━━━━━━━━━━━━\u001b[0m\u001b[37m\u001b[0m \u001b[1m44s\u001b[0m 50ms/step - accuracy: 0.7335 - loss: 0.5470 - val_accuracy: 0.7337 - val_loss: 0.5438\n",
            "Epoch 23/30\n",
            "\u001b[1m886/886\u001b[0m \u001b[32m━━━━━━━━━━━━━━━━━━━━\u001b[0m\u001b[37m\u001b[0m \u001b[1m81s\u001b[0m 49ms/step - accuracy: 0.7327 - loss: 0.5469 - val_accuracy: 0.7316 - val_loss: 0.5466\n",
            "Epoch 24/30\n",
            "\u001b[1m886/886\u001b[0m \u001b[32m━━━━━━━━━━━━━━━━━━━━\u001b[0m\u001b[37m\u001b[0m \u001b[1m82s\u001b[0m 50ms/step - accuracy: 0.7307 - loss: 0.5471 - val_accuracy: 0.7300 - val_loss: 0.5478\n",
            "Epoch 25/30\n",
            "\u001b[1m886/886\u001b[0m \u001b[32m━━━━━━━━━━━━━━━━━━━━\u001b[0m\u001b[37m\u001b[0m \u001b[1m81s\u001b[0m 49ms/step - accuracy: 0.7371 - loss: 0.5431 - val_accuracy: 0.7273 - val_loss: 0.5489\n",
            "Epoch 26/30\n",
            "\u001b[1m886/886\u001b[0m \u001b[32m━━━━━━━━━━━━━━━━━━━━\u001b[0m\u001b[37m\u001b[0m \u001b[1m84s\u001b[0m 51ms/step - accuracy: 0.7349 - loss: 0.5442 - val_accuracy: 0.7315 - val_loss: 0.5454\n",
            "Epoch 27/30\n",
            "\u001b[1m886/886\u001b[0m \u001b[32m━━━━━━━━━━━━━━━━━━━━\u001b[0m\u001b[37m\u001b[0m \u001b[1m43s\u001b[0m 48ms/step - accuracy: 0.7377 - loss: 0.5400 - val_accuracy: 0.7328 - val_loss: 0.5446\n",
            "Epoch 28/30\n",
            "\u001b[1m886/886\u001b[0m \u001b[32m━━━━━━━━━━━━━━━━━━━━\u001b[0m\u001b[37m\u001b[0m \u001b[1m43s\u001b[0m 48ms/step - accuracy: 0.7336 - loss: 0.5440 - val_accuracy: 0.7326 - val_loss: 0.5449\n",
            "Epoch 29/30\n",
            "\u001b[1m886/886\u001b[0m \u001b[32m━━━━━━━━━━━━━━━━━━━━\u001b[0m\u001b[37m\u001b[0m \u001b[1m42s\u001b[0m 47ms/step - accuracy: 0.7371 - loss: 0.5436 - val_accuracy: 0.7332 - val_loss: 0.5463\n",
            "Epoch 30/30\n",
            "\u001b[1m886/886\u001b[0m \u001b[32m━━━━━━━━━━━━━━━━━━━━\u001b[0m\u001b[37m\u001b[0m \u001b[1m81s\u001b[0m 47ms/step - accuracy: 0.7360 - loss: 0.5416 - val_accuracy: 0.7335 - val_loss: 0.5446\n",
            "\u001b[1m443/443\u001b[0m \u001b[32m━━━━━━━━━━━━━━━━━━━━\u001b[0m\u001b[37m\u001b[0m \u001b[1m5s\u001b[0m 9ms/step\n",
            "Sensitivity: 0.7519192493602502, Specificity: 0.7157467077612777, MCC: 0.467904216216052\n",
            "Training with 150 LSTM units, tanh activation, and 0.3 dropout...\n",
            "Epoch 1/30\n"
          ]
        },
        {
          "name": "stderr",
          "output_type": "stream",
          "text": [
            "/usr/local/lib/python3.10/dist-packages/keras/src/layers/rnn/rnn.py:204: UserWarning: Do not pass an `input_shape`/`input_dim` argument to a layer. When using Sequential models, prefer using an `Input(shape)` object as the first layer in the model instead.\n",
            "  super().__init__(**kwargs)\n"
          ]
        },
        {
          "name": "stdout",
          "output_type": "stream",
          "text": [
            "\u001b[1m886/886\u001b[0m \u001b[32m━━━━━━━━━━━━━━━━━━━━\u001b[0m\u001b[37m\u001b[0m \u001b[1m56s\u001b[0m 49ms/step - accuracy: 0.6698 - loss: 0.6844 - val_accuracy: 0.6948 - val_loss: 0.5992\n",
            "Epoch 2/30\n",
            "\u001b[1m886/886\u001b[0m \u001b[32m━━━━━━━━━━━━━━━━━━━━\u001b[0m\u001b[37m\u001b[0m \u001b[1m43s\u001b[0m 49ms/step - accuracy: 0.7033 - loss: 0.5944 - val_accuracy: 0.7029 - val_loss: 0.5831\n",
            "Epoch 3/30\n",
            "\u001b[1m886/886\u001b[0m \u001b[32m━━━━━━━━━━━━━━━━━━━━\u001b[0m\u001b[37m\u001b[0m \u001b[1m81s\u001b[0m 48ms/step - accuracy: 0.7060 - loss: 0.5831 - val_accuracy: 0.7143 - val_loss: 0.5724\n",
            "Epoch 4/30\n",
            "\u001b[1m886/886\u001b[0m \u001b[32m━━━━━━━━━━━━━━━━━━━━\u001b[0m\u001b[37m\u001b[0m \u001b[1m83s\u001b[0m 50ms/step - accuracy: 0.7105 - loss: 0.5758 - val_accuracy: 0.7139 - val_loss: 0.5717\n",
            "Epoch 5/30\n",
            "\u001b[1m886/886\u001b[0m \u001b[32m━━━━━━━━━━━━━━━━━━━━\u001b[0m\u001b[37m\u001b[0m \u001b[1m46s\u001b[0m 52ms/step - accuracy: 0.7132 - loss: 0.5731 - val_accuracy: 0.7134 - val_loss: 0.5699\n",
            "Epoch 6/30\n",
            "\u001b[1m886/886\u001b[0m \u001b[32m━━━━━━━━━━━━━━━━━━━━\u001b[0m\u001b[37m\u001b[0m \u001b[1m43s\u001b[0m 49ms/step - accuracy: 0.7140 - loss: 0.5685 - val_accuracy: 0.7170 - val_loss: 0.5658\n",
            "Epoch 7/30\n",
            "\u001b[1m886/886\u001b[0m \u001b[32m━━━━━━━━━━━━━━━━━━━━\u001b[0m\u001b[37m\u001b[0m \u001b[1m44s\u001b[0m 49ms/step - accuracy: 0.7147 - loss: 0.5671 - val_accuracy: 0.7226 - val_loss: 0.5592\n",
            "Epoch 8/30\n",
            "\u001b[1m886/886\u001b[0m \u001b[32m━━━━━━━━━━━━━━━━━━━━\u001b[0m\u001b[37m\u001b[0m \u001b[1m80s\u001b[0m 48ms/step - accuracy: 0.7190 - loss: 0.5646 - val_accuracy: 0.7230 - val_loss: 0.5596\n",
            "Epoch 9/30\n",
            "\u001b[1m886/886\u001b[0m \u001b[32m━━━━━━━━━━━━━━━━━━━━\u001b[0m\u001b[37m\u001b[0m \u001b[1m86s\u001b[0m 53ms/step - accuracy: 0.7138 - loss: 0.5663 - val_accuracy: 0.7231 - val_loss: 0.5583\n",
            "Epoch 10/30\n",
            "\u001b[1m886/886\u001b[0m \u001b[32m━━━━━━━━━━━━━━━━━━━━\u001b[0m\u001b[37m\u001b[0m \u001b[1m77s\u001b[0m 47ms/step - accuracy: 0.7224 - loss: 0.5597 - val_accuracy: 0.7234 - val_loss: 0.5566\n",
            "Epoch 11/30\n",
            "\u001b[1m886/886\u001b[0m \u001b[32m━━━━━━━━━━━━━━━━━━━━\u001b[0m\u001b[37m\u001b[0m \u001b[1m83s\u001b[0m 48ms/step - accuracy: 0.7243 - loss: 0.5589 - val_accuracy: 0.7255 - val_loss: 0.5579\n",
            "Epoch 12/30\n",
            "\u001b[1m886/886\u001b[0m \u001b[32m━━━━━━━━━━━━━━━━━━━━\u001b[0m\u001b[37m\u001b[0m \u001b[1m81s\u001b[0m 48ms/step - accuracy: 0.7182 - loss: 0.5614 - val_accuracy: 0.7277 - val_loss: 0.5541\n",
            "Epoch 13/30\n",
            "\u001b[1m886/886\u001b[0m \u001b[32m━━━━━━━━━━━━━━━━━━━━\u001b[0m\u001b[37m\u001b[0m \u001b[1m82s\u001b[0m 48ms/step - accuracy: 0.7248 - loss: 0.5580 - val_accuracy: 0.7241 - val_loss: 0.5531\n",
            "Epoch 14/30\n",
            "\u001b[1m886/886\u001b[0m \u001b[32m━━━━━━━━━━━━━━━━━━━━\u001b[0m\u001b[37m\u001b[0m \u001b[1m43s\u001b[0m 49ms/step - accuracy: 0.7243 - loss: 0.5543 - val_accuracy: 0.7271 - val_loss: 0.5507\n",
            "Epoch 15/30\n",
            "\u001b[1m886/886\u001b[0m \u001b[32m━━━━━━━━━━━━━━━━━━━━\u001b[0m\u001b[37m\u001b[0m \u001b[1m82s\u001b[0m 49ms/step - accuracy: 0.7285 - loss: 0.5538 - val_accuracy: 0.7302 - val_loss: 0.5492\n",
            "Epoch 16/30\n",
            "\u001b[1m886/886\u001b[0m \u001b[32m━━━━━━━━━━━━━━━━━━━━\u001b[0m\u001b[37m\u001b[0m \u001b[1m82s\u001b[0m 49ms/step - accuracy: 0.7263 - loss: 0.5576 - val_accuracy: 0.7278 - val_loss: 0.5518\n",
            "Epoch 17/30\n",
            "\u001b[1m886/886\u001b[0m \u001b[32m━━━━━━━━━━━━━━━━━━━━\u001b[0m\u001b[37m\u001b[0m \u001b[1m81s\u001b[0m 48ms/step - accuracy: 0.7274 - loss: 0.5553 - val_accuracy: 0.7283 - val_loss: 0.5507\n",
            "Epoch 18/30\n",
            "\u001b[1m886/886\u001b[0m \u001b[32m━━━━━━━━━━━━━━━━━━━━\u001b[0m\u001b[37m\u001b[0m \u001b[1m82s\u001b[0m 48ms/step - accuracy: 0.7300 - loss: 0.5546 - val_accuracy: 0.7294 - val_loss: 0.5485\n",
            "Epoch 19/30\n",
            "\u001b[1m886/886\u001b[0m \u001b[32m━━━━━━━━━━━━━━━━━━━━\u001b[0m\u001b[37m\u001b[0m \u001b[1m42s\u001b[0m 48ms/step - accuracy: 0.7283 - loss: 0.5533 - val_accuracy: 0.7289 - val_loss: 0.5485\n",
            "Epoch 20/30\n",
            "\u001b[1m886/886\u001b[0m \u001b[32m━━━━━━━━━━━━━━━━━━━━\u001b[0m\u001b[37m\u001b[0m \u001b[1m84s\u001b[0m 50ms/step - accuracy: 0.7274 - loss: 0.5505 - val_accuracy: 0.7274 - val_loss: 0.5503\n",
            "Epoch 21/30\n",
            "\u001b[1m886/886\u001b[0m \u001b[32m━━━━━━━━━━━━━━━━━━━━\u001b[0m\u001b[37m\u001b[0m \u001b[1m47s\u001b[0m 53ms/step - accuracy: 0.7278 - loss: 0.5530 - val_accuracy: 0.7305 - val_loss: 0.5474\n",
            "Epoch 22/30\n",
            "\u001b[1m886/886\u001b[0m \u001b[32m━━━━━━━━━━━━━━━━━━━━\u001b[0m\u001b[37m\u001b[0m \u001b[1m79s\u001b[0m 50ms/step - accuracy: 0.7306 - loss: 0.5510 - val_accuracy: 0.7311 - val_loss: 0.5484\n",
            "Epoch 23/30\n",
            "\u001b[1m886/886\u001b[0m \u001b[32m━━━━━━━━━━━━━━━━━━━━\u001b[0m\u001b[37m\u001b[0m \u001b[1m80s\u001b[0m 47ms/step - accuracy: 0.7329 - loss: 0.5470 - val_accuracy: 0.7297 - val_loss: 0.5490\n",
            "Epoch 24/30\n",
            "\u001b[1m886/886\u001b[0m \u001b[32m━━━━━━━━━━━━━━━━━━━━\u001b[0m\u001b[37m\u001b[0m \u001b[1m84s\u001b[0m 50ms/step - accuracy: 0.7303 - loss: 0.5506 - val_accuracy: 0.7286 - val_loss: 0.5456\n",
            "Epoch 25/30\n",
            "\u001b[1m886/886\u001b[0m \u001b[32m━━━━━━━━━━━━━━━━━━━━\u001b[0m\u001b[37m\u001b[0m \u001b[1m80s\u001b[0m 48ms/step - accuracy: 0.7313 - loss: 0.5509 - val_accuracy: 0.7289 - val_loss: 0.5538\n",
            "Epoch 26/30\n",
            "\u001b[1m886/886\u001b[0m \u001b[32m━━━━━━━━━━━━━━━━━━━━\u001b[0m\u001b[37m\u001b[0m \u001b[1m82s\u001b[0m 48ms/step - accuracy: 0.7342 - loss: 0.5469 - val_accuracy: 0.7309 - val_loss: 0.5490\n",
            "Epoch 27/30\n",
            "\u001b[1m886/886\u001b[0m \u001b[32m━━━━━━━━━━━━━━━━━━━━\u001b[0m\u001b[37m\u001b[0m \u001b[1m84s\u001b[0m 51ms/step - accuracy: 0.7285 - loss: 0.5529 - val_accuracy: 0.7293 - val_loss: 0.5485\n",
            "Epoch 28/30\n",
            "\u001b[1m886/886\u001b[0m \u001b[32m━━━━━━━━━━━━━━━━━━━━\u001b[0m\u001b[37m\u001b[0m \u001b[1m80s\u001b[0m 49ms/step - accuracy: 0.7321 - loss: 0.5489 - val_accuracy: 0.7291 - val_loss: 0.5489\n",
            "Epoch 29/30\n",
            "\u001b[1m886/886\u001b[0m \u001b[32m━━━━━━━━━━━━━━━━━━━━\u001b[0m\u001b[37m\u001b[0m \u001b[1m44s\u001b[0m 49ms/step - accuracy: 0.7282 - loss: 0.5517 - val_accuracy: 0.7321 - val_loss: 0.5450\n",
            "Epoch 30/30\n",
            "\u001b[1m886/886\u001b[0m \u001b[32m━━━━━━━━━━━━━━━━━━━━\u001b[0m\u001b[37m\u001b[0m \u001b[1m82s\u001b[0m 49ms/step - accuracy: 0.7346 - loss: 0.5485 - val_accuracy: 0.7276 - val_loss: 0.5500\n",
            "\u001b[1m443/443\u001b[0m \u001b[32m━━━━━━━━━━━━━━━━━━━━\u001b[0m\u001b[37m\u001b[0m \u001b[1m5s\u001b[0m 9ms/step\n",
            "Sensitivity: 0.7352857549047483, Specificity: 0.7290557579153825, MCC: 0.4643308592262585\n",
            "Training with 150 LSTM units, relu activation, and 0.2 dropout...\n",
            "Epoch 1/30\n"
          ]
        },
        {
          "name": "stderr",
          "output_type": "stream",
          "text": [
            "/usr/local/lib/python3.10/dist-packages/keras/src/layers/rnn/rnn.py:204: UserWarning: Do not pass an `input_shape`/`input_dim` argument to a layer. When using Sequential models, prefer using an `Input(shape)` object as the first layer in the model instead.\n",
            "  super().__init__(**kwargs)\n"
          ]
        },
        {
          "name": "stdout",
          "output_type": "stream",
          "text": [
            "\u001b[1m886/886\u001b[0m \u001b[32m━━━━━━━━━━━━━━━━━━━━\u001b[0m\u001b[37m\u001b[0m \u001b[1m65s\u001b[0m 50ms/step - accuracy: 0.6613 - loss: 0.6831 - val_accuracy: 0.7073 - val_loss: 0.5914\n",
            "Epoch 2/30\n",
            "\u001b[1m886/886\u001b[0m \u001b[32m━━━━━━━━━━━━━━━━━━━━\u001b[0m\u001b[37m\u001b[0m \u001b[1m45s\u001b[0m 51ms/step - accuracy: 0.7052 - loss: 0.5909 - val_accuracy: 0.7162 - val_loss: 0.5728\n",
            "Epoch 3/30\n",
            "\u001b[1m886/886\u001b[0m \u001b[32m━━━━━━━━━━━━━━━━━━━━\u001b[0m\u001b[37m\u001b[0m \u001b[1m80s\u001b[0m 49ms/step - accuracy: 0.7117 - loss: 0.5756 - val_accuracy: 0.7143 - val_loss: 0.5720\n",
            "Epoch 4/30\n",
            "\u001b[1m886/886\u001b[0m \u001b[32m━━━━━━━━━━━━━━━━━━━━\u001b[0m\u001b[37m\u001b[0m \u001b[1m44s\u001b[0m 49ms/step - accuracy: 0.7167 - loss: 0.5664 - val_accuracy: 0.7255 - val_loss: 0.5583\n",
            "Epoch 5/30\n",
            "\u001b[1m886/886\u001b[0m \u001b[32m━━━━━━━━━━━━━━━━━━━━\u001b[0m\u001b[37m\u001b[0m \u001b[1m43s\u001b[0m 48ms/step - accuracy: 0.7215 - loss: 0.5616 - val_accuracy: 0.7206 - val_loss: 0.5575\n",
            "Epoch 6/30\n",
            "\u001b[1m886/886\u001b[0m \u001b[32m━━━━━━━━━━━━━━━━━━━━\u001b[0m\u001b[37m\u001b[0m \u001b[1m83s\u001b[0m 50ms/step - accuracy: 0.7247 - loss: 0.5588 - val_accuracy: 0.7250 - val_loss: 0.5526\n",
            "Epoch 7/30\n",
            "\u001b[1m886/886\u001b[0m \u001b[32m━━━━━━━━━━━━━━━━━━━━\u001b[0m\u001b[37m\u001b[0m \u001b[1m81s\u001b[0m 49ms/step - accuracy: 0.7293 - loss: 0.5528 - val_accuracy: 0.7251 - val_loss: 0.5518\n",
            "Epoch 8/30\n",
            "\u001b[1m886/886\u001b[0m \u001b[32m━━━━━━━━━━━━━━━━━━━━\u001b[0m\u001b[37m\u001b[0m \u001b[1m81s\u001b[0m 49ms/step - accuracy: 0.7283 - loss: 0.5510 - val_accuracy: 0.7255 - val_loss: 0.5522\n",
            "Epoch 9/30\n",
            "\u001b[1m886/886\u001b[0m \u001b[32m━━━━━━━━━━━━━━━━━━━━\u001b[0m\u001b[37m\u001b[0m \u001b[1m44s\u001b[0m 49ms/step - accuracy: 0.7304 - loss: 0.5491 - val_accuracy: 0.7274 - val_loss: 0.5491\n",
            "Epoch 10/30\n",
            "\u001b[1m886/886\u001b[0m \u001b[32m━━━━━━━━━━━━━━━━━━━━\u001b[0m\u001b[37m\u001b[0m \u001b[1m82s\u001b[0m 49ms/step - accuracy: 0.7333 - loss: 0.5469 - val_accuracy: 0.7317 - val_loss: 0.5437\n",
            "Epoch 11/30\n",
            "\u001b[1m886/886\u001b[0m \u001b[32m━━━━━━━━━━━━━━━━━━━━\u001b[0m\u001b[37m\u001b[0m \u001b[1m45s\u001b[0m 51ms/step - accuracy: 0.7339 - loss: 0.5453 - val_accuracy: 0.7314 - val_loss: 0.5457\n",
            "Epoch 12/30\n",
            "\u001b[1m886/886\u001b[0m \u001b[32m━━━━━━━━━━━━━━━━━━━━\u001b[0m\u001b[37m\u001b[0m \u001b[1m81s\u001b[0m 50ms/step - accuracy: 0.7332 - loss: 0.5442 - val_accuracy: 0.7315 - val_loss: 0.5421\n",
            "Epoch 13/30\n",
            "\u001b[1m886/886\u001b[0m \u001b[32m━━━━━━━━━━━━━━━━━━━━\u001b[0m\u001b[37m\u001b[0m \u001b[1m82s\u001b[0m 50ms/step - accuracy: 0.7349 - loss: 0.5413 - val_accuracy: 0.7263 - val_loss: 0.5473\n",
            "Epoch 14/30\n",
            "\u001b[1m886/886\u001b[0m \u001b[32m━━━━━━━━━━━━━━━━━━━━\u001b[0m\u001b[37m\u001b[0m \u001b[1m84s\u001b[0m 52ms/step - accuracy: 0.7366 - loss: 0.5411 - val_accuracy: 0.7315 - val_loss: 0.5429\n",
            "Epoch 15/30\n",
            "\u001b[1m886/886\u001b[0m \u001b[32m━━━━━━━━━━━━━━━━━━━━\u001b[0m\u001b[37m\u001b[0m \u001b[1m79s\u001b[0m 50ms/step - accuracy: 0.7345 - loss: 0.5426 - val_accuracy: 0.7284 - val_loss: 0.5482\n",
            "Epoch 16/30\n",
            "\u001b[1m886/886\u001b[0m \u001b[32m━━━━━━━━━━━━━━━━━━━━\u001b[0m\u001b[37m\u001b[0m \u001b[1m43s\u001b[0m 49ms/step - accuracy: 0.7365 - loss: 0.5393 - val_accuracy: 0.7347 - val_loss: 0.5428\n",
            "Epoch 17/30\n",
            "\u001b[1m886/886\u001b[0m \u001b[32m━━━━━━━━━━━━━━━━━━━━\u001b[0m\u001b[37m\u001b[0m \u001b[1m83s\u001b[0m 50ms/step - accuracy: 0.7403 - loss: 0.5364 - val_accuracy: 0.7323 - val_loss: 0.5418\n",
            "Epoch 18/30\n",
            "\u001b[1m886/886\u001b[0m \u001b[32m━━━━━━━━━━━━━━━━━━━━\u001b[0m\u001b[37m\u001b[0m \u001b[1m85s\u001b[0m 53ms/step - accuracy: 0.7371 - loss: 0.5399 - val_accuracy: 0.7317 - val_loss: 0.5411\n",
            "Epoch 19/30\n",
            "\u001b[1m886/886\u001b[0m \u001b[32m━━━━━━━━━━━━━━━━━━━━\u001b[0m\u001b[37m\u001b[0m \u001b[1m44s\u001b[0m 50ms/step - accuracy: 0.7398 - loss: 0.5381 - val_accuracy: 0.7329 - val_loss: 0.5416\n",
            "Epoch 20/30\n",
            "\u001b[1m886/886\u001b[0m \u001b[32m━━━━━━━━━━━━━━━━━━━━\u001b[0m\u001b[37m\u001b[0m \u001b[1m82s\u001b[0m 50ms/step - accuracy: 0.7384 - loss: 0.5347 - val_accuracy: 0.7336 - val_loss: 0.5419\n",
            "Epoch 21/30\n",
            "\u001b[1m886/886\u001b[0m \u001b[32m━━━━━━━━━━━━━━━━━━━━\u001b[0m\u001b[37m\u001b[0m \u001b[1m81s\u001b[0m 49ms/step - accuracy: 0.7392 - loss: 0.5365 - val_accuracy: 0.7328 - val_loss: 0.5386\n",
            "Epoch 22/30\n",
            "\u001b[1m886/886\u001b[0m \u001b[32m━━━━━━━━━━━━━━━━━━━━\u001b[0m\u001b[37m\u001b[0m \u001b[1m85s\u001b[0m 53ms/step - accuracy: 0.7413 - loss: 0.5348 - val_accuracy: 0.7336 - val_loss: 0.5450\n",
            "Epoch 23/30\n",
            "\u001b[1m886/886\u001b[0m \u001b[32m━━━━━━━━━━━━━━━━━━━━\u001b[0m\u001b[37m\u001b[0m \u001b[1m43s\u001b[0m 48ms/step - accuracy: 0.7424 - loss: 0.5320 - val_accuracy: 0.7295 - val_loss: 0.5437\n",
            "Epoch 24/30\n",
            "\u001b[1m886/886\u001b[0m \u001b[32m━━━━━━━━━━━━━━━━━━━━\u001b[0m\u001b[37m\u001b[0m \u001b[1m82s\u001b[0m 48ms/step - accuracy: 0.7460 - loss: 0.5311 - val_accuracy: 0.7341 - val_loss: 0.5398\n",
            "Epoch 25/30\n",
            "\u001b[1m886/886\u001b[0m \u001b[32m━━━━━━━━━━━━━━━━━━━━\u001b[0m\u001b[37m\u001b[0m \u001b[1m82s\u001b[0m 49ms/step - accuracy: 0.7495 - loss: 0.5278 - val_accuracy: 0.7359 - val_loss: 0.5410\n",
            "Epoch 26/30\n",
            "\u001b[1m886/886\u001b[0m \u001b[32m━━━━━━━━━━━━━━━━━━━━\u001b[0m\u001b[37m\u001b[0m \u001b[1m48s\u001b[0m 54ms/step - accuracy: 0.7418 - loss: 0.5328 - val_accuracy: 0.7349 - val_loss: 0.5400\n",
            "Epoch 27/30\n",
            "\u001b[1m886/886\u001b[0m \u001b[32m━━━━━━━━━━━━━━━━━━━━\u001b[0m\u001b[37m\u001b[0m \u001b[1m43s\u001b[0m 49ms/step - accuracy: 0.7468 - loss: 0.5301 - val_accuracy: 0.7340 - val_loss: 0.5423\n",
            "Epoch 28/30\n",
            "\u001b[1m886/886\u001b[0m \u001b[32m━━━━━━━━━━━━━━━━━━━━\u001b[0m\u001b[37m\u001b[0m \u001b[1m81s\u001b[0m 48ms/step - accuracy: 0.7457 - loss: 0.5291 - val_accuracy: 0.7357 - val_loss: 0.5372\n",
            "Epoch 29/30\n",
            "\u001b[1m886/886\u001b[0m \u001b[32m━━━━━━━━━━━━━━━━━━━━\u001b[0m\u001b[37m\u001b[0m \u001b[1m82s\u001b[0m 48ms/step - accuracy: 0.7494 - loss: 0.5256 - val_accuracy: 0.7345 - val_loss: 0.5377\n",
            "Epoch 30/30\n",
            "\u001b[1m886/886\u001b[0m \u001b[32m━━━━━━━━━━━━━━━━━━━━\u001b[0m\u001b[37m\u001b[0m \u001b[1m44s\u001b[0m 49ms/step - accuracy: 0.7453 - loss: 0.5290 - val_accuracy: 0.7338 - val_loss: 0.5467\n",
            "\u001b[1m443/443\u001b[0m \u001b[32m━━━━━━━━━━━━━━━━━━━━\u001b[0m\u001b[37m\u001b[0m \u001b[1m6s\u001b[0m 11ms/step\n",
            "Sensitivity: 0.7350014216661928, Specificity: 0.7363407116839451, MCC: 0.47133486746925124\n",
            "Training with 150 LSTM units, relu activation, and 0.25 dropout...\n",
            "Epoch 1/30\n"
          ]
        },
        {
          "name": "stderr",
          "output_type": "stream",
          "text": [
            "/usr/local/lib/python3.10/dist-packages/keras/src/layers/rnn/rnn.py:204: UserWarning: Do not pass an `input_shape`/`input_dim` argument to a layer. When using Sequential models, prefer using an `Input(shape)` object as the first layer in the model instead.\n",
            "  super().__init__(**kwargs)\n"
          ]
        },
        {
          "name": "stdout",
          "output_type": "stream",
          "text": [
            "\u001b[1m886/886\u001b[0m \u001b[32m━━━━━━━━━━━━━━━━━━━━\u001b[0m\u001b[37m\u001b[0m \u001b[1m57s\u001b[0m 51ms/step - accuracy: 0.6648 - loss: 0.6858 - val_accuracy: 0.7075 - val_loss: 0.5888\n",
            "Epoch 2/30\n",
            "\u001b[1m886/886\u001b[0m \u001b[32m━━━━━━━━━━━━━━━━━━━━\u001b[0m\u001b[37m\u001b[0m \u001b[1m45s\u001b[0m 51ms/step - accuracy: 0.7084 - loss: 0.5876 - val_accuracy: 0.7185 - val_loss: 0.5716\n",
            "Epoch 3/30\n",
            "\u001b[1m886/886\u001b[0m \u001b[32m━━━━━━━━━━━━━━━━━━━━\u001b[0m\u001b[37m\u001b[0m \u001b[1m81s\u001b[0m 50ms/step - accuracy: 0.7125 - loss: 0.5764 - val_accuracy: 0.7209 - val_loss: 0.5636\n",
            "Epoch 4/30\n",
            "\u001b[1m886/886\u001b[0m \u001b[32m━━━━━━━━━━━━━━━━━━━━\u001b[0m\u001b[37m\u001b[0m \u001b[1m82s\u001b[0m 50ms/step - accuracy: 0.7152 - loss: 0.5701 - val_accuracy: 0.7231 - val_loss: 0.5608\n",
            "Epoch 5/30\n",
            "\u001b[1m886/886\u001b[0m \u001b[32m━━━━━━━━━━━━━━━━━━━━\u001b[0m\u001b[37m\u001b[0m \u001b[1m81s\u001b[0m 49ms/step - accuracy: 0.7194 - loss: 0.5638 - val_accuracy: 0.7215 - val_loss: 0.5585\n",
            "Epoch 6/30\n",
            "\u001b[1m886/886\u001b[0m \u001b[32m━━━━━━━━━━━━━━━━━━━━\u001b[0m\u001b[37m\u001b[0m \u001b[1m45s\u001b[0m 50ms/step - accuracy: 0.7221 - loss: 0.5594 - val_accuracy: 0.7266 - val_loss: 0.5540\n",
            "Epoch 7/30\n",
            "\u001b[1m886/886\u001b[0m \u001b[32m━━━━━━━━━━━━━━━━━━━━\u001b[0m\u001b[37m\u001b[0m \u001b[1m44s\u001b[0m 50ms/step - accuracy: 0.7231 - loss: 0.5579 - val_accuracy: 0.7247 - val_loss: 0.5522\n",
            "Epoch 8/30\n",
            "\u001b[1m886/886\u001b[0m \u001b[32m━━━━━━━━━━━━━━━━━━━━\u001b[0m\u001b[37m\u001b[0m \u001b[1m82s\u001b[0m 50ms/step - accuracy: 0.7283 - loss: 0.5542 - val_accuracy: 0.7294 - val_loss: 0.5505\n",
            "Epoch 9/30\n",
            "\u001b[1m886/886\u001b[0m \u001b[32m━━━━━━━━━━━━━━━━━━━━\u001b[0m\u001b[37m\u001b[0m \u001b[1m44s\u001b[0m 49ms/step - accuracy: 0.7305 - loss: 0.5523 - val_accuracy: 0.7284 - val_loss: 0.5522\n",
            "Epoch 10/30\n",
            "\u001b[1m886/886\u001b[0m \u001b[32m━━━━━━━━━━━━━━━━━━━━\u001b[0m\u001b[37m\u001b[0m \u001b[1m46s\u001b[0m 52ms/step - accuracy: 0.7320 - loss: 0.5481 - val_accuracy: 0.7271 - val_loss: 0.5511\n",
            "Epoch 11/30\n",
            "\u001b[1m886/886\u001b[0m \u001b[32m━━━━━━━━━━━━━━━━━━━━\u001b[0m\u001b[37m\u001b[0m \u001b[1m44s\u001b[0m 50ms/step - accuracy: 0.7281 - loss: 0.5516 - val_accuracy: 0.7307 - val_loss: 0.5466\n",
            "Epoch 12/30\n",
            "\u001b[1m886/886\u001b[0m \u001b[32m━━━━━━━━━━━━━━━━━━━━\u001b[0m\u001b[37m\u001b[0m \u001b[1m82s\u001b[0m 50ms/step - accuracy: 0.7314 - loss: 0.5471 - val_accuracy: 0.7292 - val_loss: 0.5466\n",
            "Epoch 13/30\n",
            "\u001b[1m886/886\u001b[0m \u001b[32m━━━━━━━━━━━━━━━━━━━━\u001b[0m\u001b[37m\u001b[0m \u001b[1m83s\u001b[0m 51ms/step - accuracy: 0.7353 - loss: 0.5437 - val_accuracy: 0.7294 - val_loss: 0.5468\n",
            "Epoch 14/30\n",
            "\u001b[1m886/886\u001b[0m \u001b[32m━━━━━━━━━━━━━━━━━━━━\u001b[0m\u001b[37m\u001b[0m \u001b[1m45s\u001b[0m 51ms/step - accuracy: 0.7331 - loss: 0.5423 - val_accuracy: 0.7285 - val_loss: 0.5454\n",
            "Epoch 15/30\n",
            "\u001b[1m886/886\u001b[0m \u001b[32m━━━━━━━━━━━━━━━━━━━━\u001b[0m\u001b[37m\u001b[0m \u001b[1m82s\u001b[0m 51ms/step - accuracy: 0.7371 - loss: 0.5437 - val_accuracy: 0.7313 - val_loss: 0.5432\n",
            "Epoch 16/30\n",
            "\u001b[1m886/886\u001b[0m \u001b[32m━━━━━━━━━━━━━━━━━━━━\u001b[0m\u001b[37m\u001b[0m \u001b[1m81s\u001b[0m 50ms/step - accuracy: 0.7368 - loss: 0.5409 - val_accuracy: 0.7330 - val_loss: 0.5429\n",
            "Epoch 17/30\n",
            "\u001b[1m886/886\u001b[0m \u001b[32m━━━━━━━━━━━━━━━━━━━━\u001b[0m\u001b[37m\u001b[0m \u001b[1m45s\u001b[0m 50ms/step - accuracy: 0.7357 - loss: 0.5451 - val_accuracy: 0.7293 - val_loss: 0.5437\n",
            "Epoch 18/30\n",
            "\u001b[1m886/886\u001b[0m \u001b[32m━━━━━━━━━━━━━━━━━━━━\u001b[0m\u001b[37m\u001b[0m \u001b[1m85s\u001b[0m 53ms/step - accuracy: 0.7368 - loss: 0.5412 - val_accuracy: 0.7307 - val_loss: 0.5422\n",
            "Epoch 19/30\n",
            "\u001b[1m886/886\u001b[0m \u001b[32m━━━━━━━━━━━━━━━━━━━━\u001b[0m\u001b[37m\u001b[0m \u001b[1m80s\u001b[0m 51ms/step - accuracy: 0.7392 - loss: 0.5379 - val_accuracy: 0.7321 - val_loss: 0.5434\n",
            "Epoch 20/30\n",
            "\u001b[1m886/886\u001b[0m \u001b[32m━━━━━━━━━━━━━━━━━━━━\u001b[0m\u001b[37m\u001b[0m \u001b[1m83s\u001b[0m 52ms/step - accuracy: 0.7393 - loss: 0.5387 - val_accuracy: 0.7329 - val_loss: 0.5440\n",
            "Epoch 21/30\n",
            "\u001b[1m886/886\u001b[0m \u001b[32m━━━━━━━━━━━━━━━━━━━━\u001b[0m\u001b[37m\u001b[0m \u001b[1m83s\u001b[0m 54ms/step - accuracy: 0.7387 - loss: 0.5400 - val_accuracy: 0.7326 - val_loss: 0.5431\n",
            "Epoch 22/30\n",
            "\u001b[1m886/886\u001b[0m \u001b[32m━━━━━━━━━━━━━━━━━━━━\u001b[0m\u001b[37m\u001b[0m \u001b[1m78s\u001b[0m 50ms/step - accuracy: 0.7417 - loss: 0.5346 - val_accuracy: 0.7342 - val_loss: 0.5435\n",
            "Epoch 23/30\n",
            "\u001b[1m886/886\u001b[0m \u001b[32m━━━━━━━━━━━━━━━━━━━━\u001b[0m\u001b[37m\u001b[0m \u001b[1m83s\u001b[0m 51ms/step - accuracy: 0.7409 - loss: 0.5385 - val_accuracy: 0.7357 - val_loss: 0.5396\n",
            "Epoch 24/30\n",
            "\u001b[1m886/886\u001b[0m \u001b[32m━━━━━━━━━━━━━━━━━━━━\u001b[0m\u001b[37m\u001b[0m \u001b[1m44s\u001b[0m 50ms/step - accuracy: 0.7407 - loss: 0.5370 - val_accuracy: 0.7397 - val_loss: 0.5382\n",
            "Epoch 25/30\n",
            "\u001b[1m886/886\u001b[0m \u001b[32m━━━━━━━━━━━━━━━━━━━━\u001b[0m\u001b[37m\u001b[0m \u001b[1m82s\u001b[0m 50ms/step - accuracy: 0.7386 - loss: 0.5382 - val_accuracy: 0.7353 - val_loss: 0.5415\n",
            "Epoch 26/30\n",
            "\u001b[1m886/886\u001b[0m \u001b[32m━━━━━━━━━━━━━━━━━━━━\u001b[0m\u001b[37m\u001b[0m \u001b[1m84s\u001b[0m 53ms/step - accuracy: 0.7414 - loss: 0.5358 - val_accuracy: 0.7336 - val_loss: 0.5406\n",
            "Epoch 27/30\n",
            "\u001b[1m886/886\u001b[0m \u001b[32m━━━━━━━━━━━━━━━━━━━━\u001b[0m\u001b[37m\u001b[0m \u001b[1m79s\u001b[0m 50ms/step - accuracy: 0.7423 - loss: 0.5374 - val_accuracy: 0.7347 - val_loss: 0.5436\n",
            "Epoch 28/30\n",
            "\u001b[1m886/886\u001b[0m \u001b[32m━━━━━━━━━━━━━━━━━━━━\u001b[0m\u001b[37m\u001b[0m \u001b[1m82s\u001b[0m 50ms/step - accuracy: 0.7424 - loss: 0.5302 - val_accuracy: 0.7362 - val_loss: 0.5396\n",
            "Epoch 29/30\n",
            "\u001b[1m886/886\u001b[0m \u001b[32m━━━━━━━━━━━━━━━━━━━━\u001b[0m\u001b[37m\u001b[0m \u001b[1m45s\u001b[0m 50ms/step - accuracy: 0.7438 - loss: 0.5368 - val_accuracy: 0.7333 - val_loss: 0.5408\n",
            "Epoch 30/30\n",
            "\u001b[1m886/886\u001b[0m \u001b[32m━━━━━━━━━━━━━━━━━━━━\u001b[0m\u001b[37m\u001b[0m \u001b[1m45s\u001b[0m 51ms/step - accuracy: 0.7400 - loss: 0.5356 - val_accuracy: 0.7341 - val_loss: 0.5394\n",
            "\u001b[1m443/443\u001b[0m \u001b[32m━━━━━━━━━━━━━━━━━━━━\u001b[0m\u001b[37m\u001b[0m \u001b[1m6s\u001b[0m 10ms/step\n",
            "Sensitivity: 0.7561842479385841, Specificity: 0.7234519473241804, MCC: 0.47982805994468486\n",
            "Training with 150 LSTM units, relu activation, and 0.3 dropout...\n",
            "Epoch 1/30\n"
          ]
        },
        {
          "name": "stderr",
          "output_type": "stream",
          "text": [
            "/usr/local/lib/python3.10/dist-packages/keras/src/layers/rnn/rnn.py:204: UserWarning: Do not pass an `input_shape`/`input_dim` argument to a layer. When using Sequential models, prefer using an `Input(shape)` object as the first layer in the model instead.\n",
            "  super().__init__(**kwargs)\n"
          ]
        },
        {
          "name": "stdout",
          "output_type": "stream",
          "text": [
            "\u001b[1m886/886\u001b[0m \u001b[32m━━━━━━━━━━━━━━━━━━━━\u001b[0m\u001b[37m\u001b[0m \u001b[1m61s\u001b[0m 54ms/step - accuracy: 0.6649 - loss: 0.6851 - val_accuracy: 0.7108 - val_loss: 0.5906\n",
            "Epoch 2/30\n",
            "\u001b[1m886/886\u001b[0m \u001b[32m━━━━━━━━━━━━━━━━━━━━\u001b[0m\u001b[37m\u001b[0m \u001b[1m47s\u001b[0m 53ms/step - accuracy: 0.7027 - loss: 0.5925 - val_accuracy: 0.7164 - val_loss: 0.5727\n",
            "Epoch 3/30\n",
            "\u001b[1m886/886\u001b[0m \u001b[32m━━━━━━━━━━━━━━━━━━━━\u001b[0m\u001b[37m\u001b[0m \u001b[1m81s\u001b[0m 52ms/step - accuracy: 0.7119 - loss: 0.5796 - val_accuracy: 0.7152 - val_loss: 0.5681\n",
            "Epoch 4/30\n",
            "\u001b[1m886/886\u001b[0m \u001b[32m━━━━━━━━━━━━━━━━━━━━\u001b[0m\u001b[37m\u001b[0m \u001b[1m48s\u001b[0m 54ms/step - accuracy: 0.7175 - loss: 0.5711 - val_accuracy: 0.7157 - val_loss: 0.5714\n",
            "Epoch 5/30\n",
            "\u001b[1m886/886\u001b[0m \u001b[32m━━━━━━━━━━━━━━━━━━━━\u001b[0m\u001b[37m\u001b[0m \u001b[1m80s\u001b[0m 52ms/step - accuracy: 0.7197 - loss: 0.5676 - val_accuracy: 0.7270 - val_loss: 0.5562\n",
            "Epoch 6/30\n",
            "\u001b[1m886/886\u001b[0m \u001b[32m━━━━━━━━━━━━━━━━━━━━\u001b[0m\u001b[37m\u001b[0m \u001b[1m84s\u001b[0m 54ms/step - accuracy: 0.7205 - loss: 0.5641 - val_accuracy: 0.7242 - val_loss: 0.5563\n",
            "Epoch 7/30\n",
            "\u001b[1m886/886\u001b[0m \u001b[32m━━━━━━━━━━━━━━━━━━━━\u001b[0m\u001b[37m\u001b[0m \u001b[1m84s\u001b[0m 56ms/step - accuracy: 0.7283 - loss: 0.5567 - val_accuracy: 0.7247 - val_loss: 0.5519\n",
            "Epoch 8/30\n",
            "\u001b[1m886/886\u001b[0m \u001b[32m━━━━━━━━━━━━━━━━━━━━\u001b[0m\u001b[37m\u001b[0m \u001b[1m46s\u001b[0m 52ms/step - accuracy: 0.7256 - loss: 0.5584 - val_accuracy: 0.7269 - val_loss: 0.5519\n",
            "Epoch 9/30\n",
            "\u001b[1m886/886\u001b[0m \u001b[32m━━━━━━━━━━━━━━━━━━━━\u001b[0m\u001b[37m\u001b[0m \u001b[1m82s\u001b[0m 52ms/step - accuracy: 0.7280 - loss: 0.5533 - val_accuracy: 0.7269 - val_loss: 0.5505\n",
            "Epoch 10/30\n",
            "\u001b[1m886/886\u001b[0m \u001b[32m━━━━━━━━━━━━━━━━━━━━\u001b[0m\u001b[37m\u001b[0m \u001b[1m85s\u001b[0m 55ms/step - accuracy: 0.7309 - loss: 0.5517 - val_accuracy: 0.7259 - val_loss: 0.5533\n",
            "Epoch 11/30\n",
            "\u001b[1m886/886\u001b[0m \u001b[32m━━━━━━━━━━━━━━━━━━━━\u001b[0m\u001b[37m\u001b[0m \u001b[1m81s\u001b[0m 55ms/step - accuracy: 0.7313 - loss: 0.5515 - val_accuracy: 0.7284 - val_loss: 0.5468\n",
            "Epoch 12/30\n",
            "\u001b[1m886/886\u001b[0m \u001b[32m━━━━━━━━━━━━━━━━━━━━\u001b[0m\u001b[37m\u001b[0m \u001b[1m46s\u001b[0m 51ms/step - accuracy: 0.7300 - loss: 0.5513 - val_accuracy: 0.7295 - val_loss: 0.5456\n",
            "Epoch 13/30\n",
            "\u001b[1m886/886\u001b[0m \u001b[32m━━━━━━━━━━━━━━━━━━━━\u001b[0m\u001b[37m\u001b[0m \u001b[1m82s\u001b[0m 51ms/step - accuracy: 0.7305 - loss: 0.5498 - val_accuracy: 0.7281 - val_loss: 0.5491\n",
            "Epoch 14/30\n",
            "\u001b[1m886/886\u001b[0m \u001b[32m━━━━━━━━━━━━━━━━━━━━\u001b[0m\u001b[37m\u001b[0m \u001b[1m84s\u001b[0m 53ms/step - accuracy: 0.7321 - loss: 0.5477 - val_accuracy: 0.7291 - val_loss: 0.5459\n",
            "Epoch 15/30\n",
            "\u001b[1m886/886\u001b[0m \u001b[32m━━━━━━━━━━━━━━━━━━━━\u001b[0m\u001b[37m\u001b[0m \u001b[1m46s\u001b[0m 52ms/step - accuracy: 0.7341 - loss: 0.5466 - val_accuracy: 0.7301 - val_loss: 0.5475\n",
            "Epoch 16/30\n",
            "\u001b[1m886/886\u001b[0m \u001b[32m━━━━━━━━━━━━━━━━━━━━\u001b[0m\u001b[37m\u001b[0m \u001b[1m82s\u001b[0m 52ms/step - accuracy: 0.7327 - loss: 0.5475 - val_accuracy: 0.7300 - val_loss: 0.5462\n",
            "Epoch 17/30\n",
            "\u001b[1m886/886\u001b[0m \u001b[32m━━━━━━━━━━━━━━━━━━━━\u001b[0m\u001b[37m\u001b[0m \u001b[1m82s\u001b[0m 51ms/step - accuracy: 0.7342 - loss: 0.5450 - val_accuracy: 0.7305 - val_loss: 0.5485\n",
            "Epoch 18/30\n",
            "\u001b[1m886/886\u001b[0m \u001b[32m━━━━━━━━━━━━━━━━━━━━\u001b[0m\u001b[37m\u001b[0m \u001b[1m84s\u001b[0m 53ms/step - accuracy: 0.7335 - loss: 0.5461 - val_accuracy: 0.7325 - val_loss: 0.5445\n",
            "Epoch 19/30\n",
            "\u001b[1m886/886\u001b[0m \u001b[32m━━━━━━━━━━━━━━━━━━━━\u001b[0m\u001b[37m\u001b[0m \u001b[1m46s\u001b[0m 52ms/step - accuracy: 0.7392 - loss: 0.5402 - val_accuracy: 0.7344 - val_loss: 0.5425\n",
            "Epoch 20/30\n",
            "\u001b[1m886/886\u001b[0m \u001b[32m━━━━━━━━━━━━━━━━━━━━\u001b[0m\u001b[37m\u001b[0m \u001b[1m82s\u001b[0m 51ms/step - accuracy: 0.7352 - loss: 0.5424 - val_accuracy: 0.7309 - val_loss: 0.5448\n",
            "Epoch 21/30\n",
            "\u001b[1m886/886\u001b[0m \u001b[32m━━━━━━━━━━━━━━━━━━━━\u001b[0m\u001b[37m\u001b[0m \u001b[1m46s\u001b[0m 52ms/step - accuracy: 0.7354 - loss: 0.5425 - val_accuracy: 0.7334 - val_loss: 0.5461\n",
            "Epoch 22/30\n",
            "\u001b[1m886/886\u001b[0m \u001b[32m━━━━━━━━━━━━━━━━━━━━\u001b[0m\u001b[37m\u001b[0m \u001b[1m83s\u001b[0m 54ms/step - accuracy: 0.7375 - loss: 0.5403 - val_accuracy: 0.7334 - val_loss: 0.5436\n",
            "Epoch 23/30\n",
            "\u001b[1m886/886\u001b[0m \u001b[32m━━━━━━━━━━━━━━━━━━━━\u001b[0m\u001b[37m\u001b[0m \u001b[1m46s\u001b[0m 52ms/step - accuracy: 0.7385 - loss: 0.5412 - val_accuracy: 0.7313 - val_loss: 0.5455\n",
            "Epoch 24/30\n",
            "\u001b[1m886/886\u001b[0m \u001b[32m━━━━━━━━━━━━━━━━━━━━\u001b[0m\u001b[37m\u001b[0m \u001b[1m82s\u001b[0m 52ms/step - accuracy: 0.7383 - loss: 0.5393 - val_accuracy: 0.7290 - val_loss: 0.5433\n",
            "Epoch 25/30\n",
            "\u001b[1m886/886\u001b[0m \u001b[32m━━━━━━━━━━━━━━━━━━━━\u001b[0m\u001b[37m\u001b[0m \u001b[1m81s\u001b[0m 51ms/step - accuracy: 0.7409 - loss: 0.5421 - val_accuracy: 0.7297 - val_loss: 0.5455\n",
            "Epoch 26/30\n",
            "\u001b[1m886/886\u001b[0m \u001b[32m━━━━━━━━━━━━━━━━━━━━\u001b[0m\u001b[37m\u001b[0m \u001b[1m48s\u001b[0m 54ms/step - accuracy: 0.7406 - loss: 0.5376 - val_accuracy: 0.7353 - val_loss: 0.5424\n",
            "Epoch 27/30\n",
            "\u001b[1m886/886\u001b[0m \u001b[32m━━━━━━━━━━━━━━━━━━━━\u001b[0m\u001b[37m\u001b[0m \u001b[1m81s\u001b[0m 54ms/step - accuracy: 0.7381 - loss: 0.5389 - val_accuracy: 0.7330 - val_loss: 0.5421\n",
            "Epoch 28/30\n",
            "\u001b[1m886/886\u001b[0m \u001b[32m━━━━━━━━━━━━━━━━━━━━\u001b[0m\u001b[37m\u001b[0m \u001b[1m82s\u001b[0m 54ms/step - accuracy: 0.7377 - loss: 0.5432 - val_accuracy: 0.7321 - val_loss: 0.5451\n",
            "Epoch 29/30\n",
            "\u001b[1m886/886\u001b[0m \u001b[32m━━━━━━━━━━━━━━━━━━━━\u001b[0m\u001b[37m\u001b[0m \u001b[1m80s\u001b[0m 52ms/step - accuracy: 0.7382 - loss: 0.5399 - val_accuracy: 0.7350 - val_loss: 0.5403\n",
            "Epoch 30/30\n",
            "\u001b[1m886/886\u001b[0m \u001b[32m━━━━━━━━━━━━━━━━━━━━\u001b[0m\u001b[37m\u001b[0m \u001b[1m46s\u001b[0m 52ms/step - accuracy: 0.7415 - loss: 0.5388 - val_accuracy: 0.7353 - val_loss: 0.5399\n",
            "\u001b[1m443/443\u001b[0m \u001b[32m━━━━━━━━━━━━━━━━━━━━\u001b[0m\u001b[37m\u001b[0m \u001b[1m6s\u001b[0m 11ms/step\n",
            "Sensitivity: 0.7243389252203583, Specificity: 0.7461473802185487, MCC: 0.47062381856483393\n"
          ]
        }
      ],
      "source": [
        "for activation in activation_functions:\n",
        "    for dropout_rate in dropout_rates:\n",
        "        run_model(150, activation, dropout_rate)"
      ]
    },
    {
      "cell_type": "code",
      "execution_count": null,
      "metadata": {
        "colab": {
          "base_uri": "https://localhost:8080/"
        },
        "id": "vn8LJQ7cn2aE",
        "outputId": "63b6b700-37ab-4c86-edec-8113c93c7ff6"
      },
      "outputs": [
        {
          "name": "stdout",
          "output_type": "stream",
          "text": [
            "LSTM Units: 50, Activation: tanh, Dropout: 0.2 => Sensitivity: 0.7449530850156383, Specificity: 0.7294760437097226, MCC: 0.4744504899565323\n",
            "LSTM Units: 50, Activation: tanh, Dropout: 0.2 => Sensitivity: 0.7419675860108047, Specificity: 0.727794900532362, MCC: 0.4697768583234967\n",
            "LSTM Units: 50, Activation: tanh, Dropout: 0.25 => Sensitivity: 0.754193915268695, Specificity: 0.7125245166713365, MCC: 0.46704755012411436\n",
            "LSTM Units: 50, Activation: tanh, Dropout: 0.3 => Sensitivity: 0.7452374182541939, Specificity: 0.7237321378537406, MCC: 0.4690334575417216\n",
            "LSTM Units: 50, Activation: relu, Dropout: 0.2 => Sensitivity: 0.7436735854421382, Specificity: 0.7213505183524797, MCC: 0.4650947505655876\n",
            "LSTM Units: 50, Activation: relu, Dropout: 0.25 => Sensitivity: 0.7331532556155814, Specificity: 0.7345194732418044, MCC: 0.46766551954147423\n",
            "LSTM Units: 50, Activation: relu, Dropout: 0.3 => Sensitivity: 0.7290304236565255, Specificity: 0.736060521154385, MCC: 0.4651037840767185\n",
            "LSTM Units: 100, Activation: tanh, Dropout: 0.2 => Sensitivity: 0.7679840773386409, Specificity: 0.7004763239002522, MCC: 0.4694122383033519\n",
            "LSTM Units: 100, Activation: tanh, Dropout: 0.25 => Sensitivity: 0.7593119135626955, Specificity: 0.7070608013449146, MCC: 0.466917110426897\n",
            "LSTM Units: 100, Activation: tanh, Dropout: 0.3 => Sensitivity: 0.7372760875746375, Specificity: 0.7322779490053236, MCC: 0.4695419588775423\n",
            "LSTM Units: 100, Activation: relu, Dropout: 0.2 => Sensitivity: 0.7674154108615298, Specificity: 0.7105631829644158, MCC: 0.47864723968715334\n",
            "LSTM Units: 100, Activation: relu, Dropout: 0.25 => Sensitivity: 0.7106909297696901, Specificity: 0.7572149061361726, MCC: 0.46847820852840644\n",
            "LSTM Units: 100, Activation: relu, Dropout: 0.3 => Sensitivity: 0.7384134205288598, Specificity: 0.7270944242084617, MCC: 0.46550984738545514\n",
            "LSTM Units: 150, Activation: tanh, Dropout: 0.2 => Sensitivity: 0.7423940858686381, Specificity: 0.736060521154385, MCC: 0.4784436296261528\n",
            "LSTM Units: 150, Activation: tanh, Dropout: 0.25 => Sensitivity: 0.7519192493602502, Specificity: 0.7157467077612777, MCC: 0.467904216216052\n",
            "LSTM Units: 150, Activation: tanh, Dropout: 0.3 => Sensitivity: 0.7352857549047483, Specificity: 0.7290557579153825, MCC: 0.4643308592262585\n",
            "LSTM Units: 150, Activation: relu, Dropout: 0.2 => Sensitivity: 0.7350014216661928, Specificity: 0.7363407116839451, MCC: 0.47133486746925124\n",
            "LSTM Units: 150, Activation: relu, Dropout: 0.25 => Sensitivity: 0.7561842479385841, Specificity: 0.7234519473241804, MCC: 0.47982805994468486\n",
            "LSTM Units: 150, Activation: relu, Dropout: 0.3 => Sensitivity: 0.7243389252203583, Specificity: 0.7461473802185487, MCC: 0.47062381856483393\n",
            "Best MCC Score: 0.47982805994468486\n"
          ]
        }
      ],
      "source": [
        "for entry in metrics_list:\n",
        "    print(f\"LSTM Units: {entry[0]}, Activation: {entry[1]}, Dropout: {entry[2]} => Sensitivity: {entry[3]}, Specificity: {entry[4]}, MCC: {entry[5]}\")\n",
        "\n",
        "print(f\"Best MCC Score: {best_MCC_score}\")"
      ]
    },
    {
      "cell_type": "markdown",
      "source": [
        "Based on the above results, the best model has the following features:\n",
        "1. LSTM units: 150\n",
        "2. Activation: relu\n",
        "3. Dropout: 0.25"
      ],
      "metadata": {
        "id": "16uizYojSEAT"
      }
    },
    {
      "cell_type": "code",
      "source": [
        "#Creating the best model to train over the entire training data set\n",
        "\n",
        "X = np.array(fasttext_sequences_scaled_balanced)\n",
        "y = np.array(fasttext_labels_balanced)\n",
        "\n",
        "# Reshape the input to be 3D for LSTM\n",
        "X = X.reshape((X.shape[0], 1, X.shape[1]))\n",
        "\n",
        "best_model = create_model(units=150, activation='relu', dropout_rate=0.25, input_shape=(X_train.shape[1], X_train.shape[2]))\n",
        "\n",
        "# Early stopping to avoid overfitting\n",
        "early_stopping = EarlyStopping(monitor='val_loss', patience=10, restore_best_weights=True)\n",
        "\n",
        "best_history = best_model.fit(X, y, epochs=30, batch_size=64, validation_split=0.1, callbacks=[early_stopping])"
      ],
      "metadata": {
        "collapsed": true,
        "id": "LLZIH0ErShTz",
        "colab": {
          "base_uri": "https://localhost:8080/"
        },
        "outputId": "b6b0b92c-c3cc-4c92-ffde-a6737efd2db3"
      },
      "execution_count": null,
      "outputs": [
        {
          "output_type": "stream",
          "name": "stderr",
          "text": [
            "/usr/local/lib/python3.10/dist-packages/keras/src/layers/rnn/rnn.py:204: UserWarning: Do not pass an `input_shape`/`input_dim` argument to a layer. When using Sequential models, prefer using an `Input(shape)` object as the first layer in the model instead.\n",
            "  super().__init__(**kwargs)\n"
          ]
        },
        {
          "output_type": "stream",
          "name": "stdout",
          "text": [
            "Epoch 1/30\n",
            "\u001b[1m996/996\u001b[0m \u001b[32m━━━━━━━━━━━━━━━━━━━━\u001b[0m\u001b[37m\u001b[0m \u001b[1m31s\u001b[0m 14ms/step - accuracy: 0.6561 - loss: 0.6768 - val_accuracy: 0.6966 - val_loss: 0.6149\n",
            "Epoch 2/30\n",
            "\u001b[1m996/996\u001b[0m \u001b[32m━━━━━━━━━━━━━━━━━━━━\u001b[0m\u001b[37m\u001b[0m \u001b[1m3s\u001b[0m 3ms/step - accuracy: 0.7051 - loss: 0.5845 - val_accuracy: 0.6286 - val_loss: 0.6947\n",
            "Epoch 3/30\n",
            "\u001b[1m996/996\u001b[0m \u001b[32m━━━━━━━━━━━━━━━━━━━━\u001b[0m\u001b[37m\u001b[0m \u001b[1m5s\u001b[0m 3ms/step - accuracy: 0.7124 - loss: 0.5733 - val_accuracy: 0.7028 - val_loss: 0.5852\n",
            "Epoch 4/30\n",
            "\u001b[1m996/996\u001b[0m \u001b[32m━━━━━━━━━━━━━━━━━━━━\u001b[0m\u001b[37m\u001b[0m \u001b[1m5s\u001b[0m 3ms/step - accuracy: 0.7169 - loss: 0.5660 - val_accuracy: 0.7283 - val_loss: 0.5692\n",
            "Epoch 5/30\n",
            "\u001b[1m996/996\u001b[0m \u001b[32m━━━━━━━━━━━━━━━━━━━━\u001b[0m\u001b[37m\u001b[0m \u001b[1m5s\u001b[0m 3ms/step - accuracy: 0.7190 - loss: 0.5632 - val_accuracy: 0.7251 - val_loss: 0.5798\n",
            "Epoch 6/30\n",
            "\u001b[1m996/996\u001b[0m \u001b[32m━━━━━━━━━━━━━━━━━━━━\u001b[0m\u001b[37m\u001b[0m \u001b[1m6s\u001b[0m 4ms/step - accuracy: 0.7259 - loss: 0.5561 - val_accuracy: 0.7499 - val_loss: 0.5233\n",
            "Epoch 7/30\n",
            "\u001b[1m996/996\u001b[0m \u001b[32m━━━━━━━━━━━━━━━━━━━━\u001b[0m\u001b[37m\u001b[0m \u001b[1m4s\u001b[0m 3ms/step - accuracy: 0.7211 - loss: 0.5574 - val_accuracy: 0.6810 - val_loss: 0.5982\n",
            "Epoch 8/30\n",
            "\u001b[1m996/996\u001b[0m \u001b[32m━━━━━━━━━━━━━━━━━━━━\u001b[0m\u001b[37m\u001b[0m \u001b[1m3s\u001b[0m 3ms/step - accuracy: 0.7268 - loss: 0.5536 - val_accuracy: 0.7053 - val_loss: 0.5736\n",
            "Epoch 9/30\n",
            "\u001b[1m996/996\u001b[0m \u001b[32m━━━━━━━━━━━━━━━━━━━━\u001b[0m\u001b[37m\u001b[0m \u001b[1m6s\u001b[0m 4ms/step - accuracy: 0.7258 - loss: 0.5557 - val_accuracy: 0.6683 - val_loss: 0.6165\n",
            "Epoch 10/30\n",
            "\u001b[1m996/996\u001b[0m \u001b[32m━━━━━━━━━━━━━━━━━━━━\u001b[0m\u001b[37m\u001b[0m \u001b[1m4s\u001b[0m 3ms/step - accuracy: 0.7237 - loss: 0.5552 - val_accuracy: 0.7721 - val_loss: 0.5146\n",
            "Epoch 11/30\n",
            "\u001b[1m996/996\u001b[0m \u001b[32m━━━━━━━━━━━━━━━━━━━━\u001b[0m\u001b[37m\u001b[0m \u001b[1m5s\u001b[0m 3ms/step - accuracy: 0.7275 - loss: 0.5508 - val_accuracy: 0.7721 - val_loss: 0.5042\n",
            "Epoch 12/30\n",
            "\u001b[1m996/996\u001b[0m \u001b[32m━━━━━━━━━━━━━━━━━━━━\u001b[0m\u001b[37m\u001b[0m \u001b[1m4s\u001b[0m 4ms/step - accuracy: 0.7290 - loss: 0.5501 - val_accuracy: 0.6988 - val_loss: 0.5765\n",
            "Epoch 13/30\n",
            "\u001b[1m996/996\u001b[0m \u001b[32m━━━━━━━━━━━━━━━━━━━━\u001b[0m\u001b[37m\u001b[0m \u001b[1m3s\u001b[0m 3ms/step - accuracy: 0.7286 - loss: 0.5496 - val_accuracy: 0.7235 - val_loss: 0.5529\n",
            "Epoch 14/30\n",
            "\u001b[1m996/996\u001b[0m \u001b[32m━━━━━━━━━━━━━━━━━━━━\u001b[0m\u001b[37m\u001b[0m \u001b[1m5s\u001b[0m 3ms/step - accuracy: 0.7281 - loss: 0.5506 - val_accuracy: 0.6899 - val_loss: 0.6014\n",
            "Epoch 15/30\n",
            "\u001b[1m996/996\u001b[0m \u001b[32m━━━━━━━━━━━━━━━━━━━━\u001b[0m\u001b[37m\u001b[0m \u001b[1m6s\u001b[0m 4ms/step - accuracy: 0.7277 - loss: 0.5496 - val_accuracy: 0.7598 - val_loss: 0.5176\n",
            "Epoch 16/30\n",
            "\u001b[1m996/996\u001b[0m \u001b[32m━━━━━━━━━━━━━━━━━━━━\u001b[0m\u001b[37m\u001b[0m \u001b[1m3s\u001b[0m 3ms/step - accuracy: 0.7323 - loss: 0.5450 - val_accuracy: 0.7335 - val_loss: 0.5334\n",
            "Epoch 17/30\n",
            "\u001b[1m996/996\u001b[0m \u001b[32m━━━━━━━━━━━━━━━━━━━━\u001b[0m\u001b[37m\u001b[0m \u001b[1m5s\u001b[0m 3ms/step - accuracy: 0.7286 - loss: 0.5491 - val_accuracy: 0.7376 - val_loss: 0.5435\n",
            "Epoch 18/30\n",
            "\u001b[1m996/996\u001b[0m \u001b[32m━━━━━━━━━━━━━━━━━━━━\u001b[0m\u001b[37m\u001b[0m \u001b[1m5s\u001b[0m 3ms/step - accuracy: 0.7322 - loss: 0.5468 - val_accuracy: 0.7252 - val_loss: 0.5527\n",
            "Epoch 19/30\n",
            "\u001b[1m996/996\u001b[0m \u001b[32m━━━━━━━━━━━━━━━━━━━━\u001b[0m\u001b[37m\u001b[0m \u001b[1m3s\u001b[0m 3ms/step - accuracy: 0.7344 - loss: 0.5432 - val_accuracy: 0.7413 - val_loss: 0.5444\n",
            "Epoch 20/30\n",
            "\u001b[1m996/996\u001b[0m \u001b[32m━━━━━━━━━━━━━━━━━━━━\u001b[0m\u001b[37m\u001b[0m \u001b[1m3s\u001b[0m 3ms/step - accuracy: 0.7319 - loss: 0.5454 - val_accuracy: 0.7443 - val_loss: 0.5417\n",
            "Epoch 21/30\n",
            "\u001b[1m996/996\u001b[0m \u001b[32m━━━━━━━━━━━━━━━━━━━━\u001b[0m\u001b[37m\u001b[0m \u001b[1m4s\u001b[0m 4ms/step - accuracy: 0.7303 - loss: 0.5468 - val_accuracy: 0.7378 - val_loss: 0.5347\n"
          ]
        }
      ]
    },
    {
      "cell_type": "code",
      "source": [
        "#To predict for the test data\n",
        "X_test=np.array(test_sequences_scaled)\n",
        "X_test=X_test.reshape((X_test.shape[0],1,X_test.shape[1]))\n",
        "\n",
        "\n",
        "y_test_pred_RNN = best_model.predict(X_test)\n",
        "binary_predictions = (y_test_pred_RNN > 0.5).astype(int)\n",
        "calculate_metrics(test_labels, binary_predictions)\n",
        "#print(f\"Sensitivity: {sensitivity}, Specificity: {specificity}, MCC: {mcc}, F1 Score: {f1}, Accuracy: {accuracy}\")"
      ],
      "metadata": {
        "colab": {
          "base_uri": "https://localhost:8080/"
        },
        "id": "DHXMysZdj4fj",
        "outputId": "063e7679-5314-4c1f-9904-0751135c0729"
      },
      "execution_count": null,
      "outputs": [
        {
          "output_type": "stream",
          "name": "stdout",
          "text": [
            "\u001b[1m421/421\u001b[0m \u001b[32m━━━━━━━━━━━━━━━━━━━━\u001b[0m\u001b[37m\u001b[0m \u001b[1m5s\u001b[0m 6ms/step\n"
          ]
        },
        {
          "output_type": "execute_result",
          "data": {
            "text/plain": [
              "{'Sensitivity (Recall)': 0.6448075201432408,\n",
              " 'Specificity': 0.7458495821727019,\n",
              " 'MCC': 0.3783721326160624,\n",
              " 'F1 Score': 0.5983385254413291,\n",
              " 'Accuracy': 0.7122666071561408}"
            ]
          },
          "metadata": {},
          "execution_count": 37
        }
      ]
    },
    {
      "cell_type": "markdown",
      "source": [
        "RNN metrics on Test Data\n",
        "\n",
        "{'Sensitivity (Recall)': 0.6342882721575649,\n",
        " 'Specificity': 0.7634540389972145,\n",
        " 'MCC': 0.38834223936791373,\n",
        " 'F1 Score': 0.6013793103448276,\n",
        " 'Accuracy': 0.7205236926281336}"
      ],
      "metadata": {
        "id": "S-nBGVvUk1ro"
      }
    },
    {
      "cell_type": "code",
      "execution_count": null,
      "metadata": {
        "id": "O7DjS-FxvduZ"
      },
      "outputs": [],
      "source": [
        "def plot_best_model_history(best_history):\n",
        "    plt.figure(figsize=(10, 6))\n",
        "\n",
        "    # Extract values from history\n",
        "    accuracy = best_history.history['accuracy']\n",
        "    val_accuracy = best_history.history['val_accuracy']\n",
        "    loss = best_history.history['loss']\n",
        "    val_loss = best_history.history['val_loss']\n",
        "\n",
        "    epochs = range(1, len(accuracy) + 1)\n",
        "\n",
        "    # Plot all lines on the same graph\n",
        "    plt.plot(epochs, accuracy, label='Training Accuracy',color='blue')\n",
        "    plt.plot(epochs, val_accuracy, label='Validation Accuracy',color='green')\n",
        "    plt.plot(epochs, loss, label='Training Loss',color='yellow')\n",
        "    plt.plot(epochs, val_loss, label='Validation Loss',color='red')\n",
        "\n",
        "    # Adding labels and title\n",
        "    plt.title('Best Model: Training & Validation Loss and Accuracy')\n",
        "    plt.xlabel('Epochs')\n",
        "    plt.ylabel('Value')\n",
        "    plt.legend()\n",
        "\n",
        "    # Show the plot\n",
        "    plt.show()"
      ]
    },
    {
      "cell_type": "code",
      "execution_count": null,
      "metadata": {
        "id": "dz_oeSsUvhdb"
      },
      "outputs": [],
      "source": [
        "#For initial testing, not applicable to best model\n",
        "\n",
        "def plot_metrics_over_models(metrics_list):\n",
        "    plt.figure(figsize=(10, 6))\n",
        "\n",
        "    # Extract sensitivity, specificity, and MCC from metrics_list\n",
        "    sensitivities = [entry[3] for entry in metrics_list]\n",
        "    specificities = [entry[4] for entry in metrics_list]\n",
        "    mccs = [entry[5] for entry in metrics_list]\n",
        "\n",
        "    models = range(1, len(sensitivities) + 1)#model number to be plotted on the X axis\n",
        "\n",
        "    # Plot lines\n",
        "    plt.plot(models, sensitivities, label='Sensitivity',color='lightblue')\n",
        "    plt.plot(models, specificities, label='Specificity',color='lightgreen')\n",
        "    plt.plot(models, mccs, label='MCC',color='pink')\n",
        "\n",
        "    # Find the maximum points\n",
        "    max_sens = max(sensitivities)\n",
        "    max_spec = max(specificities)\n",
        "    max_mcc = max(mccs)\n",
        "\n",
        "    max_sens_idx = sensitivities.index(max_sens) + 1\n",
        "    max_spec_idx = specificities.index(max_spec) + 1\n",
        "    max_mcc_idx = mccs.index(max_mcc) + 1\n",
        "\n",
        "    # Mark the maximum points on the graph\n",
        "    plt.scatter(max_sens_idx, max_sens, color='blue')\n",
        "    plt.text(max_sens_idx, max_sens, f'Max Sens: {round(max_sens,2)}', fontsize=10)\n",
        "\n",
        "    plt.scatter(max_spec_idx, max_spec, color='green')\n",
        "    plt.text(max_spec_idx, max_spec, f'Max Spec: {round(max_spec,2)}', fontsize=10)\n",
        "\n",
        "    plt.scatter(max_mcc_idx, max_mcc, color='red')\n",
        "    plt.text(max_mcc_idx, max_mcc, f'Max MCC: {round(max_mcc,2)}', fontsize=10)\n",
        "\n",
        "    # Adding labels and title\n",
        "    plt.title('Sensitivity, Specificity, and MCC Across All Models')\n",
        "    plt.xlabel('Model Index')\n",
        "    plt.ylabel('Value')\n",
        "    plt.legend()\n",
        "\n",
        "    # Show the plot\n",
        "    plt.show()"
      ]
    },
    {
      "cell_type": "code",
      "execution_count": null,
      "metadata": {
        "colab": {
          "base_uri": "https://localhost:8080/",
          "height": 564
        },
        "id": "W6bHY1WMvkmQ",
        "outputId": "b2f5b6c7-f088-4f83-a39e-694ee4c47fd9"
      },
      "outputs": [
        {
          "output_type": "display_data",
          "data": {
            "text/plain": [
              "<Figure size 1000x600 with 1 Axes>"
            ],
            "image/png": "[encoded data removed]"
          },
          "metadata": {}
        }
      ],
      "source": [
        "plot_best_model_history(best_history)\n",
        "#plot_metrics_over_models(metrics_list)"
      ]
    },
    {
      "cell_type": "markdown",
      "source": [
        "# Saving Models as pickle files for reusability"
      ],
      "metadata": {
        "id": "fjf6wmGR4vIM"
      }
    },
    {
      "cell_type": "code",
      "source": [
        "# both models are saved into pickle files\n",
        "import pickle as pkl\n",
        "\n",
        "stacked_filename=\"entire_stacked_model.pkl\"\n",
        "rnn_filename=\"entire_rnn_model.pkl\"\n",
        "\n",
        "with open(stacked_filename, 'wb') as file:\n",
        "    pkl.dump(entire_stacked_model, file)\n",
        "\n",
        "with open(rnn_filename, 'wb') as file:\n",
        "    pkl.dump(best_model, file)"
      ],
      "metadata": {
        "id": "A62mNuea4t56"
      },
      "execution_count": null,
      "outputs": []
    },
    {
      "cell_type": "code",
      "source": [
        "# code to load models from pickle files\n",
        "# uncomment as and when needed\n",
        "#filename=\"entire_stacked_model.pkl\"\n",
        "#filename=\"entire_rnn_model.pkl\"\n",
        "#with open(filename, 'rb') as file:\n",
        "     #loaded_model = pkl.load(file)"
      ],
      "metadata": {
        "id": "8WNEnXDLzdiA"
      },
      "execution_count": null,
      "outputs": []
    }
  ],
  "metadata": {
    "accelerator": "GPU",
    "colab": {
      "gpuType": "T4",
      "provenance": []
    },
    "kernelspec": {
      "display_name": "Python 3",
      "name": "python3"
    },
    "language_info": {
      "name": "python"
    }
  },
  "nbformat": 4,
  "nbformat_minor": 0
}